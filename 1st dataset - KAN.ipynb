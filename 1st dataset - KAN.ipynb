{
 "cells": [
  {
   "cell_type": "code",
   "execution_count": 1,
   "id": "6a0ecc79",
   "metadata": {},
   "outputs": [],
   "source": [
    "import tensorflow as tf\n",
    "import torch\n",
    "\n",
    "import pandas as pd\n",
    "\n",
    "from sklearn.preprocessing import OneHotEncoder, StandardScaler\n",
    "from sklearn.compose import ColumnTransformer\n",
    "from sklearn.pipeline import Pipeline\n",
    "from sklearn.impute import SimpleImputer\n",
    "from sklearn.model_selection import train_test_split\n",
    "import numpy as np\n",
    "\n",
    "from kan import *\n",
    "import time\n",
    "\n",
    "from sklearn.metrics import confusion_matrix, accuracy_score\n",
    "import seaborn as sns\n",
    "import csv\n",
    "\n",
    "from sklearn.model_selection import KFold\n",
    "\n",
    "from sklearn.feature_selection import SelectKBest\n",
    "from sklearn.feature_selection import mutual_info_regression, f_regression, chi2, f_classif, mutual_info_classif\n",
    "from sklearn.preprocessing import OrdinalEncoder"
   ]
  },
  {
   "cell_type": "code",
   "execution_count": 2,
   "id": "354352f4",
   "metadata": {},
   "outputs": [
    {
     "name": "stdout",
     "output_type": "stream",
     "text": [
      "True\n",
      "[PhysicalDevice(name='/physical_device:GPU:0', device_type='GPU')]\n",
      "cuda\n"
     ]
    }
   ],
   "source": [
    "print(tf.test.is_built_with_cuda())\n",
    "print(tf.config.list_physical_devices('GPU'))\n",
    "device = torch.device(\"cuda\" if torch.cuda.is_available() else \"cpu\")\n",
    "print(device)"
   ]
  },
  {
   "cell_type": "code",
   "execution_count": 3,
   "id": "ce429074",
   "metadata": {},
   "outputs": [],
   "source": [
    "# read dataset\n",
    "df = pd.read_csv(\"Dataset/lead_scoring/Leads.csv\")"
   ]
  },
  {
   "cell_type": "code",
   "execution_count": 4,
   "id": "db8baa56",
   "metadata": {},
   "outputs": [],
   "source": [
    "# preprocessing steps for numerical and categorical data (remove id, drop constant, replace missing value, encode, scale)\n",
    "# drop id\n",
    "df = df.drop([\"Prospect ID\", \"Lead Number\"], axis = 1)\n",
    "\n",
    "# drop columns with only 1 distinct value\n",
    "cat_cols = [col for col in df.select_dtypes(exclude = np.number).columns]\n",
    "x = df[cat_cols].nunique()\n",
    "cols_to_drop = list(x[x < 2].index)\n",
    "df.drop(cols_to_drop, axis = 1, inplace = True)\n",
    "\n",
    "# replace select to null value (later will change to Unknown)\n",
    "df.replace('Select', '', inplace=True)\n",
    "\n",
    "numeric_features = df.drop([\"Converted\"], axis = 1).select_dtypes(include=['int64', 'float64']).columns\n",
    "categorical_features = df.select_dtypes(include=['object']).columns\n",
    "\n",
    "numeric_transformer = Pipeline(steps=[\n",
    "    ('imputer', SimpleImputer(strategy='constant', fill_value=0)),\n",
    "    ('scaler', StandardScaler())\n",
    "])\n",
    "\n",
    "categorical_transformer = Pipeline(steps=[\n",
    "    ('imputer', SimpleImputer(strategy='constant', fill_value='Unknown')),\n",
    "    ('onehot', OneHotEncoder(handle_unknown='ignore'))\n",
    "])\n",
    "\n",
    "preprocessor = ColumnTransformer(\n",
    "    transformers=[\n",
    "        ('num', numeric_transformer, numeric_features),\n",
    "        ('cat', categorical_transformer, categorical_features)\n",
    "    ])\n",
    "\n",
    "features = preprocessor.fit_transform(df)\n",
    "target = df['Converted']"
   ]
  },
  {
   "cell_type": "code",
   "execution_count": 5,
   "id": "25b95538",
   "metadata": {},
   "outputs": [],
   "source": [
    "# # preprocessing steps for numerical and categorical data (remove id, drop constant, replace missing value, encode, scale)\n",
    "# # drop id\n",
    "# df = df.drop([\"Prospect ID\", \"Lead Number\"], axis = 1)\n",
    "\n",
    "# # drop columns with only 1 distinct value\n",
    "# cat_cols = [col for col in df.select_dtypes(exclude = np.number).columns]\n",
    "# x = df[cat_cols].nunique()\n",
    "# cols_to_drop = list(x[x < 2].index)\n",
    "# df.drop(cols_to_drop, axis = 1, inplace = True)\n",
    "\n",
    "# # replace select to null value (later will change to Unknown)\n",
    "# df.replace('Select', '', inplace=True)\n",
    "\n",
    "# # replace NaN and empty values\n",
    "# numerical_cols = df.select_dtypes(exclude=['object']).columns\n",
    "# categorical_cols = df.select_dtypes(include=['object']).columns\n",
    "\n",
    "# # for column in categorical_cols:\n",
    "# #     df[column] = df[column].replace(to_replace=[np.nan, '', 'nan'], value='Unknown')\n",
    "    \n",
    "# for column in numerical_cols:\n",
    "#     df[column] = pd.to_numeric(df[column], errors='coerce')\n",
    "#     df[column] = df[column].fillna(0)\n",
    "\n",
    "# scaler = StandardScaler()\n",
    "# ohe = OneHotEncoder(drop='first', sparse_output=False)\n",
    "\n",
    "# preprocessor = ColumnTransformer(\n",
    "#     transformers=[\n",
    "#         ('num', scaler, numerical_cols),\n",
    "#         ('cat', ohe, categorical_cols)\n",
    "#     ]\n",
    "# )\n",
    "\n",
    "# features = preprocessor.fit_transform(df)\n",
    "# target = df['Converted']"
   ]
  },
  {
   "cell_type": "code",
   "execution_count": 6,
   "id": "18a21ddf",
   "metadata": {},
   "outputs": [],
   "source": [
    "# from gitfront.io\n",
    "X_train, X_temp, y_train, y_temp = train_test_split(features, target, test_size=0.6, random_state=42)\n",
    "X_test, X_val, y_test, y_val = train_test_split(X_temp, y_temp, test_size=0.5, random_state=42)\n",
    "\n",
    "train_input = torch.tensor(X_train.todense(), dtype=torch.float32).to(device)\n",
    "test_input = torch.tensor(X_test.todense(), dtype=torch.float32).to(device)\n",
    "val_input = torch.tensor(X_val.todense(), dtype=torch.float32).to(device)\n",
    "\n",
    "train_label = torch.tensor(np.array(y_train).reshape(-1, 1), dtype=torch.float32).to(device)\n",
    "test_label = torch.tensor(np.array(y_test).reshape(-1, 1), dtype=torch.float32).to(device)\n",
    "val_label = torch.tensor(np.array(y_val).reshape(-1, 1), dtype=torch.float32).to(device)\n",
    "\n",
    "dataset = {\n",
    "    'train_input' : train_input,\n",
    "    'test_input'  : test_input,\n",
    "    'train_label' : train_label,\n",
    "    'test_label'  : test_label,\n",
    "    'val_input'   : val_input,\n",
    "    'val_label'   : val_label\n",
    "}"
   ]
  },
  {
   "cell_type": "code",
   "execution_count": 7,
   "id": "5e3b2452",
   "metadata": {},
   "outputs": [],
   "source": [
    "# # X_train, X_temp, y_train, y_temp = train_test_split(features, target, test_size=0.2, random_state=42)\n",
    "# # X_test, X_val, y_test, y_val = train_test_split(X_temp, y_temp, test_size=0.2, random_state=42)\n",
    "# X_train, X_temp, y_train, y_temp = train_test_split(features, target, test_size=0.6, random_state=42)\n",
    "# X_test, X_val, y_test, y_val = train_test_split(X_temp, y_temp, test_size=0.5, random_state=42)\n",
    "\n",
    "# train_input = torch.tensor(X_train, dtype=torch.float32).to(device)\n",
    "# test_input = torch.tensor(X_test, dtype=torch.float32).to(device)\n",
    "# val_input = torch.tensor(X_val, dtype=torch.float32).to(device)\n",
    "\n",
    "# train_label = torch.tensor(np.array(y_train).reshape(-1, 1), dtype=torch.float32).to(device)\n",
    "# test_label = torch.tensor(np.array(y_test).reshape(-1, 1), dtype=torch.float32).to(device)\n",
    "# val_label = torch.tensor(np.array(y_val).reshape(-1, 1), dtype=torch.float32).to(device)\n",
    "\n",
    "# dataset = {\n",
    "#     'train_input' : train_input,\n",
    "#     'test_input'  : test_input,\n",
    "#     'train_label' : train_label,\n",
    "#     'test_label'  : test_label,\n",
    "#     'val_input'   : val_input,\n",
    "#     'val_label'   : val_label\n",
    "# }"
   ]
  },
  {
   "cell_type": "code",
   "execution_count": 8,
   "id": "0b834e98",
   "metadata": {},
   "outputs": [],
   "source": [
    "def train_acc():\n",
    "    return torch.mean((torch.round(model(dataset['train_input'])[:,0]) == dataset['train_label'][:,0]).float())\n",
    "\n",
    "def test_acc():\n",
    "    return torch.mean((torch.round(model(dataset['test_input'])[:,0]) == dataset['test_label'][:,0]).float())"
   ]
  },
  {
   "cell_type": "code",
   "execution_count": 9,
   "id": "fdca6b0e",
   "metadata": {},
   "outputs": [],
   "source": [
    "torch.cuda.empty_cache()"
   ]
  },
  {
   "cell_type": "code",
   "execution_count": 10,
   "id": "8c6f8ac8",
   "metadata": {},
   "outputs": [
    {
     "name": "stderr",
     "output_type": "stream",
     "text": [
      "train loss: 1.91e-01 | test loss: 2.15e-01 | reg: 2.19e+02 : 100%|█| 100/100 [23:08<00:00, 13.89s/it"
     ]
    },
    {
     "name": "stdout",
     "output_type": "stream",
     "text": [
      "Accuracy 0.9561688303947449 0.9430014491081238\n",
      "Duration 1388.5618779659271\n"
     ]
    },
    {
     "name": "stderr",
     "output_type": "stream",
     "text": [
      "\n"
     ]
    }
   ],
   "source": [
    "st = time.time()\n",
    "\n",
    "# best_model = {'grid': 50, 'k': 5, 'step': 100, 'lamb': 0, 'lamb_entropy': 0}\n",
    "\n",
    "# model = KAN(width=[dataset['train_input'].shape[1], 3, 1], grid=best_model['grid'], k=best_model['k'], device=device).to(device)\n",
    "# final_result = model.train(dataset, opt=\"LBFGS\", steps=best_model['step'], lamb=best_model['lamb'], lamb_entropy=best_model['lamb_entropy'], metrics=(train_acc, test_acc), device=device)\n",
    "model = KAN(width=[dataset['train_input'].shape[1], 3, 1], device=device).to(device)\n",
    "final_result = model.train(dataset, metrics=(train_acc, test_acc), device=device)\n",
    "\n",
    "et = time.time()\n",
    "duration_b4 = et-st\n",
    "\n",
    "print(\"Accuracy\", final_result['train_acc'][-1], final_result['test_acc'][-1])\n",
    "print(\"Duration\", duration_b4)"
   ]
  },
  {
   "cell_type": "code",
   "execution_count": 11,
   "id": "ccc163e8",
   "metadata": {},
   "outputs": [
    {
     "data": {
      "image/png": "[encoded data removed]",
      "text/plain": [
       "<Figure size 640x480 with 2 Axes>"
      ]
     },
     "metadata": {},
     "output_type": "display_data"
    },
    {
     "name": "stdout",
     "output_type": "stream",
     "text": [
      "Accuracy: 0.943001443001443\n",
      "Precision: 0.9312015503875969\n",
      "Recall: 0.9169847328244275\n",
      "F1 Score: 0.9240384615384615\n"
     ]
    }
   ],
   "source": [
    "# get predicted values\n",
    "with torch.no_grad():\n",
    "    test_inputs = dataset['test_input'].clone().detach().to(device)\n",
    "    actual_labels = dataset['test_label'].clone().detach().to(device)\n",
    "    predicted_probs = model(test_inputs)\n",
    "    predicted_labels = (predicted_probs > 0.5).float()\n",
    "    \n",
    "y_pred = predicted_labels.cpu().numpy()\n",
    "y_true = actual_labels.cpu().numpy()\n",
    "\n",
    "conf_matrix = confusion_matrix(y_true, y_pred)\n",
    "tn, fp, fn, tp = confusion_matrix(y_true, y_pred).ravel()\n",
    "\n",
    "accuracy_b4 = (tn+tp)/(tn+fp+fn+tp)\n",
    "precision_b4 = tp / (tp + fp) if (tp + fp) != 0 else 0\n",
    "recall_b4 = tp / (tp + fn) if (tp + fn) != 0 else 0\n",
    "f1_score_b4 = 2 * (precision_b4 * recall_b4) / (precision_b4 + recall_b4) if (precision_b4 + recall_b4) != 0 else 0\n",
    "\n",
    "# confusion matrix heatmap\n",
    "plt.figure()\n",
    "sns.heatmap(conf_matrix, annot=True, fmt='d', cmap='Blues', xticklabels=['Not Converted', 'Converted'], yticklabels=['Not Converted', 'Converted'])\n",
    "plt.xlabel('Predicted')\n",
    "plt.ylabel('Actual')\n",
    "plt.show()\n",
    "\n",
    "# performance metrics\n",
    "print(f'Accuracy: {accuracy_b4}')\n",
    "print(f'Precision: {precision_b4}')\n",
    "print(f'Recall: {recall_b4}')\n",
    "print(f'F1 Score: {f1_score_b4}')"
   ]
  },
  {
   "cell_type": "code",
   "execution_count": 12,
   "id": "d9bb2194",
   "metadata": {},
   "outputs": [
    {
     "name": "stdout",
     "output_type": "stream",
     "text": [
      "\n",
      "Training with grid = 1\n"
     ]
    },
    {
     "name": "stderr",
     "output_type": "stream",
     "text": [
      "train loss: 1.89e-01 | test loss: 2.16e-01 | reg: 3.96e+02 : 100%|█| 100/100 [23:57<00:00, 14.37s/it\n"
     ]
    },
    {
     "name": "stdout",
     "output_type": "stream",
     "text": [
      "Train Accuracy: 0.9570, Test Accuracy: 0.9437, Duration: 1437.36 sec\n",
      "\n",
      "Training with grid = 3\n"
     ]
    },
    {
     "name": "stderr",
     "output_type": "stream",
     "text": [
      "train loss: 1.72e-01 | test loss: 3.22e-01 | reg: 2.59e+02 : 100%|█| 100/100 [23:09<00:00, 13.89s/it\n"
     ]
    },
    {
     "name": "stdout",
     "output_type": "stream",
     "text": [
      "Train Accuracy: 0.9656, Test Accuracy: 0.9318, Duration: 1389.45 sec\n",
      "\n",
      "Training with grid = 5\n"
     ]
    },
    {
     "name": "stderr",
     "output_type": "stream",
     "text": [
      "train loss: 1.72e-01 | test loss: 2.26e-01 | reg: 2.12e+02 : 100%|█| 100/100 [23:42<00:00, 14.22s/it\n"
     ]
    },
    {
     "name": "stdout",
     "output_type": "stream",
     "text": [
      "Train Accuracy: 0.9646, Test Accuracy: 0.9361, Duration: 1422.43 sec\n",
      "\n",
      "Training with grid = 7\n"
     ]
    },
    {
     "name": "stderr",
     "output_type": "stream",
     "text": [
      "train loss: 1.66e-01 | test loss: 2.64e-01 | reg: 1.29e+02 : 100%|█| 100/100 [23:06<00:00, 13.86s/it"
     ]
    },
    {
     "name": "stdout",
     "output_type": "stream",
     "text": [
      "Train Accuracy: 0.9692, Test Accuracy: 0.9318, Duration: 1386.52 sec\n"
     ]
    },
    {
     "name": "stderr",
     "output_type": "stream",
     "text": [
      "\n"
     ]
    }
   ],
   "source": [
    "# fine-tune grid\n",
    "st = time.time()\n",
    "\n",
    "grid_values = [1, 3, 5, 7]\n",
    "results = []\n",
    "\n",
    "for grid_val in grid_values:\n",
    "    print(f\"\\nTraining with grid = {grid_val}\")\n",
    "    \n",
    "    st = time.time()\n",
    "    \n",
    "    model = KAN(width=[dataset['train_input'].shape[1], 3, 1], grid=grid_val, device=device).to(device)\n",
    "    final_result = model.train(dataset, opt=\"LBFGS\", metrics=(train_acc, test_acc), device=device)\n",
    "    \n",
    "    et = time.time()\n",
    "    duration = et - st\n",
    "    \n",
    "    train_accuracy = final_result['train_acc'][-1]\n",
    "    test_accuracy = final_result['test_acc'][-1]\n",
    "\n",
    "    print(f\"Train Accuracy: {train_accuracy:.4f}, Test Accuracy: {test_accuracy:.4f}, Duration: {duration:.2f} sec\")"
   ]
  },
  {
   "cell_type": "code",
   "execution_count": null,
   "id": "ba3a1de5",
   "metadata": {},
   "outputs": [],
   "source": [
    "# here"
   ]
  },
  {
   "cell_type": "code",
   "execution_count": 13,
   "id": "dd6c4ea5",
   "metadata": {
    "scrolled": false
   },
   "outputs": [
    {
     "name": "stdout",
     "output_type": "stream",
     "text": [
      "\n",
      "Training with k = 1\n"
     ]
    },
    {
     "name": "stderr",
     "output_type": "stream",
     "text": [
      "train loss: 2.02e-01 | test loss: 2.19e-01 | reg: 4.55e+02 : 100%|█| 100/100 [22:05<00:00, 13.25s/it\n"
     ]
    },
    {
     "name": "stdout",
     "output_type": "stream",
     "text": [
      "Train Accuracy: 0.9518, Test Accuracy: 0.9434, Duration: 1325.10 sec\n",
      "\n",
      "Training with k = 3\n"
     ]
    },
    {
     "name": "stderr",
     "output_type": "stream",
     "text": [
      "train loss: 1.96e-01 | test loss: 2.16e-01 | reg: 6.11e+02 : 100%|█| 100/100 [23:37<00:00, 14.18s/it\n"
     ]
    },
    {
     "name": "stdout",
     "output_type": "stream",
     "text": [
      "Train Accuracy: 0.9521, Test Accuracy: 0.9448, Duration: 1417.90 sec\n",
      "\n",
      "Training with k = 5\n"
     ]
    },
    {
     "name": "stderr",
     "output_type": "stream",
     "text": [
      "train loss: 1.85e-01 | test loss: 2.25e-01 | reg: 3.61e+02 : 100%|█| 100/100 [23:26<00:00, 14.07s/it\n"
     ]
    },
    {
     "name": "stdout",
     "output_type": "stream",
     "text": [
      "Train Accuracy: 0.9602, Test Accuracy: 0.9419, Duration: 1406.77 sec\n",
      "\n",
      "Training with k = 7\n"
     ]
    },
    {
     "name": "stderr",
     "output_type": "stream",
     "text": [
      "train loss: 2.07e-01 | test loss: 2.25e-01 | reg: 5.29e+02 : 100%|█| 100/100 [24:27<00:00, 14.68s/it"
     ]
    },
    {
     "name": "stdout",
     "output_type": "stream",
     "text": [
      "Train Accuracy: 0.9499, Test Accuracy: 0.9387, Duration: 1467.84 sec\n"
     ]
    },
    {
     "name": "stderr",
     "output_type": "stream",
     "text": [
      "\n"
     ]
    }
   ],
   "source": [
    "# fine-tune k\n",
    "st = time.time()\n",
    "\n",
    "k_values = [1, 3, 5, 7]\n",
    "results = []\n",
    "\n",
    "for k_val in k_values:\n",
    "    print(f\"\\nTraining with k = {k_val}\")\n",
    "    \n",
    "    st = time.time()\n",
    "    \n",
    "    model = KAN(width=[dataset['train_input'].shape[1], 3, 1], grid=1, k=k_val, device=device).to(device)\n",
    "    final_result = model.train(dataset, opt=\"LBFGS\", metrics=(train_acc, test_acc), device=device)\n",
    "    \n",
    "    et = time.time()\n",
    "    duration = et - st\n",
    "    \n",
    "    train_accuracy = final_result['train_acc'][-1]\n",
    "    test_accuracy = final_result['test_acc'][-1]\n",
    "\n",
    "    print(f\"Train Accuracy: {train_accuracy:.4f}, Test Accuracy: {test_accuracy:.4f}, Duration: {duration:.2f} sec\")"
   ]
  },
  {
   "cell_type": "code",
   "execution_count": 14,
   "id": "e0a0ce93",
   "metadata": {},
   "outputs": [
    {
     "name": "stdout",
     "output_type": "stream",
     "text": [
      "\n",
      "Training with step = 25\n"
     ]
    },
    {
     "name": "stderr",
     "output_type": "stream",
     "text": [
      "train loss: 2.04e-01 | test loss: 2.16e-01 | reg: 4.48e+02 : 100%|██| 25/25 [06:08<00:00, 14.76s/it]\n"
     ]
    },
    {
     "name": "stdout",
     "output_type": "stream",
     "text": [
      "Train Accuracy: 0.9521, Test Accuracy: 0.9419, Duration: 368.98 sec\n",
      "\n",
      "Training with step = 50\n"
     ]
    },
    {
     "name": "stderr",
     "output_type": "stream",
     "text": [
      "train loss: 2.02e-01 | test loss: 2.16e-01 | reg: 4.84e+02 : 100%|██| 50/50 [12:17<00:00, 14.75s/it]\n"
     ]
    },
    {
     "name": "stdout",
     "output_type": "stream",
     "text": [
      "Train Accuracy: 0.9527, Test Accuracy: 0.9437, Duration: 737.36 sec\n",
      "\n",
      "Training with step = 75\n"
     ]
    },
    {
     "name": "stderr",
     "output_type": "stream",
     "text": [
      "train loss: 1.89e-01 | test loss: 2.18e-01 | reg: 4.86e+02 : 100%|██| 75/75 [18:04<00:00, 14.46s/it]\n"
     ]
    },
    {
     "name": "stdout",
     "output_type": "stream",
     "text": [
      "Train Accuracy: 0.9564, Test Accuracy: 0.9398, Duration: 1084.63 sec\n",
      "\n",
      "Training with step = 100\n"
     ]
    },
    {
     "name": "stderr",
     "output_type": "stream",
     "text": [
      "train loss: 1.93e-01 | test loss: 2.15e-01 | reg: 5.15e+02 : 100%|█| 100/100 [24:22<00:00, 14.62s/it"
     ]
    },
    {
     "name": "stdout",
     "output_type": "stream",
     "text": [
      "Train Accuracy: 0.9540, Test Accuracy: 0.9423, Duration: 1462.41 sec\n"
     ]
    },
    {
     "name": "stderr",
     "output_type": "stream",
     "text": [
      "\n"
     ]
    }
   ],
   "source": [
    "# fine-tune step\n",
    "st = time.time()\n",
    "\n",
    "step_values = [25, 50, 75, 100]\n",
    "results = []\n",
    "\n",
    "for step_val in step_values:\n",
    "    print(f\"\\nTraining with step = {step_val}\")\n",
    "    \n",
    "    st = time.time()\n",
    "    \n",
    "    model = KAN(width=[dataset['train_input'].shape[1], 3, 1], grid=1, k=3, device=device).to(device)\n",
    "    final_result = model.train(dataset, opt=\"LBFGS\", steps=step_val, metrics=(train_acc, test_acc), device=device)\n",
    "    \n",
    "    et = time.time()\n",
    "    duration = et - st\n",
    "    \n",
    "    train_accuracy = final_result['train_acc'][-1]\n",
    "    test_accuracy = final_result['test_acc'][-1]\n",
    "\n",
    "    print(f\"Train Accuracy: {train_accuracy:.4f}, Test Accuracy: {test_accuracy:.4f}, Duration: {duration:.2f} sec\")"
   ]
  },
  {
   "cell_type": "code",
   "execution_count": 15,
   "id": "f36c6033",
   "metadata": {},
   "outputs": [
    {
     "name": "stdout",
     "output_type": "stream",
     "text": [
      "\n",
      "Training with lamb = [0, 0.1, 0.01, 0.001]\n"
     ]
    },
    {
     "name": "stderr",
     "output_type": "stream",
     "text": [
      "train loss: 1.94e-01 | test loss: 2.13e-01 | reg: 4.16e+02 : 100%|██| 50/50 [12:14<00:00, 14.70s/it]\n"
     ]
    },
    {
     "name": "stdout",
     "output_type": "stream",
     "text": [
      "Train Accuracy: 0.9543, Test Accuracy: 0.9452, Duration: 734.84 sec\n",
      "\n",
      "Training with lamb = [0, 0.1, 0.01, 0.001]\n"
     ]
    },
    {
     "name": "stderr",
     "output_type": "stream",
     "text": [
      "train loss: 6.49e-01 | test loss: 6.49e-01 | reg: 3.47e+01 : 100%|██| 50/50 [04:03<00:00,  4.87s/it]\n"
     ]
    },
    {
     "name": "stdout",
     "output_type": "stream",
     "text": [
      "Train Accuracy: 0.5419, Test Accuracy: 0.5321, Duration: 243.74 sec\n",
      "\n",
      "Training with lamb = [0, 0.1, 0.01, 0.001]\n"
     ]
    },
    {
     "name": "stderr",
     "output_type": "stream",
     "text": [
      "train loss: 5.26e-01 | test loss: 5.23e-01 | reg: 3.43e+01 : 100%|██| 50/50 [07:47<00:00,  9.36s/it]\n"
     ]
    },
    {
     "name": "stdout",
     "output_type": "stream",
     "text": [
      "Train Accuracy: 0.5749, Test Accuracy: 0.5927, Duration: 467.77 sec\n",
      "\n",
      "Training with lamb = [0, 0.1, 0.01, 0.001]\n"
     ]
    },
    {
     "name": "stderr",
     "output_type": "stream",
     "text": [
      "train loss: 2.88e-01 | test loss: 2.85e-01 | reg: 3.46e+01 : 100%|██| 50/50 [07:06<00:00,  8.53s/it]"
     ]
    },
    {
     "name": "stdout",
     "output_type": "stream",
     "text": [
      "Train Accuracy: 0.8999, Test Accuracy: 0.9058, Duration: 426.39 sec\n"
     ]
    },
    {
     "name": "stderr",
     "output_type": "stream",
     "text": [
      "\n"
     ]
    }
   ],
   "source": [
    "# fine-tune lamb\n",
    "st = time.time()\n",
    "\n",
    "lamb_values = [0, 0.1, 0.01, 0.001]\n",
    "results = []\n",
    "\n",
    "for lamb_val in lamb_values:\n",
    "    print(f\"\\nTraining with lamb = {lamb_values}\")\n",
    "    \n",
    "    st = time.time()\n",
    "    \n",
    "    model = KAN(width=[dataset['train_input'].shape[1], 3, 1], grid=1, k=3, device=device).to(device)\n",
    "    final_result = model.train(dataset, opt=\"LBFGS\", steps=50, lamb=lamb_val, metrics=(train_acc, test_acc), device=device)\n",
    "    \n",
    "    et = time.time()\n",
    "    duration = et - st\n",
    "    \n",
    "    train_accuracy = final_result['train_acc'][-1]\n",
    "    test_accuracy = final_result['test_acc'][-1]\n",
    "\n",
    "    print(f\"Train Accuracy: {train_accuracy:.4f}, Test Accuracy: {test_accuracy:.4f}, Duration: {duration:.2f} sec\")"
   ]
  },
  {
   "cell_type": "code",
   "execution_count": 16,
   "id": "2d703076",
   "metadata": {},
   "outputs": [
    {
     "name": "stderr",
     "output_type": "stream",
     "text": [
      "train loss: 1.97e-01 | test loss: 2.14e-01 | reg: 4.74e+02 : 100%|██| 50/50 [12:26<00:00, 14.93s/it]"
     ]
    },
    {
     "name": "stdout",
     "output_type": "stream",
     "text": [
      "Accuracy 0.9521104097366333 0.9433621764183044\n",
      "Duration 746.5662672519684\n"
     ]
    },
    {
     "name": "stderr",
     "output_type": "stream",
     "text": [
      "\n"
     ]
    },
    {
     "data": {
      "image/png": "[encoded data removed]",
      "text/plain": [
       "<Figure size 640x480 with 2 Axes>"
      ]
     },
     "metadata": {},
     "output_type": "display_data"
    },
    {
     "name": "stdout",
     "output_type": "stream",
     "text": [
      "Accuracy: 0.9433621933621934\n",
      "Precision: 0.9354838709677419\n",
      "Recall: 0.9131679389312977\n",
      "F1 Score: 0.9241912119748912\n"
     ]
    }
   ],
   "source": [
    "# after fine-tune\n",
    "st = time.time()\n",
    "\n",
    "best_model = {'grid': 1, 'k': 3, 'step': 50, 'lamb': 0, 'lamb_entropy': 0}\n",
    "\n",
    "model = KAN(width=[dataset['train_input'].shape[1], 3, 1], grid=best_model['grid'], k=best_model['k'], device=device).to(device)\n",
    "final_result = model.train(dataset, opt=\"LBFGS\", steps=best_model['step'], lamb=best_model['lamb'], lamb_entropy=best_model['lamb_entropy'], metrics=(train_acc, test_acc), device=device)\n",
    "\n",
    "et = time.time()\n",
    "duration = et-st\n",
    "\n",
    "print(\"Accuracy\", final_result['train_acc'][-1], final_result['test_acc'][-1])\n",
    "print(\"Duration\", duration)\n",
    "\n",
    "# get predicted values\n",
    "with torch.no_grad():\n",
    "    test_inputs = dataset['test_input'].clone().detach().to(device)\n",
    "    actual_labels = dataset['test_label'].clone().detach().to(device)\n",
    "    predicted_probs = model(test_inputs)\n",
    "    predicted_labels = (predicted_probs > 0.5).float()\n",
    "    \n",
    "y_pred = predicted_labels.cpu().numpy()\n",
    "y_true = actual_labels.cpu().numpy()\n",
    "\n",
    "conf_matrix = confusion_matrix(y_true, y_pred)\n",
    "tn, fp, fn, tp = confusion_matrix(y_true, y_pred).ravel()\n",
    "\n",
    "accuracy = (tn+tp)/(tn+fp+fn+tp)\n",
    "precision = tp / (tp + fp) if (tp + fp) != 0 else 0\n",
    "recall = tp / (tp + fn) if (tp + fn) != 0 else 0\n",
    "f1_score = 2 * (precision * recall) / (precision + recall) if (precision + recall) != 0 else 0\n",
    "\n",
    "# confusion matrix heatmap\n",
    "plt.figure()\n",
    "sns.heatmap(conf_matrix, annot=True, fmt='d', cmap='Blues', xticklabels=['Not Converted', 'Converted'], yticklabels=['Not Converted', 'Converted'])\n",
    "plt.xlabel('Predicted')\n",
    "plt.ylabel('Actual')\n",
    "plt.show()\n",
    "\n",
    "# performance metrics\n",
    "print(f'Accuracy: {accuracy}')\n",
    "print(f'Precision: {precision}')\n",
    "print(f'Recall: {recall}')\n",
    "print(f'F1 Score: {f1_score}')"
   ]
  },
  {
   "cell_type": "code",
   "execution_count": 17,
   "id": "5df522d6",
   "metadata": {},
   "outputs": [],
   "source": [
    "# save to csv\n",
    "# filename = \"KAN_performance.csv\"\n",
    "filename = \"29.csv\"\n",
    "with open(filename, mode='w', newline='') as file:\n",
    "    writer = csv.writer(file)\n",
    "    writer.writerow([\"Metric\", \"Before\", \"After\"])\n",
    "    writer.writerow([\"Accuracy\", accuracy_b4, accuracy])\n",
    "    writer.writerow([\"Precision\", precision_b4, precision])\n",
    "    writer.writerow([\"Recall\", recall_b4, recall])\n",
    "    writer.writerow([\"F1 Score\", f1_score_b4, f1_score])\n",
    "    writer.writerow([\"Duration\", duration_b4, duration])"
   ]
  },
  {
   "cell_type": "code",
   "execution_count": null,
   "id": "989123b2",
   "metadata": {},
   "outputs": [],
   "source": []
  }
 ],
 "metadata": {
  "kernelspec": {
   "display_name": "Python (test_gpu)",
   "language": "python",
   "name": "test_gpu"
  },
  "language_info": {
   "codemirror_mode": {
    "name": "ipython",
    "version": 3
   },
   "file_extension": ".py",
   "mimetype": "text/x-python",
   "name": "python",
   "nbconvert_exporter": "python",
   "pygments_lexer": "ipython3",
   "version": "3.9.19"
  }
 },
 "nbformat": 4,
 "nbformat_minor": 5
}
