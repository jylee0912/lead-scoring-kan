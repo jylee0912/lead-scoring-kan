{
 "cells": [
  {
   "cell_type": "code",
   "execution_count": 1,
   "id": "e700da8d",
   "metadata": {},
   "outputs": [],
   "source": [
    "import tensorflow as tf\n",
    "import torch\n",
    "\n",
    "import pandas as pd\n",
    "\n",
    "from sklearn.preprocessing import OneHotEncoder, StandardScaler\n",
    "from sklearn.compose import ColumnTransformer\n",
    "from sklearn.pipeline import Pipeline\n",
    "from sklearn.impute import SimpleImputer\n",
    "from sklearn.model_selection import train_test_split\n",
    "import numpy as np\n",
    "\n",
    "from kan import *\n",
    "import time\n",
    "\n",
    "from sklearn.metrics import confusion_matrix, accuracy_score\n",
    "import seaborn as sns\n",
    "import csv\n",
    "\n",
    "from sklearn.model_selection import KFold\n",
    "\n",
    "from sklearn.feature_selection import SelectKBest\n",
    "from sklearn.feature_selection import mutual_info_regression, f_regression, chi2, f_classif, mutual_info_classif\n",
    "from sklearn.preprocessing import OrdinalEncoder"
   ]
  },
  {
   "cell_type": "code",
   "execution_count": 2,
   "id": "157bb371",
   "metadata": {},
   "outputs": [
    {
     "name": "stdout",
     "output_type": "stream",
     "text": [
      "True\n",
      "[PhysicalDevice(name='/physical_device:GPU:0', device_type='GPU')]\n",
      "cuda\n"
     ]
    }
   ],
   "source": [
    "print(tf.test.is_built_with_cuda())\n",
    "print(tf.config.list_physical_devices('GPU'))\n",
    "\n",
    "device = torch.device(\"cuda\" if torch.cuda.is_available() else \"cpu\")\n",
    "print(device)"
   ]
  },
  {
   "cell_type": "code",
   "execution_count": 3,
   "id": "03b058ea",
   "metadata": {},
   "outputs": [],
   "source": [
    "# read dataset\n",
    "df = pd.read_csv(\"Dataset/lead_scoring/Leads.csv\")"
   ]
  },
  {
   "cell_type": "code",
   "execution_count": 4,
   "id": "2da1707b",
   "metadata": {},
   "outputs": [],
   "source": [
    "# preprocessing steps for numerical and categorical data (remove id, drop constant, replace missing value, encode, scale)\n",
    "# drop id\n",
    "df = df.drop([\"Prospect ID\", \"Lead Number\"], axis = 1)\n",
    "\n",
    "# drop columns with only 1 distinct value\n",
    "cat_cols = [col for col in df.select_dtypes(exclude = np.number).columns]\n",
    "x = df[cat_cols].nunique()\n",
    "cols_to_drop = list(x[x < 2].index)\n",
    "df.drop(cols_to_drop, axis = 1, inplace = True)\n",
    "\n",
    "# replace select to null value (later will change to Unknown)\n",
    "df.replace('Select', '', inplace=True)\n",
    "\n",
    "numeric_features = df.drop([\"Converted\"], axis = 1).select_dtypes(include=['int64', 'float64']).columns\n",
    "categorical_features = df.select_dtypes(include=['object']).columns\n",
    "\n",
    "numeric_transformer = Pipeline(steps=[\n",
    "    ('imputer', SimpleImputer(strategy='constant', fill_value=0)),\n",
    "    ('scaler', StandardScaler())\n",
    "])\n",
    "\n",
    "categorical_transformer = Pipeline(steps=[\n",
    "    ('imputer', SimpleImputer(strategy='constant', fill_value='Unknown')),\n",
    "    ('onehot', OneHotEncoder(handle_unknown='ignore'))\n",
    "])\n",
    "\n",
    "preprocessor = ColumnTransformer(\n",
    "    transformers=[\n",
    "        ('num', numeric_transformer, numeric_features),\n",
    "        ('cat', categorical_transformer, categorical_features)\n",
    "    ])\n",
    "\n",
    "features = preprocessor.fit_transform(df)\n",
    "target = df['Converted']"
   ]
  },
  {
   "cell_type": "code",
   "execution_count": 5,
   "id": "df4c4b3c",
   "metadata": {},
   "outputs": [],
   "source": [
    "X_train, X_temp, y_train, y_temp = train_test_split(features, target, test_size=0.2, random_state=42)\n",
    "X_test, X_val, y_test, y_val = train_test_split(X_train, y_train, test_size=0.2, random_state=42)\n",
    "\n",
    "train_input = torch.tensor(X_train.todense(), dtype=torch.float32).to(device)\n",
    "test_input = torch.tensor(X_test.todense(), dtype=torch.float32).to(device)\n",
    "val_input = torch.tensor(X_val.todense(), dtype=torch.float32).to(device)\n",
    "\n",
    "train_label = torch.tensor(np.array(y_train).reshape(-1, 1), dtype=torch.float32).to(device)\n",
    "test_label = torch.tensor(np.array(y_test).reshape(-1, 1), dtype=torch.float32).to(device)\n",
    "val_label = torch.tensor(np.array(y_val).reshape(-1, 1), dtype=torch.float32).to(device)\n",
    "\n",
    "dataset = {\n",
    "    'train_input' : train_input,\n",
    "    'test_input'  : test_input,\n",
    "    'train_label' : train_label,\n",
    "    'test_label'  : test_label,\n",
    "    'val_input'   : val_input,\n",
    "    'val_label'   : val_label\n",
    "}"
   ]
  },
  {
   "cell_type": "code",
   "execution_count": 6,
   "id": "e8ccae70",
   "metadata": {},
   "outputs": [],
   "source": [
    "def train_acc():\n",
    "    return torch.mean((torch.round(model(dataset['train_input'])[:,0]) == dataset['train_label'][:,0]).float())\n",
    "\n",
    "def test_acc():\n",
    "    return torch.mean((torch.round(model(dataset['test_input'])[:,0]) == dataset['test_label'][:,0]).float())"
   ]
  },
  {
   "cell_type": "code",
   "execution_count": 7,
   "id": "6bd0f119",
   "metadata": {},
   "outputs": [],
   "source": [
    "torch.cuda.empty_cache()"
   ]
  },
  {
   "cell_type": "code",
   "execution_count": 8,
   "id": "fa08242b",
   "metadata": {
    "scrolled": true
   },
   "outputs": [
    {
     "name": "stderr",
     "output_type": "stream",
     "text": [
      "train loss: 1.37e-01 | test loss: 1.38e-01 | reg: 4.83e+01 : 100%|█| 100/100 [40:13<00:00, 24.14s/it"
     ]
    },
    {
     "name": "stdout",
     "output_type": "stream",
     "text": [
      "Accuracy 0.9805194735527039 0.9802131056785583\n",
      "Duration 2414.165642976761\n"
     ]
    },
    {
     "name": "stderr",
     "output_type": "stream",
     "text": [
      "\n"
     ]
    }
   ],
   "source": [
    "st = time.time()\n",
    "\n",
    "best_model = {'grid': 50, 'k': 5, 'step': 100, 'lamb': 0, 'lamb_entropy': 0}\n",
    "\n",
    "model = KAN(width=[dataset['train_input'].shape[1], 3, 1], grid=best_model['grid'], k=best_model['k'], device=device).to(device)\n",
    "final_result = model.train(dataset, opt=\"LBFGS\", steps=best_model['step'], lamb=best_model['lamb'], lamb_entropy=best_model['lamb_entropy'], metrics=(train_acc, test_acc), device=device)\n",
    "\n",
    "et = time.time()\n",
    "\n",
    "print(\"Accuracy\", final_result['train_acc'][-1], final_result['test_acc'][-1])\n",
    "print(\"Duration\", et-st)"
   ]
  },
  {
   "cell_type": "code",
   "execution_count": 9,
   "id": "373e5e56",
   "metadata": {},
   "outputs": [
    {
     "data": {
      "image/png": "[encoded data removed]",
      "text/plain": [
       "<Figure size 640x480 with 2 Axes>"
      ]
     },
     "metadata": {},
     "output_type": "display_data"
    },
    {
     "name": "stdout",
     "output_type": "stream",
     "text": [
      "Accuracy: 0.980382208692711\n",
      "Precision: 0.9769503546099291\n",
      "Recall: 0.9717813051146384\n",
      "F1 Score: 0.9743589743589745\n"
     ]
    }
   ],
   "source": [
    "# get predicted values\n",
    "with torch.no_grad():\n",
    "    test_inputs = dataset['test_input'].clone().detach().to(device)\n",
    "    actual_labels = dataset['test_label'].clone().detach().to(device)\n",
    "    predicted_probs = model(test_inputs)\n",
    "    predicted_labels = (predicted_probs > 0.5).float()\n",
    "    \n",
    "y_pred = predicted_labels.cpu().numpy()\n",
    "y_true = actual_labels.cpu().numpy()\n",
    "\n",
    "conf_matrix = confusion_matrix(y_true, y_pred)\n",
    "tn, fp, fn, tp = confusion_matrix(y_true, y_pred).ravel()\n",
    "\n",
    "accuracy = (tn+tp)/(tn+fp+fn+tp)\n",
    "precision = tp / (tp + fp) if (tp + fp) != 0 else 0\n",
    "recall = tp / (tp + fn) if (tp + fn) != 0 else 0\n",
    "f1_score = 2 * (precision * recall) / (precision + recall) if (precision + recall) != 0 else 0\n",
    "\n",
    "# confusion matrix heatmap\n",
    "plt.figure()\n",
    "sns.heatmap(conf_matrix, annot=True, fmt='d', cmap='Blues', xticklabels=['Not Converted', 'Converted'], yticklabels=['Not Converted', 'Converted'])\n",
    "plt.xlabel('Predicted')\n",
    "plt.ylabel('Actual')\n",
    "plt.show()\n",
    "\n",
    "# performance metrics\n",
    "print(f'Accuracy: {accuracy}')\n",
    "print(f'Precision: {precision}')\n",
    "print(f'Recall: {recall}')\n",
    "print(f'F1 Score: {f1_score}')\n",
    "\n",
    "# save to csv\n",
    "filename = \"KAN_performance.csv\"\n",
    "with open(filename, mode='w', newline='') as file:\n",
    "    writer = csv.writer(file)\n",
    "    writer.writerow([\"Metric\", \"Value\"])\n",
    "    writer.writerow([\"Accuracy\", accuracy])\n",
    "    writer.writerow([\"Precision\", precision])\n",
    "    writer.writerow([\"Recall\", recall])\n",
    "    writer.writerow([\"F1 Score\", f1_score])\n",
    "    writer.writerow([\"Duration\", et - st])"
   ]
  },
  {
   "cell_type": "code",
   "execution_count": 10,
   "id": "08cbd508",
   "metadata": {},
   "outputs": [
    {
     "name": "stdout",
     "output_type": "stream",
     "text": [
      "Fold 1\n"
     ]
    },
    {
     "name": "stderr",
     "output_type": "stream",
     "text": [
      "train loss: 1.43e-01 | test loss: 2.47e-01 | reg: 3.69e+01 : 100%|█| 100/100 [40:31<00:00, 24.32s/it\n"
     ]
    },
    {
     "name": "stdout",
     "output_type": "stream",
     "text": [
      "Train Accuracy: 0.9786255359649658, Test Accuracy: 0.9780145883560181\n",
      "Fold 2\n"
     ]
    },
    {
     "name": "stderr",
     "output_type": "stream",
     "text": [
      "train loss: 1.55e-01 | test loss: 2.42e-01 | reg: 3.70e+01 : 100%|█| 100/100 [41:09<00:00, 24.70s/it\n"
     ]
    },
    {
     "name": "stdout",
     "output_type": "stream",
     "text": [
      "Train Accuracy: 0.9640151262283325, Test Accuracy: 0.9633012413978577\n",
      "Fold 3\n"
     ]
    },
    {
     "name": "stderr",
     "output_type": "stream",
     "text": [
      "train loss: 1.42e-01 | test loss: 2.59e-01 | reg: 7.84e+01 : 100%|█| 100/100 [40:53<00:00, 24.54s/it\n"
     ]
    },
    {
     "name": "stdout",
     "output_type": "stream",
     "text": [
      "Train Accuracy: 0.9653679728507996, Test Accuracy: 0.964823305606842\n",
      "Fold 4\n"
     ]
    },
    {
     "name": "stderr",
     "output_type": "stream",
     "text": [
      "train loss: 1.40e-01 | test loss: 2.37e-01 | reg: 3.89e+01 : 100%|█| 100/100 [40:33<00:00, 24.34s/it\n"
     ]
    },
    {
     "name": "stdout",
     "output_type": "stream",
     "text": [
      "Train Accuracy: 0.9673972129821777, Test Accuracy: 0.9685438871383667\n",
      "Fold 5\n"
     ]
    },
    {
     "name": "stderr",
     "output_type": "stream",
     "text": [
      "train loss: 1.50e-01 | test loss: 2.53e-01 | reg: 5.01e+01 : 100%|█| 100/100 [41:28<00:00, 24.88s/it"
     ]
    },
    {
     "name": "stdout",
     "output_type": "stream",
     "text": [
      "Train Accuracy: 0.9630681872367859, Test Accuracy: 0.9633012413978577\n",
      "Average Training Accuracy: 0.9676948070526123, Average Test Accuracy: 0.9675968527793884\n",
      "Total Time taken: 12278.313220977783 seconds\n",
      "Average Training std dev: 0.005655602816280762, Average Test std dev: 0.005550192912363921\n"
     ]
    },
    {
     "name": "stderr",
     "output_type": "stream",
     "text": [
      "\n"
     ]
    }
   ],
   "source": [
    "# cross validation\n",
    "features_tensor = torch.tensor(features.todense(), dtype=torch.float32).to(device)\n",
    "target_tensor = torch.tensor(target.values.reshape(-1, 1), dtype=torch.float32).to(device)\n",
    "\n",
    "kf = KFold(n_splits=5, shuffle=True, random_state=42) # play around random_state (run 10 times)\n",
    "fold = 1\n",
    "train_accs = []\n",
    "test_accs = []\n",
    "st = time.time()\n",
    "\n",
    "best_model = {'grid': 50, 'k': 5, 'step': 100, 'lamb': 0, 'lamb_entropy': 0}\n",
    "\n",
    "for train_index, test_index in kf.split(features):\n",
    "    print(f\"Fold {fold}\")\n",
    "    \n",
    "    X_train, X_test = features_tensor[train_index], features_tensor[test_index]\n",
    "    y_train, y_test = target_tensor[train_index], target_tensor[test_index]\n",
    "    \n",
    "    train_input, test_input = X_train, X_test\n",
    "    train_label, test_label = y_train, y_test\n",
    "    \n",
    "    dataset_fold = {\n",
    "        'train_input': train_input,\n",
    "        'train_label': train_label,\n",
    "        'test_input': test_input,\n",
    "        'test_label': test_label\n",
    "    }\n",
    "    \n",
    "    model = KAN(width=[features_tensor.shape[1], 3, 1], grid=best_model['grid'], k=best_model['k'], device=device).to(device)\n",
    "    final_result = model.train(dataset_fold, \n",
    "                               opt=\"LBFGS\", \n",
    "                               steps=best_model['step'], \n",
    "                               lamb=best_model['lamb'], \n",
    "                               lamb_entropy=best_model['lamb_entropy'], \n",
    "                               metrics=(train_acc, test_acc), \n",
    "                               device=device)\n",
    "    \n",
    "    train_accuracy = final_result['train_acc'][-1]\n",
    "    test_accuracy = final_result['test_acc'][-1]\n",
    "    \n",
    "    train_accs.append(train_accuracy)\n",
    "    test_accs.append(test_accuracy)\n",
    "    \n",
    "    print(f\"Train Accuracy: {train_accuracy}, Test Accuracy: {test_accuracy}\")\n",
    "    \n",
    "    fold += 1\n",
    "\n",
    "et = time.time()\n",
    "avg_train_acc = np.mean(train_accs)\n",
    "avg_test_acc = np.mean(test_accs)\n",
    "print(f\"Average Training Accuracy: {avg_train_acc}, Average Test Accuracy: {avg_test_acc}\")\n",
    "print(f\"Total Time taken: {et - st} seconds\")\n",
    "\n",
    "avg_train_std = np.std(train_accs)\n",
    "avg_test_std = np.std(test_accs)\n",
    "print(f\"Average Training std dev: {avg_train_std}, Average Test std dev: {avg_test_std}\")"
   ]
  },
  {
   "cell_type": "code",
   "execution_count": 11,
   "id": "9e1add27",
   "metadata": {},
   "outputs": [],
   "source": [
    "# save to csv\n",
    "filename = \"std_dev.csv\"\n",
    "with open(filename, mode='w', newline='') as file:\n",
    "    writer = csv.writer(file)\n",
    "    writer.writerow([\"Fold\", \"Train\", \"Test\"])\n",
    "    writer.writerow([\"1\", train_accs[0], test_accs[0]])\n",
    "    writer.writerow([\"2\", train_accs[1], test_accs[1]])\n",
    "    writer.writerow([\"3\", train_accs[2], test_accs[2]])\n",
    "    writer.writerow([\"4\", train_accs[3], test_accs[3]])\n",
    "    writer.writerow([\"5\", train_accs[4], test_accs[4]])\n",
    "    writer.writerow([\"Avg Acc\", avg_train_acc, avg_test_acc])\n",
    "    writer.writerow([\"Avg Std Dev\", avg_train_std, avg_test_std])\n",
    "    writer.writerow([\"Duration\", et - st])"
   ]
  },
  {
   "cell_type": "code",
   "execution_count": 12,
   "id": "47568ae5",
   "metadata": {},
   "outputs": [
    {
     "name": "stdout",
     "output_type": "stream",
     "text": [
      "\n",
      "mutual_info_classif : \n",
      " Index(['num__Total Time Spent on Website', 'num__Asymmetrique Activity Score',\n",
      "       'cat__Lead Origin', 'cat__Last Activity',\n",
      "       'cat__What is your current occupation',\n",
      "       'cat__What matters most to you in choosing a course', 'cat__Tags',\n",
      "       'cat__Lead Quality', 'cat__Lead Profile', 'cat__Last Notable Activity'],\n",
      "      dtype='object')\n"
     ]
    }
   ],
   "source": [
    "# feature selection\n",
    "# read dataset\n",
    "df = pd.read_csv(\"Dataset/lead_scoring/Leads.csv\")\n",
    "\n",
    "# preprocessing steps for numerical and categorical data (remove id, drop constant, replace missing value, encode, scale)\n",
    "# drop id\n",
    "df = df.drop([\"Prospect ID\", \"Lead Number\"], axis = 1)\n",
    "\n",
    "# drop columns with only 1 distinct value\n",
    "cat_cols = [col for col in df.select_dtypes(exclude = np.number).columns]\n",
    "x = df[cat_cols].nunique()\n",
    "cols_to_drop = list(x[x < 2].index)\n",
    "df.drop(cols_to_drop, axis = 1, inplace = True)\n",
    "\n",
    "# replace select to null value (later will change to Unknown)\n",
    "df.replace('Select', '', inplace=True)\n",
    "\n",
    "numeric_features = df.drop([\"Converted\"], axis = 1).select_dtypes(include=['int64', 'float64']).columns\n",
    "categorical_features = df.select_dtypes(include=['object']).columns\n",
    "\n",
    "numeric_transformer = Pipeline(steps=[\n",
    "    ('imputer', SimpleImputer(strategy='constant', fill_value=0)),\n",
    "    ('scaler', StandardScaler())\n",
    "])\n",
    "\n",
    "categorical_transformer = Pipeline(steps=[\n",
    "    ('imputer', SimpleImputer(strategy='constant', fill_value='Unknown')),\n",
    "    ('onehot', OrdinalEncoder())\n",
    "])\n",
    "\n",
    "preprocessor = ColumnTransformer(\n",
    "    transformers=[\n",
    "        ('num', numeric_transformer, numeric_features),\n",
    "        ('cat', categorical_transformer, categorical_features)\n",
    "    ])\n",
    "\n",
    "features = preprocessor.fit_transform(df)\n",
    "target = df['Converted']\n",
    "\n",
    "features = preprocessor.fit_transform(df)\n",
    "target = df['Converted']\n",
    "feature_names = preprocessor.get_feature_names_out(input_features=df.columns)\n",
    "features = pd.DataFrame(features, columns=feature_names)\n",
    "\n",
    "def feature_selection(X, y, criteria, k):\n",
    "    selector = SelectKBest(criteria, k=k).fit(X, y)\n",
    "    selected_columns = X.columns[selector.get_support()]\n",
    "    X = X[selected_columns]\n",
    "    return X\n",
    "\n",
    "new_X = feature_selection(features, target, mutual_info_classif, 10)\n",
    "print(\"\\nmutual_info_classif : \\n\", new_X.columns)"
   ]
  },
  {
   "cell_type": "code",
   "execution_count": 13,
   "id": "a5a3be69",
   "metadata": {},
   "outputs": [
    {
     "name": "stderr",
     "output_type": "stream",
     "text": [
      "train loss: 1.81e-01 | test loss: 1.79e-01 | reg: 2.07e+00 : 100%|█| 100/100 [02:49<00:00,  1.69s/it"
     ]
    },
    {
     "name": "stdout",
     "output_type": "stream",
     "text": [
      "Accuracy 0.9596861600875854 0.9605953097343445\n",
      "Duration 169.3548834323883\n"
     ]
    },
    {
     "name": "stderr",
     "output_type": "stream",
     "text": [
      "\n"
     ]
    }
   ],
   "source": [
    "# if use mutual_info_classif\n",
    "torch.cuda.empty_cache()\n",
    "new_features = df[['Total Time Spent on Website', 'Asymmetrique Activity Score', 'Lead Origin', 'Lead Source', 'Last Activity',\n",
    "                   'What is your current occupation', 'Tags', 'Lead Quality', 'Lead Profile', 'Last Notable Activity']]\n",
    "new_target = df['Converted']\n",
    "\n",
    "numerical_cols = new_features.select_dtypes(exclude=['object']).columns\n",
    "categorical_cols = new_features.select_dtypes(include=['object']).columns\n",
    "\n",
    "preprocessor = ColumnTransformer(\n",
    "    transformers=[\n",
    "        ('num', numeric_transformer, numerical_cols),\n",
    "        ('cat', categorical_transformer, categorical_cols)\n",
    "    ])\n",
    "\n",
    "new_features = preprocessor.fit_transform(new_features)\n",
    "\n",
    "X_train, X_temp, y_train, y_temp = train_test_split(new_features, new_target, test_size=0.2, random_state=42)\n",
    "X_test, X_val, y_test, y_val = train_test_split(X_train, y_train, test_size=0.2, random_state=42)\n",
    "\n",
    "train_input = torch.tensor(X_train, dtype=torch.float32).to(device)\n",
    "test_input = torch.tensor(X_test, dtype=torch.float32).to(device)\n",
    "val_input = torch.tensor(X_val, dtype=torch.float32).to(device)\n",
    "\n",
    "train_label = torch.tensor(np.array(y_train).reshape(-1, 1), dtype=torch.float32).to(device)\n",
    "test_label = torch.tensor(np.array(y_test).reshape(-1, 1), dtype=torch.float32).to(device)\n",
    "val_label = torch.tensor(np.array(y_val).reshape(-1, 1), dtype=torch.float32).to(device)\n",
    "\n",
    "dataset = {\n",
    "    'train_input' : train_input,\n",
    "    'test_input'  : test_input,\n",
    "    'train_label' : train_label,\n",
    "    'test_label'  : test_label,\n",
    "    'val_input'   : val_input,\n",
    "    'val_label'   : val_label\n",
    "}\n",
    "\n",
    "st = time.time()\n",
    "\n",
    "best_model = {'grid': 50, 'k': 5, 'step': 100, 'lamb': 0, 'lamb_entropy': 0}\n",
    "\n",
    "model = KAN(width=[dataset['train_input'].shape[1], 3, 1], grid=best_model['grid'], k=best_model['k'], device=device).to(device)\n",
    "final_result = model.train(dataset, opt=\"LBFGS\", steps=best_model['step'], lamb=best_model['lamb'], lamb_entropy=best_model['lamb_entropy'], metrics=(train_acc, test_acc), device=device)\n",
    "\n",
    "et = time.time()\n",
    "\n",
    "print(\"Accuracy\", final_result['train_acc'][-1], final_result['test_acc'][-1])\n",
    "print(\"Duration\", et-st)"
   ]
  },
  {
   "cell_type": "code",
   "execution_count": 14,
   "id": "f7fd1f2a",
   "metadata": {},
   "outputs": [
    {
     "data": {
      "image/png": "[encoded data removed]",
      "text/plain": [
       "<Figure size 640x480 with 2 Axes>"
      ]
     },
     "metadata": {},
     "output_type": "display_data"
    },
    {
     "name": "stdout",
     "output_type": "stream",
     "text": [
      "Accuracy: 0.9605952984948418\n",
      "Precision: 0.9548502458649978\n",
      "Recall: 0.9417989417989417\n",
      "F1 Score: 0.9482796892341843\n"
     ]
    }
   ],
   "source": [
    "# get predicted values\n",
    "with torch.no_grad():\n",
    "    test_inputs = dataset['test_input'].clone().detach().to(device)\n",
    "    actual_labels = dataset['test_label'].clone().detach().to(device)\n",
    "    predicted_probs = model(test_inputs)\n",
    "    predicted_labels = (predicted_probs > 0.5).float()\n",
    "    \n",
    "y_pred = predicted_labels.cpu().numpy()\n",
    "y_true = actual_labels.cpu().numpy()\n",
    "\n",
    "conf_matrix = confusion_matrix(y_true, y_pred)\n",
    "tn, fp, fn, tp = confusion_matrix(y_true, y_pred).ravel()\n",
    "\n",
    "accuracy = (tn+tp)/(tn+fp+fn+tp)\n",
    "precision = tp / (tp + fp) if (tp + fp) != 0 else 0\n",
    "recall = tp / (tp + fn) if (tp + fn) != 0 else 0\n",
    "f1_score = 2 * (precision * recall) / (precision + recall) if (precision + recall) != 0 else 0\n",
    "\n",
    "# confusion matrix heatmap\n",
    "plt.figure()\n",
    "sns.heatmap(conf_matrix, annot=True, fmt='d', cmap='Blues', xticklabels=['Not Converted', 'Converted'], yticklabels=['Not Converted', 'Converted'])\n",
    "plt.xlabel('Predicted')\n",
    "plt.ylabel('Actual')\n",
    "plt.show()\n",
    "\n",
    "# performance metrics\n",
    "print(f'Accuracy: {accuracy}')\n",
    "print(f'Precision: {precision}')\n",
    "print(f'Recall: {recall}')\n",
    "print(f'F1 Score: {f1_score}')\n",
    "\n",
    "# save to csv\n",
    "filename = \"feature_selection_performance.csv\"\n",
    "with open(filename, mode='w', newline='') as file:\n",
    "    writer = csv.writer(file)\n",
    "    writer.writerow([\"Metric\", \"Value\"])\n",
    "    writer.writerow([\"Accuracy\", accuracy])\n",
    "    writer.writerow([\"Precision\", precision])\n",
    "    writer.writerow([\"Recall\", recall])\n",
    "    writer.writerow([\"F1 Score\", f1_score])\n",
    "    writer.writerow([\"Duration\", et - st])"
   ]
  },
  {
   "cell_type": "code",
   "execution_count": 15,
   "id": "ddeeac26",
   "metadata": {},
   "outputs": [
    {
     "name": "stdout",
     "output_type": "stream",
     "text": [
      "Fold 1\n"
     ]
    },
    {
     "name": "stderr",
     "output_type": "stream",
     "text": [
      "train loss: 1.91e-01 | test loss: 2.17e-01 | reg: 2.87e+00 : 100%|█| 100/100 [02:46<00:00,  1.66s/it\n"
     ]
    },
    {
     "name": "stdout",
     "output_type": "stream",
     "text": [
      "Train Accuracy: 0.9529221057891846, Test Accuracy: 0.9529849886894226\n",
      "Fold 2\n"
     ]
    },
    {
     "name": "stderr",
     "output_type": "stream",
     "text": [
      "train loss: 1.93e-01 | test loss: 1.98e-01 | reg: 3.59e+00 : 100%|█| 100/100 [02:48<00:00,  1.69s/it\n"
     ]
    },
    {
     "name": "stdout",
     "output_type": "stream",
     "text": [
      "Train Accuracy: 0.9535984992980957, Test Accuracy: 0.9541687965393066\n",
      "Fold 3\n"
     ]
    },
    {
     "name": "stderr",
     "output_type": "stream",
     "text": [
      "train loss: 1.81e-01 | test loss: 2.23e-01 | reg: 3.42e+00 : 100%|█| 100/100 [02:50<00:00,  1.71s/it\n"
     ]
    },
    {
     "name": "stdout",
     "output_type": "stream",
     "text": [
      "Train Accuracy: 0.9533278942108154, Test Accuracy: 0.9538305997848511\n",
      "Fold 4\n"
     ]
    },
    {
     "name": "stderr",
     "output_type": "stream",
     "text": [
      "train loss: 1.95e-01 | test loss: 2.04e-01 | reg: 1.24e+01 : 100%|█| 100/100 [02:51<00:00,  1.71s/it\n"
     ]
    },
    {
     "name": "stdout",
     "output_type": "stream",
     "text": [
      "Train Accuracy: 0.9522456526756287, Test Accuracy: 0.9519702792167664\n",
      "Fold 5\n"
     ]
    },
    {
     "name": "stderr",
     "output_type": "stream",
     "text": [
      "train loss: 1.88e-01 | test loss: 2.22e-01 | reg: 7.83e+00 : 100%|█| 100/100 [02:48<00:00,  1.69s/it"
     ]
    },
    {
     "name": "stdout",
     "output_type": "stream",
     "text": [
      "Train Accuracy: 0.9530573487281799, Test Accuracy: 0.9541687965393066\n",
      "Average Training Accuracy: 0.9530303001403808, Average Test Accuracy: 0.9534246921539307\n",
      "Total Time taken: 845.6086323261261 seconds\n",
      "Average Training std dev: 0.00045596530597413537, Average Test std dev: 0.000846262347738836\n"
     ]
    },
    {
     "name": "stderr",
     "output_type": "stream",
     "text": [
      "\n"
     ]
    }
   ],
   "source": [
    "features_tensor = torch.tensor(new_features, dtype=torch.float32).to(device)\n",
    "target_tensor = torch.tensor(new_target.values.reshape(-1, 1), dtype=torch.float32).to(device)\n",
    "\n",
    "kf = KFold(n_splits=5, shuffle=True, random_state=42) # play around random_state (run 10 times)\n",
    "fold = 1\n",
    "train_accs = []\n",
    "test_accs = []\n",
    "st = time.time()\n",
    "\n",
    "best_model = {'grid': 50, 'k': 5, 'step': 100, 'lamb': 0, 'lamb_entropy': 0}\n",
    "\n",
    "for train_index, test_index in kf.split(features):\n",
    "    print(f\"Fold {fold}\")\n",
    "    \n",
    "    X_train, X_test = features_tensor[train_index], features_tensor[test_index]\n",
    "    y_train, y_test = target_tensor[train_index], target_tensor[test_index]\n",
    "    \n",
    "    train_input, test_input = X_train, X_test\n",
    "    train_label, test_label = y_train, y_test\n",
    "    \n",
    "    dataset_fold = {\n",
    "        'train_input': train_input,\n",
    "        'train_label': train_label,\n",
    "        'test_input': test_input,\n",
    "        'test_label': test_label\n",
    "    }\n",
    "    \n",
    "    model = KAN(width=[features_tensor.shape[1], 3, 1], grid=best_model['grid'], k=best_model['k'], device=device).to(device)\n",
    "    final_result = model.train(dataset_fold, \n",
    "                               opt=\"LBFGS\", \n",
    "                               steps=best_model['step'], \n",
    "                               lamb=best_model['lamb'], \n",
    "                               lamb_entropy=best_model['lamb_entropy'], \n",
    "                               metrics=(train_acc, test_acc), \n",
    "                               device=device)\n",
    "    \n",
    "    train_accuracy = final_result['train_acc'][-1]\n",
    "    test_accuracy = final_result['test_acc'][-1]\n",
    "    \n",
    "    train_accs.append(train_accuracy)\n",
    "    test_accs.append(test_accuracy)\n",
    "    \n",
    "    print(f\"Train Accuracy: {train_accuracy}, Test Accuracy: {test_accuracy}\")\n",
    "    \n",
    "    fold += 1\n",
    "\n",
    "et = time.time()\n",
    "avg_train_acc = np.mean(train_accs)\n",
    "avg_test_acc = np.mean(test_accs)\n",
    "print(f\"Average Training Accuracy: {avg_train_acc}, Average Test Accuracy: {avg_test_acc}\")\n",
    "print(f\"Total Time taken: {et - st} seconds\")\n",
    "\n",
    "avg_train_std = np.std(train_accs)\n",
    "avg_test_std = np.std(test_accs)\n",
    "print(f\"Average Training std dev: {avg_train_std}, Average Test std dev: {avg_test_std}\")"
   ]
  },
  {
   "cell_type": "code",
   "execution_count": 16,
   "id": "0b7c3bad",
   "metadata": {},
   "outputs": [],
   "source": [
    "# save to csv\n",
    "filename = \"fs_std_dev.csv\"\n",
    "with open(filename, mode='w', newline='') as file:\n",
    "    writer = csv.writer(file)\n",
    "    writer.writerow([\"Fold\", \"Train\", \"Test\"])\n",
    "    writer.writerow([\"1\", train_accs[0], test_accs[0]])\n",
    "    writer.writerow([\"2\", train_accs[1], test_accs[1]])\n",
    "    writer.writerow([\"3\", train_accs[2], test_accs[2]])\n",
    "    writer.writerow([\"4\", train_accs[3], test_accs[3]])\n",
    "    writer.writerow([\"5\", train_accs[4], test_accs[4]])\n",
    "    writer.writerow([\"Avg Acc\", avg_train_acc, avg_test_acc])\n",
    "    writer.writerow([\"Avg Std Dev\", avg_train_std, avg_test_std])\n",
    "    writer.writerow([\"Duration\", et - st])"
   ]
  },
  {
   "cell_type": "code",
   "execution_count": null,
   "id": "d66427d5",
   "metadata": {},
   "outputs": [],
   "source": []
  }
 ],
 "metadata": {
  "kernelspec": {
   "display_name": "Python (test_gpu)",
   "language": "python",
   "name": "test_gpu"
  },
  "language_info": {
   "codemirror_mode": {
    "name": "ipython",
    "version": 3
   },
   "file_extension": ".py",
   "mimetype": "text/x-python",
   "name": "python",
   "nbconvert_exporter": "python",
   "pygments_lexer": "ipython3",
   "version": "3.9.19"
  }
 },
 "nbformat": 4,
 "nbformat_minor": 5
}
