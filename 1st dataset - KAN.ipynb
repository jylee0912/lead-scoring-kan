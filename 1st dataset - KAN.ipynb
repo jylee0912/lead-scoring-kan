{
 "cells": [
  {
   "cell_type": "code",
   "execution_count": 1,
   "id": "6a0ecc79",
   "metadata": {},
   "outputs": [
    {
     "name": "stderr",
     "output_type": "stream",
     "text": [
      "C:\\Users\\PC\\anaconda3\\envs\\clone_gpu\\lib\\site-packages\\requests\\__init__.py:86: RequestsDependencyWarning: Unable to find acceptable character detection dependency (chardet or charset_normalizer).\n",
      "  warnings.warn(\n"
     ]
    }
   ],
   "source": [
    "import tensorflow as tf\n",
    "import torch\n",
    "\n",
    "import pandas as pd\n",
    "\n",
    "from sklearn.preprocessing import OneHotEncoder, StandardScaler\n",
    "from sklearn.compose import ColumnTransformer\n",
    "from sklearn.pipeline import Pipeline\n",
    "from sklearn.impute import SimpleImputer\n",
    "from sklearn.model_selection import train_test_split\n",
    "import numpy as np\n",
    "\n",
    "from kan import *\n",
    "import time\n",
    "\n",
    "from sklearn.metrics import confusion_matrix, accuracy_score\n",
    "import seaborn as sns\n",
    "import csv\n",
    "\n",
    "from sklearn.model_selection import KFold\n",
    "\n",
    "from sklearn.feature_selection import SelectKBest\n",
    "from sklearn.feature_selection import mutual_info_regression, f_regression, chi2, f_classif, mutual_info_classif\n",
    "from sklearn.preprocessing import OrdinalEncoder"
   ]
  },
  {
   "cell_type": "code",
   "execution_count": 2,
   "id": "354352f4",
   "metadata": {},
   "outputs": [
    {
     "name": "stdout",
     "output_type": "stream",
     "text": [
      "True\n",
      "[PhysicalDevice(name='/physical_device:GPU:0', device_type='GPU')]\n",
      "cuda\n"
     ]
    }
   ],
   "source": [
    "print(tf.test.is_built_with_cuda())\n",
    "print(tf.config.list_physical_devices('GPU'))\n",
    "device = torch.device(\"cuda\" if torch.cuda.is_available() else \"cpu\")\n",
    "print(device)"
   ]
  },
  {
   "cell_type": "code",
   "execution_count": 3,
   "id": "1b8bad88-bd16-46c3-94a9-e23c51f2600d",
   "metadata": {},
   "outputs": [],
   "source": [
    "# read dataset\n",
    "df = pd.read_csv(\"Leads X Education.csv\")"
   ]
  },
  {
   "cell_type": "code",
   "execution_count": 4,
   "id": "db8baa56",
   "metadata": {},
   "outputs": [],
   "source": [
    "# preprocessing steps for numerical and categorical data (remove id, drop constant, replace missing value, encode, scale)\n",
    "# drop id\n",
    "df = df.drop([\"Prospect ID\", \"Lead Number\"], axis = 1)\n",
    "\n",
    "# drop columns with only 1 distinct value\n",
    "cat_cols = [col for col in df.select_dtypes(exclude = np.number).columns]\n",
    "x = df[cat_cols].nunique()\n",
    "cols_to_drop = list(x[x < 2].index)\n",
    "df.drop(cols_to_drop, axis = 1, inplace = True)\n",
    "\n",
    "# replace select to null value (later will change to Unknown)\n",
    "df.replace('Select', '', inplace=True)\n",
    "\n",
    "numeric_features = df.drop([\"Converted\"], axis = 1).select_dtypes(include=['int64', 'float64']).columns\n",
    "categorical_features = df.select_dtypes(include=['object']).columns\n",
    "\n",
    "numeric_transformer = Pipeline(steps=[\n",
    "    ('imputer', SimpleImputer(strategy='constant', fill_value=0)),\n",
    "    ('scaler', StandardScaler())\n",
    "])\n",
    "\n",
    "categorical_transformer = Pipeline(steps=[\n",
    "    ('imputer', SimpleImputer(strategy='constant', fill_value='Unknown')),\n",
    "    ('onehot', OneHotEncoder(handle_unknown='ignore'))\n",
    "])\n",
    "\n",
    "preprocessor = ColumnTransformer(\n",
    "    transformers=[\n",
    "        ('num', numeric_transformer, numeric_features),\n",
    "        ('cat', categorical_transformer, categorical_features)\n",
    "    ])\n",
    "\n",
    "features = preprocessor.fit_transform(df)\n",
    "target = df['Converted']"
   ]
  },
  {
   "cell_type": "code",
   "execution_count": 5,
   "id": "18a21ddf",
   "metadata": {},
   "outputs": [],
   "source": [
    "X_train, X_temp, y_train, y_temp = train_test_split(features, target, test_size=0.4, random_state=30)\n",
    "X_test, X_val, y_test, y_val = train_test_split(X_temp, y_temp, test_size=0.5, random_state=30)\n",
    "\n",
    "train_input = torch.tensor(X_train.todense(), dtype=torch.float32).to(device)\n",
    "test_input = torch.tensor(X_test.todense(), dtype=torch.float32).to(device)\n",
    "val_input = torch.tensor(X_val.todense(), dtype=torch.float32).to(device)\n",
    "\n",
    "train_label = torch.tensor(np.array(y_train).reshape(-1, 1), dtype=torch.float32).to(device)\n",
    "test_label = torch.tensor(np.array(y_test).reshape(-1, 1), dtype=torch.float32).to(device)\n",
    "val_label = torch.tensor(np.array(y_val).reshape(-1, 1), dtype=torch.float32).to(device)\n",
    "\n",
    "dataset = {\n",
    "    'train_input' : train_input,\n",
    "    'test_input'  : test_input,\n",
    "    'train_label' : train_label,\n",
    "    'test_label'  : test_label,\n",
    "    'val_input'   : val_input,\n",
    "    'val_label'   : val_label\n",
    "}"
   ]
  },
  {
   "cell_type": "code",
   "execution_count": 6,
   "id": "0b834e98",
   "metadata": {},
   "outputs": [],
   "source": [
    "def train_acc():\n",
    "    return torch.mean((torch.round(model(dataset['train_input'])[:,0]) == dataset['train_label'][:,0]).float())\n",
    "\n",
    "def test_acc():\n",
    "    return torch.mean((torch.round(model(dataset['test_input'])[:,0]) == dataset['test_label'][:,0]).float())"
   ]
  },
  {
   "cell_type": "code",
   "execution_count": 7,
   "id": "fdca6b0e",
   "metadata": {},
   "outputs": [],
   "source": [
    "torch.cuda.empty_cache()"
   ]
  },
  {
   "cell_type": "code",
   "execution_count": 8,
   "id": "8c6f8ac8",
   "metadata": {},
   "outputs": [
    {
     "name": "stderr",
     "output_type": "stream",
     "text": [
      "train loss: 1.79e-01 | test loss: 2.36e-01 | reg: 1.68e+02 : 100%|█| 100/100 [30:17<00:00, 18.17s/it"
     ]
    },
    {
     "name": "stdout",
     "output_type": "stream",
     "text": [
      "Accuracy 0.9610389471054077 0.9329004287719727\n",
      "Duration 1818.3070006370544\n"
     ]
    },
    {
     "name": "stderr",
     "output_type": "stream",
     "text": [
      "\n"
     ]
    }
   ],
   "source": [
    "st = time.time()\n",
    "\n",
    "model = KAN(width=[dataset['train_input'].shape[1], 3, 1], device=device).to(device)\n",
    "final_result = model.train(dataset, metrics=(train_acc, test_acc), device=device)\n",
    "\n",
    "et = time.time()\n",
    "duration_b4 = et-st\n",
    "\n",
    "print(\"Accuracy\", final_result['train_acc'][-1], final_result['test_acc'][-1])\n",
    "print(\"Duration\", duration_b4)"
   ]
  },
  {
   "cell_type": "code",
   "execution_count": 9,
   "id": "ccc163e8",
   "metadata": {},
   "outputs": [
    {
     "data": {
      "image/png": "[encoded data removed]",
      "text/plain": [
       "<Figure size 640x480 with 2 Axes>"
      ]
     },
     "metadata": {},
     "output_type": "display_data"
    },
    {
     "name": "stdout",
     "output_type": "stream",
     "text": [
      "Accuracy: 0.933982683982684\n",
      "Precision: 0.9245283018867925\n",
      "Recall: 0.9122340425531915\n",
      "F1 Score: 0.9183400267737618\n"
     ]
    }
   ],
   "source": [
    "# get predicted values\n",
    "with torch.no_grad():\n",
    "    test_inputs = dataset['test_input'].clone().detach().to(device)\n",
    "    actual_labels = dataset['test_label'].clone().detach().to(device)\n",
    "    predicted_probs = model(test_inputs)\n",
    "    predicted_labels = (predicted_probs > 0.5).float()\n",
    "    \n",
    "y_pred = predicted_labels.cpu().numpy()\n",
    "y_true = actual_labels.cpu().numpy()\n",
    "\n",
    "conf_matrix = confusion_matrix(y_true, y_pred)\n",
    "tn, fp, fn, tp = confusion_matrix(y_true, y_pred).ravel()\n",
    "\n",
    "accuracy_b4 = (tn+tp)/(tn+fp+fn+tp)\n",
    "precision_b4 = tp / (tp + fp) if (tp + fp) != 0 else 0\n",
    "recall_b4 = tp / (tp + fn) if (tp + fn) != 0 else 0\n",
    "f1_score_b4 = 2 * (precision_b4 * recall_b4) / (precision_b4 + recall_b4) if (precision_b4 + recall_b4) != 0 else 0\n",
    "\n",
    "# confusion matrix heatmap\n",
    "plt.figure()\n",
    "sns.heatmap(conf_matrix, annot=True, fmt='d', cmap='Blues', xticklabels=['Not Converted', 'Converted'], yticklabels=['Not Converted', 'Converted'])\n",
    "plt.xlabel('Predicted')\n",
    "plt.ylabel('Actual')\n",
    "plt.show()\n",
    "\n",
    "# performance metrics\n",
    "print(f'Accuracy: {accuracy_b4}')\n",
    "print(f'Precision: {precision_b4}')\n",
    "print(f'Recall: {recall_b4}')\n",
    "print(f'F1 Score: {f1_score_b4}')"
   ]
  },
  {
   "cell_type": "code",
   "execution_count": 10,
   "id": "d9bb2194",
   "metadata": {},
   "outputs": [
    {
     "name": "stdout",
     "output_type": "stream",
     "text": [
      "\n",
      "Training with grid = 1\n"
     ]
    },
    {
     "name": "stderr",
     "output_type": "stream",
     "text": [
      "train loss: 1.83e-01 | test loss: 2.42e-01 | reg: 2.01e+02 : 100%|█| 100/100 [28:52<00:00, 17.33s/it\n"
     ]
    },
    {
     "name": "stdout",
     "output_type": "stream",
     "text": [
      "Train Accuracy: 0.96121931, Test Accuracy: 0.92748916, Duration: 1732.68 sec\n",
      "\n",
      "Training with grid = 3\n"
     ]
    },
    {
     "name": "stderr",
     "output_type": "stream",
     "text": [
      "train loss: 1.70e-01 | test loss: 2.57e-01 | reg: 2.05e+02 : 100%|█| 100/100 [27:56<00:00, 16.77s/it\n"
     ]
    },
    {
     "name": "stdout",
     "output_type": "stream",
     "text": [
      "Train Accuracy: 0.96645021, Test Accuracy: 0.93235928, Duration: 1676.93 sec\n",
      "\n",
      "Training with grid = 5\n"
     ]
    },
    {
     "name": "stderr",
     "output_type": "stream",
     "text": [
      "train loss: 1.61e-01 | test loss: 2.54e-01 | reg: 1.42e+02 : 100%|█| 100/100 [28:31<00:00, 17.11s/it\n"
     ]
    },
    {
     "name": "stdout",
     "output_type": "stream",
     "text": [
      "Train Accuracy: 0.96951658, Test Accuracy: 0.92370129, Duration: 1711.37 sec\n",
      "\n",
      "Training with grid = 7\n"
     ]
    },
    {
     "name": "stderr",
     "output_type": "stream",
     "text": [
      "train loss: 1.53e-01 | test loss: 3.03e-01 | reg: 1.59e+02 : 100%|█| 100/100 [27:57<00:00, 16.77s/it"
     ]
    },
    {
     "name": "stdout",
     "output_type": "stream",
     "text": [
      "Train Accuracy: 0.97402596, Test Accuracy: 0.91829002, Duration: 1677.23 sec\n"
     ]
    },
    {
     "name": "stderr",
     "output_type": "stream",
     "text": [
      "\n"
     ]
    }
   ],
   "source": [
    "# fine-tune grid\n",
    "st = time.time()\n",
    "\n",
    "grid_values = [1, 3, 5, 7]\n",
    "results = []\n",
    "\n",
    "for grid_val in grid_values:\n",
    "    print(f\"\\nTraining with grid = {grid_val}\")\n",
    "    \n",
    "    st = time.time()\n",
    "    \n",
    "    model = KAN(width=[dataset['train_input'].shape[1], 3, 1], grid=grid_val, device=device).to(device)\n",
    "    final_result = model.train(dataset, opt=\"LBFGS\", metrics=(train_acc, test_acc), device=device)\n",
    "    \n",
    "    et = time.time()\n",
    "    duration = et - st\n",
    "    \n",
    "    train_accuracy = final_result['train_acc'][-1]\n",
    "    test_accuracy = final_result['test_acc'][-1]\n",
    "\n",
    "    print(f\"Train Accuracy: {train_accuracy:.8f}, Test Accuracy: {test_accuracy:.8f}, Duration: {duration:.2f} sec\")"
   ]
  },
  {
   "cell_type": "code",
   "execution_count": 11,
   "id": "dd6c4ea5",
   "metadata": {},
   "outputs": [
    {
     "name": "stdout",
     "output_type": "stream",
     "text": [
      "\n",
      "Training with k = 1\n"
     ]
    },
    {
     "name": "stderr",
     "output_type": "stream",
     "text": [
      "train loss: 1.64e-01 | test loss: 2.60e-01 | reg: 3.34e+02 : 100%|█| 100/100 [26:59<00:00, 16.19s/it\n"
     ]
    },
    {
     "name": "stdout",
     "output_type": "stream",
     "text": [
      "Train Accuracy: 0.96879512, Test Accuracy: 0.92748916, Duration: 1619.11 sec\n",
      "\n",
      "Training with k = 3\n"
     ]
    },
    {
     "name": "stderr",
     "output_type": "stream",
     "text": [
      "train loss: 1.68e-01 | test loss: 2.68e-01 | reg: 2.55e+02 : 100%|█| 100/100 [28:04<00:00, 16.84s/it\n"
     ]
    },
    {
     "name": "stdout",
     "output_type": "stream",
     "text": [
      "Train Accuracy: 0.96554834, Test Accuracy: 0.93019480, Duration: 1684.42 sec\n",
      "\n",
      "Training with k = 5\n"
     ]
    },
    {
     "name": "stderr",
     "output_type": "stream",
     "text": [
      "train loss: 1.71e-01 | test loss: 2.49e-01 | reg: 3.54e+02 : 100%|█| 100/100 [29:59<00:00, 17.99s/it\n"
     ]
    },
    {
     "name": "stdout",
     "output_type": "stream",
     "text": [
      "Train Accuracy: 0.96320349, Test Accuracy: 0.92965370, Duration: 1799.12 sec\n",
      "\n",
      "Training with k = 7\n"
     ]
    },
    {
     "name": "stderr",
     "output_type": "stream",
     "text": [
      "train loss: 1.86e-01 | test loss: 2.34e-01 | reg: 2.85e+02 : 100%|█| 100/100 [31:47<00:00, 19.08s/it"
     ]
    },
    {
     "name": "stdout",
     "output_type": "stream",
     "text": [
      "Train Accuracy: 0.95815295, Test Accuracy: 0.93506491, Duration: 1907.73 sec\n"
     ]
    },
    {
     "name": "stderr",
     "output_type": "stream",
     "text": [
      "\n"
     ]
    }
   ],
   "source": [
    "# fine-tune k\n",
    "st = time.time()\n",
    "\n",
    "k_values = [1, 3, 5, 7]\n",
    "results = []\n",
    "\n",
    "for k_val in k_values:\n",
    "    print(f\"\\nTraining with k = {k_val}\")\n",
    "    \n",
    "    st = time.time()\n",
    "    \n",
    "    model = KAN(width=[dataset['train_input'].shape[1], 3, 1], grid=3, k=k_val, device=device).to(device)\n",
    "    final_result = model.train(dataset, opt=\"LBFGS\", metrics=(train_acc, test_acc), device=device)\n",
    "    \n",
    "    et = time.time()\n",
    "    duration = et - st\n",
    "    \n",
    "    train_accuracy = final_result['train_acc'][-1]\n",
    "    test_accuracy = final_result['test_acc'][-1]\n",
    "\n",
    "    print(f\"Train Accuracy: {train_accuracy:.8f}, Test Accuracy: {test_accuracy:.8f}, Duration: {duration:.2f} sec\")"
   ]
  },
  {
   "cell_type": "code",
   "execution_count": 12,
   "id": "e0a0ce93",
   "metadata": {},
   "outputs": [
    {
     "name": "stdout",
     "output_type": "stream",
     "text": [
      "\n",
      "Training with step = 25\n"
     ]
    },
    {
     "name": "stderr",
     "output_type": "stream",
     "text": [
      "train loss: 1.86e-01 | test loss: 2.35e-01 | reg: 2.53e+02 : 100%|██| 25/25 [07:59<00:00, 19.19s/it]\n"
     ]
    },
    {
     "name": "stdout",
     "output_type": "stream",
     "text": [
      "Train Accuracy: 0.95652956, Test Accuracy: 0.93019480, Duration: 479.76 sec\n",
      "\n",
      "Training with step = 50\n"
     ]
    },
    {
     "name": "stderr",
     "output_type": "stream",
     "text": [
      "train loss: 1.87e-01 | test loss: 2.37e-01 | reg: 2.48e+02 : 100%|██| 50/50 [15:48<00:00, 18.96s/it]\n"
     ]
    },
    {
     "name": "stdout",
     "output_type": "stream",
     "text": [
      "Train Accuracy: 0.95616883, Test Accuracy: 0.93127704, Duration: 948.20 sec\n",
      "\n",
      "Training with step = 75\n"
     ]
    },
    {
     "name": "stderr",
     "output_type": "stream",
     "text": [
      "train loss: 1.80e-01 | test loss: 2.34e-01 | reg: 3.37e+02 : 100%|██| 75/75 [23:40<00:00, 18.95s/it]\n"
     ]
    },
    {
     "name": "stdout",
     "output_type": "stream",
     "text": [
      "Train Accuracy: 0.96176046, Test Accuracy: 0.93181819, Duration: 1420.97 sec\n",
      "\n",
      "Training with step = 100\n"
     ]
    },
    {
     "name": "stderr",
     "output_type": "stream",
     "text": [
      "train loss: 1.75e-01 | test loss: 2.43e-01 | reg: 4.32e+02 : 100%|█| 100/100 [31:09<00:00, 18.69s/it"
     ]
    },
    {
     "name": "stdout",
     "output_type": "stream",
     "text": [
      "Train Accuracy: 0.96320349, Test Accuracy: 0.93019480, Duration: 1869.45 sec\n"
     ]
    },
    {
     "name": "stderr",
     "output_type": "stream",
     "text": [
      "\n"
     ]
    }
   ],
   "source": [
    "# fine-tune step\n",
    "st = time.time()\n",
    "\n",
    "step_values = [25, 50, 75, 100]\n",
    "results = []\n",
    "\n",
    "for step_val in step_values:\n",
    "    print(f\"\\nTraining with step = {step_val}\")\n",
    "    \n",
    "    st = time.time()\n",
    "    \n",
    "    model = KAN(width=[dataset['train_input'].shape[1], 3, 1], grid=3, k=7, device=device).to(device)\n",
    "    final_result = model.train(dataset, opt=\"LBFGS\", steps=step_val, metrics=(train_acc, test_acc), device=device)\n",
    "    \n",
    "    et = time.time()\n",
    "    duration = et - st\n",
    "    \n",
    "    train_accuracy = final_result['train_acc'][-1]\n",
    "    test_accuracy = final_result['test_acc'][-1]\n",
    "\n",
    "    print(f\"Train Accuracy: {train_accuracy:.8f}, Test Accuracy: {test_accuracy:.8f}, Duration: {duration:.2f} sec\")"
   ]
  },
  {
   "cell_type": "code",
   "execution_count": 13,
   "id": "f36c6033",
   "metadata": {},
   "outputs": [
    {
     "name": "stdout",
     "output_type": "stream",
     "text": [
      "\n",
      "Training with lamb = 0\n"
     ]
    },
    {
     "name": "stderr",
     "output_type": "stream",
     "text": [
      "train loss: 1.80e-01 | test loss: 2.34e-01 | reg: 3.37e+02 : 100%|██| 75/75 [23:11<00:00, 18.55s/it]\n"
     ]
    },
    {
     "name": "stdout",
     "output_type": "stream",
     "text": [
      "Train Accuracy: 0.96176046, Test Accuracy: 0.93181819, Duration: 1391.25 sec\n",
      "\n",
      "Training with lamb = 0.1\n"
     ]
    },
    {
     "name": "stderr",
     "output_type": "stream",
     "text": [
      "train loss: 6.34e-01 | test loss: 6.46e-01 | reg: 2.95e+01 : 100%|██| 75/75 [16:25<00:00, 13.14s/it]\n"
     ]
    },
    {
     "name": "stdout",
     "output_type": "stream",
     "text": [
      "Train Accuracy: 0.47979799, Test Accuracy: 0.46482685, Duration: 985.68 sec\n",
      "\n",
      "Training with lamb = 0.01\n"
     ]
    },
    {
     "name": "stderr",
     "output_type": "stream",
     "text": [
      "train loss: 4.68e-01 | test loss: 4.78e-01 | reg: 2.92e+01 : 100%|██| 75/75 [16:25<00:00, 13.15s/it]\n"
     ]
    },
    {
     "name": "stdout",
     "output_type": "stream",
     "text": [
      "Train Accuracy: 0.63095236, Test Accuracy: 0.60876626, Duration: 986.00 sec\n",
      "\n",
      "Training with lamb = 0.001\n"
     ]
    },
    {
     "name": "stderr",
     "output_type": "stream",
     "text": [
      "train loss: 2.64e-01 | test loss: 2.94e-01 | reg: 3.15e+01 : 100%|██| 75/75 [16:53<00:00, 13.51s/it]"
     ]
    },
    {
     "name": "stdout",
     "output_type": "stream",
     "text": [
      "Train Accuracy: 0.91414142, Test Accuracy: 0.89123374, Duration: 1013.59 sec\n"
     ]
    },
    {
     "name": "stderr",
     "output_type": "stream",
     "text": [
      "\n"
     ]
    }
   ],
   "source": [
    "# fine-tune lamb\n",
    "st = time.time()\n",
    "\n",
    "lamb_values = [0, 0.1, 0.01, 0.001]\n",
    "results = []\n",
    "\n",
    "for lamb_val in lamb_values:\n",
    "    print(f\"\\nTraining with lamb = {lamb_val}\")\n",
    "    \n",
    "    st = time.time()\n",
    "    \n",
    "    model = KAN(width=[dataset['train_input'].shape[1], 3, 1], grid=3, k=7, device=device).to(device)\n",
    "    final_result = model.train(dataset, opt=\"LBFGS\", steps=75, lamb=lamb_val, metrics=(train_acc, test_acc), device=device)\n",
    "    \n",
    "    et = time.time()\n",
    "    duration = et - st\n",
    "    \n",
    "    train_accuracy = final_result['train_acc'][-1]\n",
    "    test_accuracy = final_result['test_acc'][-1]\n",
    "\n",
    "    print(f\"Train Accuracy: {train_accuracy:.8f}, Test Accuracy: {test_accuracy:.8f}, Duration: {duration:.2f} sec\")"
   ]
  },
  {
   "cell_type": "code",
   "execution_count": 15,
   "id": "f349aa23-3d11-4a98-b1df-2bd79d0f57de",
   "metadata": {},
   "outputs": [
    {
     "name": "stdout",
     "output_type": "stream",
     "text": [
      "\n",
      "Training with lamb entropy = 0\n"
     ]
    },
    {
     "name": "stderr",
     "output_type": "stream",
     "text": [
      "train loss: 1.92e-01 | test loss: 2.35e-01 | reg: 1.91e+02 : 100%|██| 75/75 [23:19<00:00, 18.66s/it]\n"
     ]
    },
    {
     "name": "stdout",
     "output_type": "stream",
     "text": [
      "Train Accuracy: 0.95616883, Test Accuracy: 0.93290043, Duration: 1399.67 sec\n",
      "\n",
      "Training with lamb entropy = 0.1\n"
     ]
    },
    {
     "name": "stderr",
     "output_type": "stream",
     "text": [
      "train loss: 1.80e-01 | test loss: 2.34e-01 | reg: 3.20e+02 : 100%|██| 75/75 [22:41<00:00, 18.16s/it]\n"
     ]
    },
    {
     "name": "stdout",
     "output_type": "stream",
     "text": [
      "Train Accuracy: 0.96176046, Test Accuracy: 0.93181819, Duration: 1361.97 sec\n",
      "\n",
      "Training with lamb entropy = 0.01\n"
     ]
    },
    {
     "name": "stderr",
     "output_type": "stream",
     "text": [
      "train loss: 1.89e-01 | test loss: 2.34e-01 | reg: 3.65e+02 : 100%|██| 75/75 [23:28<00:00, 18.79s/it]\n"
     ]
    },
    {
     "name": "stdout",
     "output_type": "stream",
     "text": [
      "Train Accuracy: 0.95598847, Test Accuracy: 0.93398267, Duration: 1408.95 sec\n",
      "\n",
      "Training with lamb entropy = 0.001\n"
     ]
    },
    {
     "name": "stderr",
     "output_type": "stream",
     "text": [
      "train loss: 1.80e-01 | test loss: 2.34e-01 | reg: 3.19e+02 : 100%|██| 75/75 [23:22<00:00, 18.71s/it]"
     ]
    },
    {
     "name": "stdout",
     "output_type": "stream",
     "text": [
      "Train Accuracy: 0.96176046, Test Accuracy: 0.93181819, Duration: 1402.98 sec\n"
     ]
    },
    {
     "name": "stderr",
     "output_type": "stream",
     "text": [
      "\n"
     ]
    }
   ],
   "source": [
    "# fine-tune lamb entropy\n",
    "st = time.time()\n",
    "\n",
    "lamb_ent_values = [0, 0.1, 0.01, 0.001]\n",
    "results = []\n",
    "\n",
    "for lamb_ent_val in lamb_ent_values:\n",
    "    print(f\"\\nTraining with lamb entropy = {lamb_ent_val}\")\n",
    "    \n",
    "    st = time.time()\n",
    "    \n",
    "    model = KAN(width=[dataset['train_input'].shape[1], 3, 1], grid=3, k=7, device=device).to(device)\n",
    "    final_result = model.train(dataset, opt=\"LBFGS\", steps=75, lamb=0, lamb_entropy=lamb_ent_val, metrics=(train_acc, test_acc), device=device)\n",
    "    \n",
    "    et = time.time()\n",
    "    duration = et - st\n",
    "    \n",
    "    train_accuracy = final_result['train_acc'][-1]\n",
    "    test_accuracy = final_result['test_acc'][-1]\n",
    "\n",
    "    print(f\"Train Accuracy: {train_accuracy:.8f}, Test Accuracy: {test_accuracy:.8f}, Duration: {duration:.2f} sec\")"
   ]
  },
  {
   "cell_type": "code",
   "execution_count": 16,
   "id": "2d703076",
   "metadata": {},
   "outputs": [
    {
     "name": "stderr",
     "output_type": "stream",
     "text": [
      "train loss: 1.80e-01 | test loss: 2.34e-01 | reg: 3.19e+02 : 100%|██| 75/75 [23:16<00:00, 18.62s/it]\n"
     ]
    },
    {
     "name": "stdout",
     "output_type": "stream",
     "text": [
      "Accuracy 0.9617604613304138 0.9318181872367859\n",
      "Duration 1396.2156338691711\n"
     ]
    },
    {
     "data": {
      "image/png": "[encoded data removed]",
      "text/plain": [
       "<Figure size 640x480 with 2 Axes>"
      ]
     },
     "metadata": {},
     "output_type": "display_data"
    },
    {
     "name": "stdout",
     "output_type": "stream",
     "text": [
      "Accuracy: 0.9318181818181818\n",
      "Precision: 0.9206989247311828\n",
      "Recall: 0.910904255319149\n",
      "F1 Score: 0.9157754010695187\n"
     ]
    }
   ],
   "source": [
    "# after fine-tune\n",
    "st = time.time()\n",
    "\n",
    "best_model = {'grid': 3, 'k': 7, 'step': 75, 'lamb': 0, 'lamb_entropy': 0.01}\n",
    "\n",
    "model = KAN(width=[dataset['train_input'].shape[1], 3, 1], grid=best_model['grid'], k=best_model['k'], device=device).to(device)\n",
    "final_result = model.train(dataset, opt=\"LBFGS\", steps=best_model['step'], lamb=best_model['lamb'], lamb_entropy=best_model['lamb_entropy'], metrics=(train_acc, test_acc), device=device)\n",
    "\n",
    "et = time.time()\n",
    "duration = et-st\n",
    "\n",
    "print(\"Accuracy\", final_result['train_acc'][-1], final_result['test_acc'][-1])\n",
    "print(\"Duration\", duration)\n",
    "\n",
    "# get predicted values\n",
    "with torch.no_grad():\n",
    "    test_inputs = dataset['test_input'].clone().detach().to(device)\n",
    "    actual_labels = dataset['test_label'].clone().detach().to(device)\n",
    "    predicted_probs = model(test_inputs)\n",
    "    predicted_labels = (predicted_probs > 0.5).float()\n",
    "    \n",
    "y_pred = predicted_labels.cpu().numpy()\n",
    "y_true = actual_labels.cpu().numpy()\n",
    "\n",
    "conf_matrix = confusion_matrix(y_true, y_pred)\n",
    "tn, fp, fn, tp = confusion_matrix(y_true, y_pred).ravel()\n",
    "\n",
    "accuracy = (tn+tp)/(tn+fp+fn+tp)\n",
    "precision = tp / (tp + fp) if (tp + fp) != 0 else 0\n",
    "recall = tp / (tp + fn) if (tp + fn) != 0 else 0\n",
    "f1_score = 2 * (precision * recall) / (precision + recall) if (precision + recall) != 0 else 0\n",
    "\n",
    "# confusion matrix heatmap\n",
    "plt.figure()\n",
    "sns.heatmap(conf_matrix, annot=True, fmt='d', cmap='Blues', xticklabels=['Not Converted', 'Converted'], yticklabels=['Not Converted', 'Converted'])\n",
    "plt.xlabel('Predicted')\n",
    "plt.ylabel('Actual')\n",
    "plt.show()\n",
    "\n",
    "# performance metrics\n",
    "print(f'Accuracy: {accuracy}')\n",
    "print(f'Precision: {precision}')\n",
    "print(f'Recall: {recall}')\n",
    "print(f'F1 Score: {f1_score}')"
   ]
  },
  {
   "cell_type": "code",
   "execution_count": 17,
   "id": "5df522d6",
   "metadata": {},
   "outputs": [],
   "source": [
    "# save to csv\n",
    "filename = \"30.csv\"\n",
    "with open(filename, mode='w', newline='') as file:\n",
    "    writer = csv.writer(file)\n",
    "    writer.writerow([\"Metric\", \"Before\", \"After\"])\n",
    "    writer.writerow([\"Accuracy\", accuracy_b4, accuracy])\n",
    "    writer.writerow([\"Precision\", precision_b4, precision])\n",
    "    writer.writerow([\"Recall\", recall_b4, recall])\n",
    "    writer.writerow([\"F1 Score\", f1_score_b4, f1_score])\n",
    "    writer.writerow([\"Duration\", duration_b4, duration])"
   ]
  },
  {
   "cell_type": "code",
   "execution_count": null,
   "id": "aac9cad8-2b5e-4431-90a8-dac7a8212e93",
   "metadata": {},
   "outputs": [],
   "source": []
  }
 ],
 "metadata": {
  "kernelspec": {
   "display_name": "Python (test_gpu)",
   "language": "python",
   "name": "test_gpu"
  },
  "language_info": {
   "codemirror_mode": {
    "name": "ipython",
    "version": 3
   },
   "file_extension": ".py",
   "mimetype": "text/x-python",
   "name": "python",
   "nbconvert_exporter": "python",
   "pygments_lexer": "ipython3",
   "version": "3.9.19"
  }
 },
 "nbformat": 4,
 "nbformat_minor": 5
}
