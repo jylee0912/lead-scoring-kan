{
 "cells": [
  {
   "cell_type": "code",
   "execution_count": 1,
   "id": "11968db7",
   "metadata": {},
   "outputs": [],
   "source": [
    "import tensorflow as tf\n",
    "import torch\n",
    "\n",
    "import pandas as pd\n",
    "\n",
    "from sklearn.preprocessing import OneHotEncoder, StandardScaler\n",
    "from sklearn.compose import ColumnTransformer\n",
    "from sklearn.pipeline import Pipeline\n",
    "from sklearn.impute import SimpleImputer\n",
    "from sklearn.model_selection import train_test_split\n",
    "import numpy as np\n",
    "from imblearn.over_sampling import RandomOverSampler\n",
    "\n",
    "from kan import *\n",
    "import time\n",
    "\n",
    "from sklearn.metrics import confusion_matrix, accuracy_score\n",
    "import seaborn as sns\n",
    "import csv\n",
    "\n",
    "from sklearn.model_selection import KFold\n",
    "\n",
    "from sklearn.feature_selection import SelectKBest\n",
    "from sklearn.feature_selection import mutual_info_regression, f_regression, chi2, f_classif, mutual_info_classif\n",
    "from sklearn.preprocessing import OrdinalEncoder"
   ]
  },
  {
   "cell_type": "code",
   "execution_count": 2,
   "id": "9646d4f3",
   "metadata": {},
   "outputs": [
    {
     "name": "stdout",
     "output_type": "stream",
     "text": [
      "True\n",
      "[PhysicalDevice(name='/physical_device:GPU:0', device_type='GPU')]\n",
      "cuda\n"
     ]
    }
   ],
   "source": [
    "print(tf.test.is_built_with_cuda())\n",
    "print(tf.config.list_physical_devices('GPU'))\n",
    "device = torch.device(\"cuda\" if torch.cuda.is_available() else \"cpu\")\n",
    "print(device)"
   ]
  },
  {
   "cell_type": "code",
   "execution_count": 3,
   "id": "6f463af6",
   "metadata": {},
   "outputs": [],
   "source": [
    "# read dataset\n",
    "df = pd.read_csv(\"Dataset/bank_marketing/bank-additional/bank-additional/bank-additional-full.csv\", delimiter=\";\")"
   ]
  },
  {
   "cell_type": "code",
   "execution_count": 4,
   "id": "ca0c5cbc",
   "metadata": {},
   "outputs": [
    {
     "name": "stderr",
     "output_type": "stream",
     "text": [
      "C:\\Users\\PC\\AppData\\Local\\Temp\\ipykernel_13856\\1479273297.py:3: FutureWarning: Downcasting behavior in `replace` is deprecated and will be removed in a future version. To retain the old behavior, explicitly call `result.infer_objects(copy=False)`. To opt-in to the future behavior, set `pd.set_option('future.no_silent_downcasting', True)`\n",
      "  df['y'] = df['y'].replace({'yes': 1, 'no': 0})\n"
     ]
    }
   ],
   "source": [
    "# preprocessing steps for numerical and categorical data (replace y, replace missing value, encode, scale)\n",
    "# replace 'yes' with 1 and 'no' with 0\n",
    "df['y'] = df['y'].replace({'yes': 1, 'no': 0})\n",
    "\n",
    "target = df['y']\n",
    "df = df.drop(columns=['y'])\n",
    "\n",
    "numeric_features = df.select_dtypes(include=['int64', 'float64']).columns\n",
    "categorical_features = df.select_dtypes(include=['object']).columns\n",
    "\n",
    "numeric_transformer = Pipeline(steps=[\n",
    "    ('imputer', SimpleImputer(strategy='constant', fill_value=0)),\n",
    "    ('scaler', StandardScaler())\n",
    "])\n",
    "\n",
    "categorical_transformer = Pipeline(steps=[\n",
    "    ('imputer', SimpleImputer(strategy='constant', fill_value='Unknown')),\n",
    "    ('onehot', OneHotEncoder(handle_unknown='ignore'))\n",
    "])\n",
    "\n",
    "preprocessor = ColumnTransformer(\n",
    "    transformers=[\n",
    "        ('num', numeric_transformer, numeric_features),\n",
    "        ('cat', categorical_transformer, categorical_features)\n",
    "    ])\n",
    "\n",
    "features = preprocessor.fit_transform(df)"
   ]
  },
  {
   "cell_type": "code",
   "execution_count": 5,
   "id": "3f45a751",
   "metadata": {},
   "outputs": [],
   "source": [
    "# split dataset\n",
    "X_train, X_temp, y_train, y_temp = train_test_split(features, target, test_size=0.4, random_state=30)\n",
    "X_test, X_val, y_test, y_val = train_test_split(X_temp, y_temp, test_size=0.5, random_state=30)"
   ]
  },
  {
   "cell_type": "code",
   "execution_count": 6,
   "id": "87e9ab77",
   "metadata": {},
   "outputs": [],
   "source": [
    "# oversampling\n",
    "ros = RandomOverSampler(random_state=30)\n",
    "X_train, y_train = ros.fit_resample(X_train, y_train)"
   ]
  },
  {
   "cell_type": "code",
   "execution_count": 7,
   "id": "7593e81b",
   "metadata": {},
   "outputs": [],
   "source": [
    "train_input = torch.tensor(X_train, dtype=torch.float32).to(device)\n",
    "test_input = torch.tensor(X_test, dtype=torch.float32).to(device)\n",
    "val_input = torch.tensor(X_val, dtype=torch.float32).to(device)\n",
    "\n",
    "train_label = torch.tensor(np.array(y_train).reshape(-1, 1), dtype=torch.float32).to(device)\n",
    "test_label = torch.tensor(np.array(y_test).reshape(-1, 1), dtype=torch.float32).to(device)\n",
    "val_label = torch.tensor(np.array(y_val).reshape(-1, 1), dtype=torch.float32).to(device)\n",
    "\n",
    "dataset = {\n",
    "    'train_input' : train_input,\n",
    "    'test_input'  : test_input,\n",
    "    'train_label' : train_label,\n",
    "    'test_label'  : test_label,\n",
    "    'val_input'   : val_input,\n",
    "    'val_label'   : val_label\n",
    "}"
   ]
  },
  {
   "cell_type": "code",
   "execution_count": 8,
   "id": "b452b290",
   "metadata": {},
   "outputs": [],
   "source": [
    "def train_acc():\n",
    "    return torch.mean((torch.round(model(dataset['train_input'])[:,0]) == dataset['train_label'][:,0]).float())\n",
    "\n",
    "def test_acc():\n",
    "    return torch.mean((torch.round(model(dataset['test_input'])[:,0]) == dataset['test_label'][:,0]).float())"
   ]
  },
  {
   "cell_type": "code",
   "execution_count": 9,
   "id": "07eaf0c3",
   "metadata": {},
   "outputs": [],
   "source": [
    "torch.cuda.empty_cache()"
   ]
  },
  {
   "cell_type": "code",
   "execution_count": 10,
   "id": "1038750f",
   "metadata": {},
   "outputs": [
    {
     "name": "stderr",
     "output_type": "stream",
     "text": [
      "train loss: 2.91e-01 | test loss: 3.27e-01 | reg: 4.61e+01 : 100%|█| 100/100 [11:46<00:00,  7.07s/it"
     ]
    },
    {
     "name": "stdout",
     "output_type": "stream",
     "text": [
      "Accuracy 0.8924598693847656 0.8543335795402527\n",
      "Duration 706.9556086063385\n"
     ]
    },
    {
     "name": "stderr",
     "output_type": "stream",
     "text": [
      "\n"
     ]
    }
   ],
   "source": [
    "st = time.time()\n",
    "\n",
    "model = KAN(width=[dataset['train_input'].shape[1], 3, 1], device=device).to(device)\n",
    "final_result = model.train(dataset, metrics=(train_acc, test_acc), device=device)\n",
    "\n",
    "et = time.time()\n",
    "duration_b4 = et-st\n",
    "\n",
    "print(\"Accuracy\", final_result['train_acc'][-1], final_result['test_acc'][-1])\n",
    "print(\"Duration\", duration_b4)"
   ]
  },
  {
   "cell_type": "code",
   "execution_count": 11,
   "id": "8cdf4c22",
   "metadata": {},
   "outputs": [
    {
     "data": {
      "image/png": "[encoded data removed]",
      "text/plain": [
       "<Figure size 640x480 with 2 Axes>"
      ]
     },
     "metadata": {},
     "output_type": "display_data"
    },
    {
     "name": "stdout",
     "output_type": "stream",
     "text": [
      "Accuracy: 0.8543335761107065\n",
      "Precision: 0.4322033898305085\n",
      "Recall: 0.9342672413793104\n",
      "F1 Score: 0.591002044989775\n"
     ]
    }
   ],
   "source": [
    "# get predicted values\n",
    "with torch.no_grad():\n",
    "    test_inputs = dataset['test_input'].clone().detach().to(device)\n",
    "    actual_labels = dataset['test_label'].clone().detach().to(device)\n",
    "    predicted_probs = model(test_inputs)\n",
    "    predicted_labels = (predicted_probs > 0.5).float()\n",
    "    \n",
    "y_pred = predicted_labels.cpu().numpy()\n",
    "y_true = actual_labels.cpu().numpy()\n",
    "\n",
    "conf_matrix = confusion_matrix(y_true, y_pred)\n",
    "tn, fp, fn, tp = confusion_matrix(y_true, y_pred).ravel()\n",
    "\n",
    "accuracy_b4 = (tn+tp)/(tn+fp+fn+tp)\n",
    "precision_b4 = tp / (tp + fp) if (tp + fp) != 0 else 0\n",
    "recall_b4 = tp / (tp + fn) if (tp + fn) != 0 else 0\n",
    "f1_score_b4 = 2 * (precision_b4 * recall_b4) / (precision_b4 + recall_b4) if (precision_b4 + recall_b4) != 0 else 0\n",
    "\n",
    "# confusion matrix heatmap\n",
    "plt.figure()\n",
    "sns.heatmap(conf_matrix, annot=True, fmt='d', cmap='Blues', xticklabels=['Not Converted', 'Converted'], yticklabels=['Not Converted', 'Converted'])\n",
    "plt.xlabel('Predicted')\n",
    "plt.ylabel('Actual')\n",
    "plt.show()\n",
    "\n",
    "# performance metrics\n",
    "print(f'Accuracy: {accuracy_b4}')\n",
    "print(f'Precision: {precision_b4}')\n",
    "print(f'Recall: {recall_b4}')\n",
    "print(f'F1 Score: {f1_score_b4}')"
   ]
  },
  {
   "cell_type": "code",
   "execution_count": 12,
   "id": "0e01502b",
   "metadata": {},
   "outputs": [
    {
     "name": "stdout",
     "output_type": "stream",
     "text": [
      "\n",
      "Training with grid = 1\n"
     ]
    },
    {
     "name": "stderr",
     "output_type": "stream",
     "text": [
      "train loss: 3.12e-01 | test loss: 3.36e-01 | reg: 1.90e+02 : 100%|█| 100/100 [09:51<00:00,  5.91s/it\n"
     ]
    },
    {
     "name": "stdout",
     "output_type": "stream",
     "text": [
      "Train Accuracy: 0.87053245, Test Accuracy: 0.84535080, Duration: 591.34 sec\n",
      "\n",
      "Training with grid = 3\n"
     ]
    },
    {
     "name": "stderr",
     "output_type": "stream",
     "text": [
      "train loss: 2.89e-01 | test loss: 3.26e-01 | reg: 4.68e+01 : 100%|█| 100/100 [11:50<00:00,  7.11s/it\n"
     ]
    },
    {
     "name": "stdout",
     "output_type": "stream",
     "text": [
      "Train Accuracy: 0.89186728, Test Accuracy: 0.85311967, Duration: 710.92 sec\n",
      "\n",
      "Training with grid = 5\n"
     ]
    },
    {
     "name": "stderr",
     "output_type": "stream",
     "text": [
      "train loss: 2.82e-01 | test loss: 3.25e-01 | reg: 5.82e+01 : 100%|█| 100/100 [11:25<00:00,  6.85s/it\n"
     ]
    },
    {
     "name": "stdout",
     "output_type": "stream",
     "text": [
      "Train Accuracy: 0.89813548, Test Accuracy: 0.84923524, Duration: 685.27 sec\n",
      "\n",
      "Training with grid = 7\n"
     ]
    },
    {
     "name": "stderr",
     "output_type": "stream",
     "text": [
      "train loss: 2.78e-01 | test loss: 3.25e-01 | reg: 5.44e+01 : 100%|█| 100/100 [11:17<00:00,  6.77s/it"
     ]
    },
    {
     "name": "stdout",
     "output_type": "stream",
     "text": [
      "Train Accuracy: 0.89948034, Test Accuracy: 0.85166299, Duration: 677.19 sec\n"
     ]
    },
    {
     "name": "stderr",
     "output_type": "stream",
     "text": [
      "\n"
     ]
    }
   ],
   "source": [
    "# fine-tune grid\n",
    "st = time.time()\n",
    "\n",
    "grid_values = [1, 3, 5, 7]\n",
    "results = []\n",
    "\n",
    "for grid_val in grid_values:\n",
    "    print(f\"\\nTraining with grid = {grid_val}\")\n",
    "    \n",
    "    st = time.time()\n",
    "    \n",
    "    model = KAN(width=[dataset['train_input'].shape[1], 3, 1], grid=grid_val, device=device).to(device)\n",
    "    final_result = model.train(dataset, opt=\"LBFGS\", metrics=(train_acc, test_acc), device=device)\n",
    "    \n",
    "    et = time.time()\n",
    "    duration = et - st\n",
    "    \n",
    "    train_accuracy = final_result['train_acc'][-1]\n",
    "    test_accuracy = final_result['test_acc'][-1]\n",
    "\n",
    "    print(f\"Train Accuracy: {train_accuracy:.8f}, Test Accuracy: {test_accuracy:.8f}, Duration: {duration:.2f} sec\")"
   ]
  },
  {
   "cell_type": "code",
   "execution_count": null,
   "id": "480ac9a9",
   "metadata": {},
   "outputs": [],
   "source": [
    "# here"
   ]
  },
  {
   "cell_type": "code",
   "execution_count": 13,
   "id": "10da37b9",
   "metadata": {},
   "outputs": [
    {
     "name": "stdout",
     "output_type": "stream",
     "text": [
      "\n",
      "Training with k = 1\n"
     ]
    },
    {
     "name": "stderr",
     "output_type": "stream",
     "text": [
      "train loss: 2.87e-01 | test loss: 3.30e-01 | reg: 4.41e+01 : 100%|█| 100/100 [09:59<00:00,  6.00s/it\n"
     ]
    },
    {
     "name": "stdout",
     "output_type": "stream",
     "text": [
      "Train Accuracy: 0.89355397, Test Accuracy: 0.85129887, Duration: 599.93 sec\n",
      "\n",
      "Training with k = 3\n"
     ]
    },
    {
     "name": "stderr",
     "output_type": "stream",
     "text": [
      "train loss: 2.92e-01 | test loss: 3.29e-01 | reg: 4.18e+01 : 100%|█| 100/100 [11:45<00:00,  7.06s/it\n"
     ]
    },
    {
     "name": "stdout",
     "output_type": "stream",
     "text": [
      "Train Accuracy: 0.89077318, Test Accuracy: 0.85069191, Duration: 705.79 sec\n",
      "\n",
      "Training with k = 5\n"
     ]
    },
    {
     "name": "stderr",
     "output_type": "stream",
     "text": [
      "train loss: 3.09e-01 | test loss: 3.40e-01 | reg: 1.16e+02 : 100%|█| 100/100 [12:02<00:00,  7.22s/it\n"
     ]
    },
    {
     "name": "stdout",
     "output_type": "stream",
     "text": [
      "Train Accuracy: 0.87481767, Test Accuracy: 0.84340858, Duration: 722.28 sec\n",
      "\n",
      "Training with k = 7\n"
     ]
    },
    {
     "name": "stderr",
     "output_type": "stream",
     "text": [
      "train loss: 2.99e-01 | test loss: 3.37e-01 | reg: 8.93e+01 : 100%|█| 100/100 [14:42<00:00,  8.83s/it"
     ]
    },
    {
     "name": "stdout",
     "output_type": "stream",
     "text": [
      "Train Accuracy: 0.88265866, Test Accuracy: 0.83697498, Duration: 882.81 sec\n"
     ]
    },
    {
     "name": "stderr",
     "output_type": "stream",
     "text": [
      "\n"
     ]
    }
   ],
   "source": [
    "# fine-tune k\n",
    "st = time.time()\n",
    "\n",
    "k_values = [1, 3, 5, 7]\n",
    "results = []\n",
    "\n",
    "for k_val in k_values:\n",
    "    print(f\"\\nTraining with k = {k_val}\")\n",
    "    \n",
    "    st = time.time()\n",
    "    \n",
    "    model = KAN(width=[dataset['train_input'].shape[1], 3, 1], grid=3, k=k_val, device=device).to(device)\n",
    "    final_result = model.train(dataset, opt=\"LBFGS\", metrics=(train_acc, test_acc), device=device)\n",
    "    \n",
    "    et = time.time()\n",
    "    duration = et - st\n",
    "    \n",
    "    train_accuracy = final_result['train_acc'][-1]\n",
    "    test_accuracy = final_result['test_acc'][-1]\n",
    "\n",
    "    print(f\"Train Accuracy: {train_accuracy:.8f}, Test Accuracy: {test_accuracy:.8f}, Duration: {duration:.2f} sec\")"
   ]
  },
  {
   "cell_type": "code",
   "execution_count": 14,
   "id": "8799f1ab",
   "metadata": {},
   "outputs": [
    {
     "name": "stdout",
     "output_type": "stream",
     "text": [
      "\n",
      "Training with step = 25\n"
     ]
    },
    {
     "name": "stderr",
     "output_type": "stream",
     "text": [
      "train loss: 2.99e-01 | test loss: 3.39e-01 | reg: 3.40e+01 : 100%|██| 25/25 [02:31<00:00,  6.06s/it]\n"
     ]
    },
    {
     "name": "stdout",
     "output_type": "stream",
     "text": [
      "Train Accuracy: 0.88236237, Test Accuracy: 0.84134501, Duration: 151.47 sec\n",
      "\n",
      "Training with step = 50\n"
     ]
    },
    {
     "name": "stderr",
     "output_type": "stream",
     "text": [
      "train loss: 2.89e-01 | test loss: 3.29e-01 | reg: 4.11e+01 : 100%|██| 50/50 [04:59<00:00,  6.00s/it]\n"
     ]
    },
    {
     "name": "stdout",
     "output_type": "stream",
     "text": [
      "Train Accuracy: 0.89127463, Test Accuracy: 0.83903861, Duration: 299.99 sec\n",
      "\n",
      "Training with step = 75\n"
     ]
    },
    {
     "name": "stderr",
     "output_type": "stream",
     "text": [
      "train loss: 2.90e-01 | test loss: 3.30e-01 | reg: 4.48e+01 : 100%|██| 75/75 [07:42<00:00,  6.16s/it]\n"
     ]
    },
    {
     "name": "stdout",
     "output_type": "stream",
     "text": [
      "Train Accuracy: 0.89088714, Test Accuracy: 0.84644330, Duration: 462.28 sec\n",
      "\n",
      "Training with step = 100\n"
     ]
    },
    {
     "name": "stderr",
     "output_type": "stream",
     "text": [
      "train loss: 2.90e-01 | test loss: 3.33e-01 | reg: 4.38e+01 : 100%|█| 100/100 [10:10<00:00,  6.10s/it"
     ]
    },
    {
     "name": "stdout",
     "output_type": "stream",
     "text": [
      "Train Accuracy: 0.89075035, Test Accuracy: 0.83806747, Duration: 610.06 sec\n"
     ]
    },
    {
     "name": "stderr",
     "output_type": "stream",
     "text": [
      "\n"
     ]
    }
   ],
   "source": [
    "# fine-tune step\n",
    "st = time.time()\n",
    "\n",
    "step_values = [25, 50, 75, 100]\n",
    "results = []\n",
    "\n",
    "for step_val in step_values:\n",
    "    print(f\"\\nTraining with step = {step_val}\")\n",
    "    \n",
    "    st = time.time()\n",
    "    \n",
    "    model = KAN(width=[dataset['train_input'].shape[1], 3, 1], grid=3, k=1, device=device).to(device)\n",
    "    final_result = model.train(dataset, opt=\"LBFGS\", steps=step_val, metrics=(train_acc, test_acc), device=device)\n",
    "    \n",
    "    et = time.time()\n",
    "    duration = et - st\n",
    "    \n",
    "    train_accuracy = final_result['train_acc'][-1]\n",
    "    test_accuracy = final_result['test_acc'][-1]\n",
    "\n",
    "    print(f\"Train Accuracy: {train_accuracy:.8f}, Test Accuracy: {test_accuracy:.8f}, Duration: {duration:.2f} sec\")"
   ]
  },
  {
   "cell_type": "code",
   "execution_count": 15,
   "id": "847e61b9",
   "metadata": {},
   "outputs": [
    {
     "name": "stdout",
     "output_type": "stream",
     "text": [
      "\n",
      "Training with lamb = 0\n"
     ]
    },
    {
     "name": "stderr",
     "output_type": "stream",
     "text": [
      "train loss: 2.93e-01 | test loss: 3.35e-01 | reg: 4.16e+01 : 100%|██| 75/75 [07:38<00:00,  6.12s/it]\n"
     ]
    },
    {
     "name": "stdout",
     "output_type": "stream",
     "text": [
      "Train Accuracy: 0.88673872, Test Accuracy: 0.84717166, Duration: 458.89 sec\n",
      "\n",
      "Training with lamb = 0.1\n"
     ]
    },
    {
     "name": "stderr",
     "output_type": "stream",
     "text": [
      "train loss: 4.19e-01 | test loss: 4.19e-01 | reg: 1.14e+01 : 100%|██| 75/75 [06:10<00:00,  4.94s/it]\n"
     ]
    },
    {
     "name": "stdout",
     "output_type": "stream",
     "text": [
      "Train Accuracy: 0.76048505, Test Accuracy: 0.79679531, Duration: 370.86 sec\n",
      "\n",
      "Training with lamb = 0.01\n"
     ]
    },
    {
     "name": "stderr",
     "output_type": "stream",
     "text": [
      "train loss: 3.42e-01 | test loss: 3.40e-01 | reg: 1.19e+01 : 100%|██| 75/75 [07:22<00:00,  5.91s/it]\n"
     ]
    },
    {
     "name": "stdout",
     "output_type": "stream",
     "text": [
      "Train Accuracy: 0.84796685, Test Accuracy: 0.84984219, Duration: 442.99 sec\n",
      "\n",
      "Training with lamb = 0.001\n"
     ]
    },
    {
     "name": "stderr",
     "output_type": "stream",
     "text": [
      "train loss: 3.02e-01 | test loss: 3.41e-01 | reg: 1.21e+01 : 100%|██| 75/75 [07:07<00:00,  5.69s/it]"
     ]
    },
    {
     "name": "stdout",
     "output_type": "stream",
     "text": [
      "Train Accuracy: 0.88033372, Test Accuracy: 0.84195191, Duration: 427.09 sec\n"
     ]
    },
    {
     "name": "stderr",
     "output_type": "stream",
     "text": [
      "\n"
     ]
    }
   ],
   "source": [
    "# fine-tune lamb\n",
    "st = time.time()\n",
    "\n",
    "lamb_values = [0, 0.1, 0.01, 0.001]\n",
    "results = []\n",
    "\n",
    "for lamb_val in lamb_values:\n",
    "    print(f\"\\nTraining with lamb = {lamb_val}\")\n",
    "    \n",
    "    st = time.time()\n",
    "    \n",
    "    model = KAN(width=[dataset['train_input'].shape[1], 3, 1], grid=3, k=1, device=device).to(device)\n",
    "    final_result = model.train(dataset, opt=\"LBFGS\", steps=75, lamb=lamb_val, metrics=(train_acc, test_acc), device=device)\n",
    "    \n",
    "    et = time.time()\n",
    "    duration = et - st\n",
    "    \n",
    "    train_accuracy = final_result['train_acc'][-1]\n",
    "    test_accuracy = final_result['test_acc'][-1]\n",
    "\n",
    "    print(f\"Train Accuracy: {train_accuracy:.8f}, Test Accuracy: {test_accuracy:.8f}, Duration: {duration:.2f} sec\")"
   ]
  },
  {
   "cell_type": "code",
   "execution_count": 16,
   "id": "b0601ae4",
   "metadata": {},
   "outputs": [
    {
     "name": "stdout",
     "output_type": "stream",
     "text": [
      "\n",
      "Training with lamb entropy = 0\n"
     ]
    },
    {
     "name": "stderr",
     "output_type": "stream",
     "text": [
      "train loss: 3.08e-01 | test loss: 3.42e-01 | reg: 8.12e-01 : 100%|██| 75/75 [06:53<00:00,  5.52s/it]\n"
     ]
    },
    {
     "name": "stdout",
     "output_type": "stream",
     "text": [
      "Train Accuracy: 0.88106310, Test Accuracy: 0.83818889, Duration: 414.00 sec\n",
      "\n",
      "Training with lamb entropy = 0.1\n"
     ]
    },
    {
     "name": "stderr",
     "output_type": "stream",
     "text": [
      "train loss: 3.13e-01 | test loss: 3.37e-01 | reg: 1.55e+00 : 100%|██| 75/75 [06:42<00:00,  5.36s/it]\n"
     ]
    },
    {
     "name": "stdout",
     "output_type": "stream",
     "text": [
      "Train Accuracy: 0.87456691, Test Accuracy: 0.84741443, Duration: 402.26 sec\n",
      "\n",
      "Training with lamb entropy = 0.01\n"
     ]
    },
    {
     "name": "stderr",
     "output_type": "stream",
     "text": [
      "train loss: 3.08e-01 | test loss: 3.41e-01 | reg: 9.62e-01 : 100%|██| 75/75 [06:56<00:00,  5.55s/it]\n"
     ]
    },
    {
     "name": "stdout",
     "output_type": "stream",
     "text": [
      "Train Accuracy: 0.88044769, Test Accuracy: 0.83855307, Duration: 416.22 sec\n",
      "\n",
      "Training with lamb entropy = 0.001\n"
     ]
    },
    {
     "name": "stderr",
     "output_type": "stream",
     "text": [
      "train loss: 3.09e-01 | test loss: 3.39e-01 | reg: 7.98e-01 : 100%|██| 75/75 [06:59<00:00,  5.59s/it]"
     ]
    },
    {
     "name": "stdout",
     "output_type": "stream",
     "text": [
      "Train Accuracy: 0.87857860, Test Accuracy: 0.84183055, Duration: 419.12 sec\n"
     ]
    },
    {
     "name": "stderr",
     "output_type": "stream",
     "text": [
      "\n"
     ]
    }
   ],
   "source": [
    "# fine-tune lamb entropy\n",
    "st = time.time()\n",
    "\n",
    "lamb_ent_values = [0, 0.1, 0.01, 0.001]\n",
    "results = []\n",
    "\n",
    "for lamb_ent_val in lamb_ent_values:\n",
    "    print(f\"\\nTraining with lamb entropy = {lamb_ent_val}\")\n",
    "    \n",
    "    st = time.time()\n",
    "    \n",
    "    model = KAN(width=[dataset['train_input'].shape[1], 3, 1], grid=3, k=1, device=device).to(device)\n",
    "    final_result = model.train(dataset, opt=\"LBFGS\", steps=75, lamb=0.01, lamb_entropy=lamb_ent_val, metrics=(train_acc, test_acc), device=device)\n",
    "    \n",
    "    et = time.time()\n",
    "    duration = et - st\n",
    "    \n",
    "    train_accuracy = final_result['train_acc'][-1]\n",
    "    test_accuracy = final_result['test_acc'][-1]\n",
    "\n",
    "    print(f\"Train Accuracy: {train_accuracy:.8f}, Test Accuracy: {test_accuracy:.8f}, Duration: {duration:.2f} sec\")"
   ]
  },
  {
   "cell_type": "code",
   "execution_count": 17,
   "id": "3f78f036",
   "metadata": {},
   "outputs": [
    {
     "name": "stderr",
     "output_type": "stream",
     "text": [
      "train loss: 3.11e-01 | test loss: 3.37e-01 | reg: 1.54e+00 : 100%|██| 75/75 [06:18<00:00,  5.05s/it]\n"
     ]
    },
    {
     "name": "stdout",
     "output_type": "stream",
     "text": [
      "Accuracy 0.8765955567359924 0.8464432954788208\n",
      "Duration 378.468567609787\n"
     ]
    },
    {
     "data": {
      "image/png": "[encoded data removed]",
      "text/plain": [
       "<Figure size 640x480 with 2 Axes>"
      ]
     },
     "metadata": {},
     "output_type": "display_data"
    },
    {
     "name": "stdout",
     "output_type": "stream",
     "text": [
      "Accuracy: 0.8464433114833697\n",
      "Precision: 0.41816415735794077\n",
      "Recall: 0.927801724137931\n",
      "F1 Score: 0.5764981586876464\n"
     ]
    }
   ],
   "source": [
    "# after fine-tune\n",
    "st = time.time()\n",
    "\n",
    "best_model = {'grid': 3, 'k': 1, 'step': 75, 'lamb': 0.01, 'lamb_entropy': 0.1}\n",
    "\n",
    "model = KAN(width=[dataset['train_input'].shape[1], 3, 1], grid=best_model['grid'], k=best_model['k'], device=device).to(device)\n",
    "final_result = model.train(dataset, opt=\"LBFGS\", steps=best_model['step'], lamb=best_model['lamb'], lamb_entropy=best_model['lamb_entropy'], metrics=(train_acc, test_acc), device=device)\n",
    "\n",
    "et = time.time()\n",
    "duration = et-st\n",
    "\n",
    "print(\"Accuracy\", final_result['train_acc'][-1], final_result['test_acc'][-1])\n",
    "print(\"Duration\", duration)\n",
    "\n",
    "# get predicted values\n",
    "with torch.no_grad():\n",
    "    test_inputs = dataset['test_input'].clone().detach().to(device)\n",
    "    actual_labels = dataset['test_label'].clone().detach().to(device)\n",
    "    predicted_probs = model(test_inputs)\n",
    "    predicted_labels = (predicted_probs > 0.5).float()\n",
    "    \n",
    "y_pred = predicted_labels.cpu().numpy()\n",
    "y_true = actual_labels.cpu().numpy()\n",
    "\n",
    "conf_matrix = confusion_matrix(y_true, y_pred)\n",
    "tn, fp, fn, tp = confusion_matrix(y_true, y_pred).ravel()\n",
    "\n",
    "accuracy = (tn+tp)/(tn+fp+fn+tp)\n",
    "precision = tp / (tp + fp) if (tp + fp) != 0 else 0\n",
    "recall = tp / (tp + fn) if (tp + fn) != 0 else 0\n",
    "f1_score = 2 * (precision * recall) / (precision + recall) if (precision + recall) != 0 else 0\n",
    "\n",
    "# confusion matrix heatmap\n",
    "plt.figure()\n",
    "sns.heatmap(conf_matrix, annot=True, fmt='d', cmap='Blues', xticklabels=['Not Converted', 'Converted'], yticklabels=['Not Converted', 'Converted'])\n",
    "plt.xlabel('Predicted')\n",
    "plt.ylabel('Actual')\n",
    "plt.show()\n",
    "\n",
    "# performance metrics\n",
    "print(f'Accuracy: {accuracy}')\n",
    "print(f'Precision: {precision}')\n",
    "print(f'Recall: {recall}')\n",
    "print(f'F1 Score: {f1_score}')"
   ]
  },
  {
   "cell_type": "code",
   "execution_count": 18,
   "id": "764d3448",
   "metadata": {},
   "outputs": [],
   "source": [
    "# save to csv\n",
    "filename = \"30.csv\"\n",
    "with open(filename, mode='w', newline='') as file:\n",
    "    writer = csv.writer(file)\n",
    "    writer.writerow([\"Metric\", \"Before\", \"After\"])\n",
    "    writer.writerow([\"Accuracy\", accuracy_b4, accuracy])\n",
    "    writer.writerow([\"Precision\", precision_b4, precision])\n",
    "    writer.writerow([\"Recall\", recall_b4, recall])\n",
    "    writer.writerow([\"F1 Score\", f1_score_b4, f1_score])\n",
    "    writer.writerow([\"Duration\", duration_b4, duration])"
   ]
  },
  {
   "cell_type": "code",
   "execution_count": null,
   "id": "a568f7be",
   "metadata": {},
   "outputs": [],
   "source": []
  }
 ],
 "metadata": {
  "kernelspec": {
   "display_name": "Python (test_gpu)",
   "language": "python",
   "name": "test_gpu"
  },
  "language_info": {
   "codemirror_mode": {
    "name": "ipython",
    "version": 3
   },
   "file_extension": ".py",
   "mimetype": "text/x-python",
   "name": "python",
   "nbconvert_exporter": "python",
   "pygments_lexer": "ipython3",
   "version": "3.9.19"
  }
 },
 "nbformat": 4,
 "nbformat_minor": 5
}
