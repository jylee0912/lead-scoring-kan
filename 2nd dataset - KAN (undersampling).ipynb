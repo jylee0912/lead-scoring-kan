{
 "cells": [
  {
   "cell_type": "code",
   "execution_count": 1,
   "id": "157bb371",
   "metadata": {},
   "outputs": [],
   "source": [
    "import tensorflow as tf\n",
    "import torch\n",
    "\n",
    "import pandas as pd\n",
    "\n",
    "from sklearn.preprocessing import OneHotEncoder, StandardScaler\n",
    "from sklearn.compose import ColumnTransformer\n",
    "from sklearn.pipeline import Pipeline\n",
    "from sklearn.impute import SimpleImputer\n",
    "from sklearn.model_selection import train_test_split\n",
    "import numpy as np\n",
    "\n",
    "from kan import *\n",
    "import time\n",
    "\n",
    "from sklearn.metrics import confusion_matrix, accuracy_score\n",
    "import seaborn as sns\n",
    "import csv\n",
    "\n",
    "from sklearn.model_selection import KFold\n",
    "\n",
    "from sklearn.feature_selection import SelectKBest\n",
    "from sklearn.feature_selection import mutual_info_regression, f_regression, chi2, f_classif, mutual_info_classif\n",
    "from sklearn.preprocessing import OrdinalEncoder"
   ]
  },
  {
   "cell_type": "code",
   "execution_count": 2,
   "id": "b453820f",
   "metadata": {},
   "outputs": [
    {
     "name": "stdout",
     "output_type": "stream",
     "text": [
      "True\n",
      "[PhysicalDevice(name='/physical_device:GPU:0', device_type='GPU')]\n",
      "cuda\n"
     ]
    }
   ],
   "source": [
    "print(tf.test.is_built_with_cuda())\n",
    "print(tf.config.list_physical_devices('GPU'))\n",
    "\n",
    "device = torch.device(\"cuda\" if torch.cuda.is_available() else \"cpu\")\n",
    "print(device)"
   ]
  },
  {
   "cell_type": "code",
   "execution_count": 3,
   "id": "03b058ea",
   "metadata": {},
   "outputs": [],
   "source": [
    "# read dataset\n",
    "df = pd.read_csv(\"Dataset/bank_marketing/bank-additional/bank-additional/bank-additional-full.csv\", delimiter=\";\")"
   ]
  },
  {
   "cell_type": "code",
   "execution_count": 4,
   "id": "484617ae",
   "metadata": {},
   "outputs": [
    {
     "name": "stderr",
     "output_type": "stream",
     "text": [
      "C:\\Users\\PC\\AppData\\Local\\Temp\\ipykernel_17384\\4124601977.py:3: FutureWarning: Downcasting behavior in `replace` is deprecated and will be removed in a future version. To retain the old behavior, explicitly call `result.infer_objects(copy=False)`. To opt-in to the future behavior, set `pd.set_option('future.no_silent_downcasting', True)`\n",
      "  df['y'] = df['y'].replace({'yes': 1, 'no': 0})\n"
     ]
    }
   ],
   "source": [
    "# preprocessing steps for numerical and categorical data (replace output value, replace missing value, encode, scale)\n",
    "# replace 'yes' with 1 and 'no' with 0\n",
    "df['y'] = df['y'].replace({'yes': 1, 'no': 0})\n",
    "\n",
    "numeric_features = df.drop([\"y\"], axis = 1).select_dtypes(include=['int64', 'float64']).columns\n",
    "categorical_features = df.select_dtypes(include=['object']).columns\n",
    "\n",
    "numeric_transformer = Pipeline(steps=[\n",
    "    ('imputer', SimpleImputer(strategy='constant', fill_value=0)),\n",
    "    ('scaler', StandardScaler())\n",
    "])\n",
    "\n",
    "categorical_transformer = Pipeline(steps=[\n",
    "    ('imputer', SimpleImputer(strategy='constant', fill_value='Unknown')),\n",
    "    ('onehot', OneHotEncoder(handle_unknown='ignore'))\n",
    "])\n",
    "\n",
    "preprocessor = ColumnTransformer(\n",
    "    transformers=[\n",
    "        ('num', numeric_transformer, numeric_features),\n",
    "        ('cat', categorical_transformer, categorical_features)\n",
    "    ])"
   ]
  },
  {
   "cell_type": "code",
   "execution_count": 5,
   "id": "6f5dced4",
   "metadata": {},
   "outputs": [],
   "source": [
    "# undersampling\n",
    "from sklearn.utils import resample\n",
    "\n",
    "df_majority = df[df[\"y\"] == 0]\n",
    "df_minority = df[df[\"y\"] == 1]\n",
    "\n",
    "df_majority_undersampled = resample(df_majority, replace=False, n_samples=len(df_minority), random_state=42)\n",
    "\n",
    "df_undersampled = pd.concat([df_majority_undersampled, df_minority])"
   ]
  },
  {
   "cell_type": "code",
   "execution_count": 6,
   "id": "a4cc0df5",
   "metadata": {},
   "outputs": [],
   "source": [
    "features = df_undersampled.drop(['y'], axis=1)\n",
    "target = df_undersampled['y']\n",
    "\n",
    "features = preprocessor.fit_transform(features)"
   ]
  },
  {
   "cell_type": "code",
   "execution_count": 7,
   "id": "df4c4b3c",
   "metadata": {},
   "outputs": [],
   "source": [
    "X_train, X_temp, y_train, y_temp = train_test_split(features, target, test_size=0.2, random_state=42)\n",
    "X_test, X_val, y_test, y_val = train_test_split(X_train, y_train, test_size=0.2, random_state=42)\n",
    "\n",
    "train_input = torch.tensor(X_train, dtype=torch.float32).to(device)\n",
    "test_input = torch.tensor(X_test, dtype=torch.float32).to(device)\n",
    "val_input = torch.tensor(X_val, dtype=torch.float32).to(device)\n",
    "\n",
    "train_label = torch.tensor(np.array(y_train).reshape(-1, 1), dtype=torch.float32).to(device)\n",
    "test_label = torch.tensor(np.array(y_test).reshape(-1, 1), dtype=torch.float32).to(device)\n",
    "val_label = torch.tensor(np.array(y_val).reshape(-1, 1), dtype=torch.float32).to(device)\n",
    "\n",
    "dataset = {\n",
    "    'train_input' : train_input,\n",
    "    'test_input'  : test_input,\n",
    "    'train_label' : train_label,\n",
    "    'test_label'  : test_label,\n",
    "    'val_input'   : val_input,\n",
    "    'val_label'   : val_label\n",
    "}"
   ]
  },
  {
   "cell_type": "code",
   "execution_count": 8,
   "id": "e8ccae70",
   "metadata": {},
   "outputs": [],
   "source": [
    "def train_acc():\n",
    "    return torch.mean((torch.round(model(dataset['train_input'])[:,0]) == dataset['train_label'][:,0]).float())\n",
    "\n",
    "def test_acc():\n",
    "    return torch.mean((torch.round(model(dataset['test_input'])[:,0]) == dataset['test_label'][:,0]).float())"
   ]
  },
  {
   "cell_type": "code",
   "execution_count": 9,
   "id": "087c90f1",
   "metadata": {},
   "outputs": [],
   "source": [
    "torch.cuda.empty_cache()"
   ]
  },
  {
   "cell_type": "code",
   "execution_count": 10,
   "id": "fa08242b",
   "metadata": {},
   "outputs": [
    {
     "name": "stderr",
     "output_type": "stream",
     "text": [
      "train loss: 2.27e-01 | test loss: 2.25e-01 | reg: 1.04e+01 : 100%|█| 100/100 [17:17<00:00, 10.38s/it"
     ]
    },
    {
     "name": "stdout",
     "output_type": "stream",
     "text": [
      "Accuracy 0.9412715435028076 0.942582905292511\n",
      "Duration 1037.8103835582733\n"
     ]
    },
    {
     "name": "stderr",
     "output_type": "stream",
     "text": [
      "\n"
     ]
    }
   ],
   "source": [
    "st = time.time()\n",
    "\n",
    "best_model = {'grid': 100, 'k': 5, 'step': 100, 'lamb': 0, 'lamb_entropy': 0}\n",
    "\n",
    "model = KAN(width=[dataset['train_input'].shape[1], 3, 1], grid=best_model['grid'], k=best_model['k'], device=device).to(device)\n",
    "final_result = model.train(dataset, opt=\"LBFGS\", steps=best_model['step'], lamb=best_model['lamb'], lamb_entropy=best_model['lamb_entropy'], metrics=(train_acc, test_acc), device=device)\n",
    "\n",
    "et = time.time()\n",
    "\n",
    "print(\"Accuracy\", final_result['train_acc'][-1], final_result['test_acc'][-1])\n",
    "print(\"Duration\", et-st)"
   ]
  },
  {
   "cell_type": "code",
   "execution_count": 11,
   "id": "1c9b7021",
   "metadata": {},
   "outputs": [
    {
     "data": {
      "image/png": "[encoded data removed]",
      "text/plain": [
       "<Figure size 640x480 with 2 Axes>"
      ]
     },
     "metadata": {},
     "output_type": "display_data"
    },
    {
     "name": "stdout",
     "output_type": "stream",
     "text": [
      "Accuracy: 0.942582926418589\n",
      "Precision: 0.9196172248803828\n",
      "Recall: 0.9700538358008075\n",
      "F1 Score: 0.9441624365482234\n"
     ]
    }
   ],
   "source": [
    "# get predicted values\n",
    "with torch.no_grad():\n",
    "    test_inputs = dataset['test_input'].clone().detach().to(device)\n",
    "    actual_labels = dataset['test_label'].clone().detach().to(device)\n",
    "    predicted_probs = model(test_inputs)\n",
    "    predicted_labels = (predicted_probs > 0.5).float()\n",
    "    \n",
    "y_pred = predicted_labels.cpu().numpy()\n",
    "y_true = actual_labels.cpu().numpy()\n",
    "\n",
    "conf_matrix = confusion_matrix(y_true, y_pred)\n",
    "tn, fp, fn, tp = confusion_matrix(y_true, y_pred).ravel()\n",
    "\n",
    "accuracy = (tn+tp)/(tn+fp+fn+tp)\n",
    "precision = tp / (tp + fp) if (tp + fp) != 0 else 0\n",
    "recall = tp / (tp + fn) if (tp + fn) != 0 else 0\n",
    "f1_score = 2 * (precision * recall) / (precision + recall) if (precision + recall) != 0 else 0\n",
    "\n",
    "# confusion matrix heatmap\n",
    "plt.figure()\n",
    "sns.heatmap(conf_matrix, annot=True, fmt='d', cmap='Blues', xticklabels=['Not Converted', 'Converted'], yticklabels=['Not Converted', 'Converted'])\n",
    "plt.xlabel('Predicted')\n",
    "plt.ylabel('Actual')\n",
    "plt.show()\n",
    "\n",
    "# performance metrics\n",
    "print(f'Accuracy: {accuracy}')\n",
    "print(f'Precision: {precision}')\n",
    "print(f'Recall: {recall}')\n",
    "print(f'F1 Score: {f1_score}')\n",
    "\n",
    "# save to csv\n",
    "filename = \"2nd_KAN_performance.csv\"\n",
    "with open(filename, mode='w', newline='') as file:\n",
    "    writer = csv.writer(file)\n",
    "    writer.writerow([\"Metric\", \"Value\"])\n",
    "    writer.writerow([\"Accuracy\", accuracy])\n",
    "    writer.writerow([\"Precision\", precision])\n",
    "    writer.writerow([\"Recall\", recall])\n",
    "    writer.writerow([\"F1 Score\", f1_score])\n",
    "    writer.writerow([\"Duration\", et - st])"
   ]
  },
  {
   "cell_type": "code",
   "execution_count": 12,
   "id": "08cbd508",
   "metadata": {},
   "outputs": [
    {
     "name": "stdout",
     "output_type": "stream",
     "text": [
      "Fold 1\n"
     ]
    },
    {
     "name": "stderr",
     "output_type": "stream",
     "text": [
      "train loss: 2.28e-01 | test loss: 3.36e-01 | reg: 1.08e+01 : 100%|█| 100/100 [17:34<00:00, 10.55s/it\n"
     ]
    },
    {
     "name": "stdout",
     "output_type": "stream",
     "text": [
      "Train Accuracy: 0.9348060488700867, Test Accuracy: 0.9383734464645386\n",
      "Fold 2\n"
     ]
    },
    {
     "name": "stderr",
     "output_type": "stream",
     "text": [
      "train loss: 2.26e-01 | test loss: 3.53e-01 | reg: 1.01e+01 : 100%|█| 100/100 [17:22<00:00, 10.43s/it\n"
     ]
    },
    {
     "name": "stdout",
     "output_type": "stream",
     "text": [
      "Train Accuracy: 0.9183728694915771, Test Accuracy: 0.9196833968162537\n",
      "Fold 3\n"
     ]
    },
    {
     "name": "stderr",
     "output_type": "stream",
     "text": [
      "train loss: 2.23e-01 | test loss: 3.44e-01 | reg: 1.12e+01 : 100%|█| 100/100 [17:36<00:00, 10.56s/it\n"
     ]
    },
    {
     "name": "stdout",
     "output_type": "stream",
     "text": [
      "Train Accuracy: 0.9162176847457886, Test Accuracy: 0.9158107042312622\n",
      "Fold 4\n"
     ]
    },
    {
     "name": "stderr",
     "output_type": "stream",
     "text": [
      "train loss: 2.29e-01 | test loss: 3.43e-01 | reg: 1.02e+01 : 100%|█| 100/100 [17:36<00:00, 10.56s/it\n"
     ]
    },
    {
     "name": "stdout",
     "output_type": "stream",
     "text": [
      "Train Accuracy: 0.9170258641242981, Test Accuracy: 0.9166526198387146\n",
      "Fold 5\n"
     ]
    },
    {
     "name": "stderr",
     "output_type": "stream",
     "text": [
      "train loss: 2.30e-01 | test loss: 3.42e-01 | reg: 1.04e+01 : 100%|█| 100/100 [17:38<00:00, 10.58s/it"
     ]
    },
    {
     "name": "stdout",
     "output_type": "stream",
     "text": [
      "Train Accuracy: 0.9170258641242981, Test Accuracy: 0.9215355515480042\n",
      "Average Training Accuracy: 0.9206896662712097, Average Test Accuracy: 0.9224111437797546\n",
      "Total Time taken: 5268.342932701111 seconds\n",
      "Average Training std dev: 0.007092042246111176, Average Test std dev: 0.008242921478052369\n"
     ]
    },
    {
     "name": "stderr",
     "output_type": "stream",
     "text": [
      "\n"
     ]
    }
   ],
   "source": [
    "# cross validation\n",
    "features_tensor = torch.tensor(features, dtype=torch.float32).to(device)\n",
    "target_tensor = torch.tensor(target.values.reshape(-1, 1), dtype=torch.float32).to(device)\n",
    "\n",
    "kf = KFold(n_splits=5, shuffle=True, random_state=42) # play around random_state (run 10 times)\n",
    "fold = 1\n",
    "train_accs = []\n",
    "test_accs = []\n",
    "st = time.time()\n",
    "\n",
    "best_model = {'grid': 100, 'k': 5, 'step': 100, 'lamb': 0, 'lamb_entropy': 0}\n",
    "\n",
    "for train_index, test_index in kf.split(features):\n",
    "    print(f\"Fold {fold}\")\n",
    "    \n",
    "    X_train, X_test = features_tensor[train_index], features_tensor[test_index]\n",
    "    y_train, y_test = target_tensor[train_index], target_tensor[test_index]\n",
    "    \n",
    "    train_input, test_input = X_train, X_test\n",
    "    train_label, test_label = y_train, y_test\n",
    "    \n",
    "    dataset_fold = {\n",
    "        'train_input': train_input,\n",
    "        'train_label': train_label,\n",
    "        'test_input': test_input,\n",
    "        'test_label': test_label\n",
    "    }\n",
    "    \n",
    "    model = KAN(width=[features_tensor.shape[1], 3, 1], grid=best_model['grid'], k=best_model['k'], device=device).to(device)\n",
    "    final_result = model.train(dataset_fold, \n",
    "                               opt=\"LBFGS\", \n",
    "                               steps=best_model['step'], \n",
    "                               lamb=best_model['lamb'], \n",
    "                               lamb_entropy=best_model['lamb_entropy'], \n",
    "                               metrics=(train_acc, test_acc), \n",
    "                               device=device)\n",
    "    \n",
    "    train_accuracy = final_result['train_acc'][-1]\n",
    "    test_accuracy = final_result['test_acc'][-1]\n",
    "    \n",
    "    train_accs.append(train_accuracy)\n",
    "    test_accs.append(test_accuracy)\n",
    "    \n",
    "    print(f\"Train Accuracy: {train_accuracy}, Test Accuracy: {test_accuracy}\")\n",
    "    \n",
    "    fold += 1\n",
    "\n",
    "et = time.time()\n",
    "avg_train_acc = np.mean(train_accs)\n",
    "avg_test_acc = np.mean(test_accs)\n",
    "print(f\"Average Training Accuracy: {avg_train_acc}, Average Test Accuracy: {avg_test_acc}\")\n",
    "print(f\"Total Time taken: {et - st} seconds\")\n",
    "\n",
    "avg_train_std = np.std(train_accs)\n",
    "avg_test_std = np.std(test_accs)\n",
    "print(f\"Average Training std dev: {avg_train_std}, Average Test std dev: {avg_test_std}\")"
   ]
  },
  {
   "cell_type": "code",
   "execution_count": 13,
   "id": "9e1add27",
   "metadata": {},
   "outputs": [],
   "source": [
    "# save to csv\n",
    "filename = \"2nd_std_dev.csv\"\n",
    "with open(filename, mode='w', newline='') as file:\n",
    "    writer = csv.writer(file)\n",
    "    writer.writerow([\"Fold\", \"Train\", \"Test\"])\n",
    "    writer.writerow([\"1\", train_accs[0], test_accs[0]])\n",
    "    writer.writerow([\"2\", train_accs[1], test_accs[1]])\n",
    "    writer.writerow([\"3\", train_accs[2], test_accs[2]])\n",
    "    writer.writerow([\"4\", train_accs[3], test_accs[3]])\n",
    "    writer.writerow([\"5\", train_accs[4], test_accs[4]])\n",
    "    writer.writerow([\"Avg Acc\", avg_train_acc, avg_test_acc])\n",
    "    writer.writerow([\"Avg Std Dev\", avg_train_std, avg_test_std])\n",
    "    writer.writerow([\"Duration\", et - st])"
   ]
  },
  {
   "cell_type": "code",
   "execution_count": 14,
   "id": "edacb74d",
   "metadata": {},
   "outputs": [
    {
     "name": "stdout",
     "output_type": "stream",
     "text": [
      "\n",
      "mutual_info_classif : \n",
      " Index(['num__duration', 'num__pdays', 'num__previous', 'num__emp.var.rate',\n",
      "       'num__cons.price.idx', 'num__cons.conf.idx', 'num__euribor3m',\n",
      "       'num__nr.employed', 'cat__month', 'cat__poutcome'],\n",
      "      dtype='object')\n"
     ]
    }
   ],
   "source": [
    "# feature selection\n",
    "numeric_features = df_undersampled.drop([\"y\"], axis = 1).select_dtypes(include=['int64', 'float64']).columns\n",
    "categorical_features = df_undersampled.select_dtypes(include=['object']).columns\n",
    "\n",
    "numeric_transformer = Pipeline(steps=[\n",
    "    ('imputer', SimpleImputer(strategy='constant', fill_value=0)),\n",
    "    ('scaler', StandardScaler())\n",
    "])\n",
    "\n",
    "categorical_transformer = Pipeline(steps=[\n",
    "    ('imputer', SimpleImputer(strategy='constant', fill_value='Unknown')),\n",
    "    ('onehot', OrdinalEncoder())\n",
    "])\n",
    "\n",
    "preprocessor = ColumnTransformer(\n",
    "    transformers=[\n",
    "        ('num', numeric_transformer, numeric_features),\n",
    "        ('cat', categorical_transformer, categorical_features)\n",
    "    ])\n",
    "\n",
    "features = preprocessor.fit_transform(df_undersampled)\n",
    "target = df_undersampled['y']\n",
    "\n",
    "feature_names = preprocessor.get_feature_names_out(input_features=df_undersampled.columns)\n",
    "features = pd.DataFrame(features, columns=feature_names)\n",
    "\n",
    "def feature_selection(X, y, criteria, k):\n",
    "    selector = SelectKBest(criteria, k=k).fit(X, y)\n",
    "    selected_columns = X.columns[selector.get_support()]\n",
    "    X = X[selected_columns]\n",
    "    return X\n",
    "\n",
    "new_X = feature_selection(features, target, mutual_info_classif, 10)\n",
    "print(\"\\nmutual_info_classif : \\n\", new_X.columns)"
   ]
  },
  {
   "cell_type": "code",
   "execution_count": 15,
   "id": "1606a2df",
   "metadata": {},
   "outputs": [
    {
     "name": "stderr",
     "output_type": "stream",
     "text": [
      "train loss: 2.47e-01 | test loss: 2.45e-01 | reg: 1.31e+00 : 100%|█| 100/100 [03:34<00:00,  2.15s/it"
     ]
    },
    {
     "name": "stdout",
     "output_type": "stream",
     "text": [
      "Accuracy 0.9210668206214905 0.9222090840339661\n",
      "Duration 214.8204743862152\n"
     ]
    },
    {
     "name": "stderr",
     "output_type": "stream",
     "text": [
      "\n"
     ]
    }
   ],
   "source": [
    "# if use mutual_info_classif\n",
    "torch.cuda.empty_cache()\n",
    "new_features = df_undersampled[['age', 'duration', 'pdays', 'emp.var.rate', 'cons.price.idx',\n",
    "                   'cons.conf.idx', 'euribor3m', 'nr.employed', 'month', 'poutcome']]\n",
    "new_target = df_undersampled['y']\n",
    "\n",
    "numerical_cols = new_features.select_dtypes(exclude=['object']).columns\n",
    "categorical_cols = new_features.select_dtypes(include=['object']).columns\n",
    "\n",
    "preprocessor = ColumnTransformer(\n",
    "    transformers=[\n",
    "        ('num', numeric_transformer, numerical_cols),\n",
    "        ('cat', categorical_transformer, categorical_cols)\n",
    "    ])\n",
    "\n",
    "new_features = preprocessor.fit_transform(new_features)\n",
    "\n",
    "X_train, X_temp, y_train, y_temp = train_test_split(new_features, new_target, test_size=0.2, random_state=42)\n",
    "X_test, X_val, y_test, y_val = train_test_split(X_train, y_train, test_size=0.2, random_state=42)\n",
    "\n",
    "train_input = torch.tensor(X_train, dtype=torch.float32).to(device)\n",
    "test_input = torch.tensor(X_test, dtype=torch.float32).to(device)\n",
    "val_input = torch.tensor(X_val, dtype=torch.float32).to(device)\n",
    "\n",
    "train_label = torch.tensor(np.array(y_train).reshape(-1, 1), dtype=torch.float32).to(device)\n",
    "test_label = torch.tensor(np.array(y_test).reshape(-1, 1), dtype=torch.float32).to(device)\n",
    "val_label = torch.tensor(np.array(y_val).reshape(-1, 1), dtype=torch.float32).to(device)\n",
    "\n",
    "dataset = {\n",
    "    'train_input' : train_input,\n",
    "    'test_input'  : test_input,\n",
    "    'train_label' : train_label,\n",
    "    'test_label'  : test_label,\n",
    "    'val_input'   : val_input,\n",
    "    'val_label'   : val_label\n",
    "}\n",
    "\n",
    "st = time.time()\n",
    "\n",
    "best_model = {'grid': 100, 'k': 5, 'step': 100, 'lamb': 0, 'lamb_entropy': 0}\n",
    "\n",
    "model = KAN(width=[dataset['train_input'].shape[1], 3, 1], grid=best_model['grid'], k=best_model['k'], device=device).to(device)\n",
    "final_result = model.train(dataset, opt=\"LBFGS\", steps=best_model['step'], lamb=best_model['lamb'], lamb_entropy=best_model['lamb_entropy'], metrics=(train_acc, test_acc), device=device)\n",
    "\n",
    "et = time.time()\n",
    "\n",
    "print(\"Accuracy\", final_result['train_acc'][-1], final_result['test_acc'][-1])\n",
    "print(\"Duration\", et-st)"
   ]
  },
  {
   "cell_type": "code",
   "execution_count": 16,
   "id": "a5a3be69",
   "metadata": {},
   "outputs": [
    {
     "data": {
      "image/png": "[encoded data removed]",
      "text/plain": [
       "<Figure size 640x480 with 2 Axes>"
      ]
     },
     "metadata": {},
     "output_type": "display_data"
    },
    {
     "name": "stdout",
     "output_type": "stream",
     "text": [
      "Accuracy: 0.9222091261155076\n",
      "Precision: 0.8989192625556262\n",
      "Recall: 0.9515477792732167\n",
      "F1 Score: 0.9244851258581236\n"
     ]
    }
   ],
   "source": [
    "# get predicted values\n",
    "with torch.no_grad():\n",
    "    test_inputs = dataset['test_input'].clone().detach().to(device)\n",
    "    actual_labels = dataset['test_label'].clone().detach().to(device)\n",
    "    predicted_probs = model(test_inputs)\n",
    "    predicted_labels = (predicted_probs > 0.5).float()\n",
    "    \n",
    "y_pred = predicted_labels.cpu().numpy()\n",
    "y_true = actual_labels.cpu().numpy()\n",
    "\n",
    "conf_matrix = confusion_matrix(y_true, y_pred)\n",
    "tn, fp, fn, tp = confusion_matrix(y_true, y_pred).ravel()\n",
    "\n",
    "accuracy = (tn+tp)/(tn+fp+fn+tp)\n",
    "precision = tp / (tp + fp) if (tp + fp) != 0 else 0\n",
    "recall = tp / (tp + fn) if (tp + fn) != 0 else 0\n",
    "f1_score = 2 * (precision * recall) / (precision + recall) if (precision + recall) != 0 else 0\n",
    "\n",
    "# confusion matrix heatmap\n",
    "plt.figure()\n",
    "sns.heatmap(conf_matrix, annot=True, fmt='d', cmap='Blues', xticklabels=['Not Converted', 'Converted'], yticklabels=['Not Converted', 'Converted'])\n",
    "plt.xlabel('Predicted')\n",
    "plt.ylabel('Actual')\n",
    "plt.show()\n",
    "\n",
    "# performance metrics\n",
    "print(f'Accuracy: {accuracy}')\n",
    "print(f'Precision: {precision}')\n",
    "print(f'Recall: {recall}')\n",
    "print(f'F1 Score: {f1_score}')\n",
    "\n",
    "# save to csv\n",
    "filename = \"feature_selection_performance.csv\"\n",
    "with open(filename, mode='w', newline='') as file:\n",
    "    writer = csv.writer(file)\n",
    "    writer.writerow([\"Metric\", \"Value\"])\n",
    "    writer.writerow([\"Accuracy\", accuracy])\n",
    "    writer.writerow([\"Precision\", precision])\n",
    "    writer.writerow([\"Recall\", recall])\n",
    "    writer.writerow([\"F1 Score\", f1_score])\n",
    "    writer.writerow([\"Duration\", et - st])"
   ]
  },
  {
   "cell_type": "code",
   "execution_count": 17,
   "id": "5060356b",
   "metadata": {},
   "outputs": [
    {
     "name": "stdout",
     "output_type": "stream",
     "text": [
      "Fold 1\n"
     ]
    },
    {
     "name": "stderr",
     "output_type": "stream",
     "text": [
      "train loss: 2.50e-01 | test loss: 3.20e-01 | reg: 1.47e+00 : 100%|█| 100/100 [03:37<00:00,  2.17s/it\n"
     ]
    },
    {
     "name": "stdout",
     "output_type": "stream",
     "text": [
      "Train Accuracy: 0.9168911576271057, Test Accuracy: 0.919178307056427\n",
      "Fold 2\n"
     ]
    },
    {
     "name": "stderr",
     "output_type": "stream",
     "text": [
      "train loss: 2.45e-01 | test loss: 3.29e-01 | reg: 1.54e+00 : 100%|█| 100/100 [03:35<00:00,  2.15s/it\n"
     ]
    },
    {
     "name": "stdout",
     "output_type": "stream",
     "text": [
      "Train Accuracy: 0.9086745381355286, Test Accuracy: 0.9126115441322327\n",
      "Fold 3\n"
     ]
    },
    {
     "name": "stderr",
     "output_type": "stream",
     "text": [
      "train loss: 2.52e-01 | test loss: 3.26e-01 | reg: 1.35e+00 : 100%|█| 100/100 [03:34<00:00,  2.14s/it\n"
     ]
    },
    {
     "name": "stdout",
     "output_type": "stream",
     "text": [
      "Train Accuracy: 0.9058458805084229, Test Accuracy: 0.9082337021827698\n",
      "Fold 4\n"
     ]
    },
    {
     "name": "stderr",
     "output_type": "stream",
     "text": [
      "train loss: 2.44e-01 | test loss: 3.26e-01 | reg: 1.43e+00 : 100%|█| 100/100 [03:34<00:00,  2.14s/it\n"
     ]
    },
    {
     "name": "stdout",
     "output_type": "stream",
     "text": [
      "Train Accuracy: 0.9102909564971924, Test Accuracy: 0.9114328622817993\n",
      "Fold 5\n"
     ]
    },
    {
     "name": "stderr",
     "output_type": "stream",
     "text": [
      "train loss: 2.53e-01 | test loss: 3.16e-01 | reg: 1.23e+00 : 100%|█| 100/100 [03:35<00:00,  2.15s/it"
     ]
    },
    {
     "name": "stdout",
     "output_type": "stream",
     "text": [
      "Train Accuracy: 0.9086745381355286, Test Accuracy: 0.9100858569145203\n",
      "Average Training Accuracy: 0.9100754141807557, Average Test Accuracy: 0.9123084545135498\n",
      "Total Time taken: 1076.2966344356537 seconds\n",
      "Average Training std dev: 0.0036963408849893125, Average Test std dev: 0.0037308697559293217\n"
     ]
    },
    {
     "name": "stderr",
     "output_type": "stream",
     "text": [
      "\n"
     ]
    }
   ],
   "source": [
    "# cross validation of feature selection\n",
    "features_tensor = torch.tensor(new_features, dtype=torch.float32).to(device)\n",
    "target_tensor = torch.tensor(new_target.values.reshape(-1, 1), dtype=torch.float32).to(device)\n",
    "\n",
    "kf = KFold(n_splits=5, shuffle=True, random_state=42) # play around random_state (run 10 times)\n",
    "fold = 1\n",
    "train_accs = []\n",
    "test_accs = []\n",
    "st = time.time()\n",
    "\n",
    "best_model = {'grid': 100, 'k': 5, 'step': 100, 'lamb': 0, 'lamb_entropy': 0}\n",
    "\n",
    "for train_index, test_index in kf.split(features):\n",
    "    print(f\"Fold {fold}\")\n",
    "    \n",
    "    X_train, X_test = features_tensor[train_index], features_tensor[test_index]\n",
    "    y_train, y_test = target_tensor[train_index], target_tensor[test_index]\n",
    "    \n",
    "    train_input, test_input = X_train, X_test\n",
    "    train_label, test_label = y_train, y_test\n",
    "    \n",
    "    dataset_fold = {\n",
    "        'train_input': train_input,\n",
    "        'train_label': train_label,\n",
    "        'test_input': test_input,\n",
    "        'test_label': test_label\n",
    "    }\n",
    "    \n",
    "    model = KAN(width=[features_tensor.shape[1], 3, 1], grid=best_model['grid'], k=best_model['k'], device=device).to(device)\n",
    "    final_result = model.train(dataset_fold, \n",
    "                               opt=\"LBFGS\", \n",
    "                               steps=best_model['step'], \n",
    "                               lamb=best_model['lamb'], \n",
    "                               lamb_entropy=best_model['lamb_entropy'], \n",
    "                               metrics=(train_acc, test_acc), \n",
    "                               device=device)\n",
    "    \n",
    "    train_accuracy = final_result['train_acc'][-1]\n",
    "    test_accuracy = final_result['test_acc'][-1]\n",
    "    \n",
    "    train_accs.append(train_accuracy)\n",
    "    test_accs.append(test_accuracy)\n",
    "    \n",
    "    print(f\"Train Accuracy: {train_accuracy}, Test Accuracy: {test_accuracy}\")\n",
    "    \n",
    "    fold += 1\n",
    "\n",
    "et = time.time()\n",
    "avg_train_acc = np.mean(train_accs)\n",
    "avg_test_acc = np.mean(test_accs)\n",
    "print(f\"Average Training Accuracy: {avg_train_acc}, Average Test Accuracy: {avg_test_acc}\")\n",
    "print(f\"Total Time taken: {et - st} seconds\")\n",
    "\n",
    "avg_train_std = np.std(train_accs)\n",
    "avg_test_std = np.std(test_accs)\n",
    "print(f\"Average Training std dev: {avg_train_std}, Average Test std dev: {avg_test_std}\")"
   ]
  },
  {
   "cell_type": "code",
   "execution_count": 18,
   "id": "adf55313",
   "metadata": {},
   "outputs": [],
   "source": [
    "# save to csv\n",
    "import csv\n",
    "\n",
    "filename = \"fs_std_dev.csv\"\n",
    "with open(filename, mode='w', newline='') as file:\n",
    "    writer = csv.writer(file)\n",
    "    writer.writerow([\"Fold\", \"Train\", \"Test\"])\n",
    "    writer.writerow([\"1\", train_accs[0], test_accs[0]])\n",
    "    writer.writerow([\"2\", train_accs[1], test_accs[1]])\n",
    "    writer.writerow([\"3\", train_accs[2], test_accs[2]])\n",
    "    writer.writerow([\"4\", train_accs[3], test_accs[3]])\n",
    "    writer.writerow([\"5\", train_accs[4], test_accs[4]])\n",
    "    writer.writerow([\"Avg Acc\", avg_train_acc, avg_test_acc])\n",
    "    writer.writerow([\"Avg Std Dev\", avg_train_std, avg_test_std])\n",
    "    writer.writerow([\"Duration\", et - st])"
   ]
  },
  {
   "cell_type": "code",
   "execution_count": null,
   "id": "89653a18",
   "metadata": {},
   "outputs": [],
   "source": []
  }
 ],
 "metadata": {
  "kernelspec": {
   "display_name": "Python (test_gpu)",
   "language": "python",
   "name": "test_gpu"
  },
  "language_info": {
   "codemirror_mode": {
    "name": "ipython",
    "version": 3
   },
   "file_extension": ".py",
   "mimetype": "text/x-python",
   "name": "python",
   "nbconvert_exporter": "python",
   "pygments_lexer": "ipython3",
   "version": "3.9.19"
  }
 },
 "nbformat": 4,
 "nbformat_minor": 5
}
