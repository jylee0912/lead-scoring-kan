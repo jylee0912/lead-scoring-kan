{
 "cells": [
  {
   "cell_type": "code",
   "execution_count": 1,
   "id": "11968db7",
   "metadata": {},
   "outputs": [
    {
     "name": "stderr",
     "output_type": "stream",
     "text": [
      "C:\\Users\\PC\\anaconda3\\envs\\clone_gpu\\lib\\site-packages\\requests\\__init__.py:86: RequestsDependencyWarning: Unable to find acceptable character detection dependency (chardet or charset_normalizer).\n",
      "  warnings.warn(\n"
     ]
    }
   ],
   "source": [
    "import tensorflow as tf\n",
    "import torch\n",
    "\n",
    "import pandas as pd\n",
    "\n",
    "from sklearn.preprocessing import OneHotEncoder, StandardScaler\n",
    "from sklearn.compose import ColumnTransformer\n",
    "from sklearn.pipeline import Pipeline\n",
    "from sklearn.impute import SimpleImputer\n",
    "from sklearn.model_selection import train_test_split\n",
    "import numpy as np\n",
    "from imblearn.under_sampling import RandomUnderSampler\n",
    "\n",
    "from kan import *\n",
    "import time\n",
    "\n",
    "from sklearn.metrics import confusion_matrix, accuracy_score\n",
    "import seaborn as sns\n",
    "import csv\n",
    "\n",
    "from sklearn.model_selection import KFold\n",
    "\n",
    "from sklearn.feature_selection import SelectKBest\n",
    "from sklearn.feature_selection import mutual_info_regression, f_regression, chi2, f_classif, mutual_info_classif\n",
    "from sklearn.preprocessing import OrdinalEncoder"
   ]
  },
  {
   "cell_type": "code",
   "execution_count": 2,
   "id": "9646d4f3",
   "metadata": {},
   "outputs": [
    {
     "name": "stdout",
     "output_type": "stream",
     "text": [
      "True\n",
      "[PhysicalDevice(name='/physical_device:GPU:0', device_type='GPU')]\n",
      "cuda\n"
     ]
    }
   ],
   "source": [
    "print(tf.test.is_built_with_cuda())\n",
    "print(tf.config.list_physical_devices('GPU'))\n",
    "device = torch.device(\"cuda\" if torch.cuda.is_available() else \"cpu\")\n",
    "print(device)"
   ]
  },
  {
   "cell_type": "code",
   "execution_count": 3,
   "id": "6f463af6",
   "metadata": {},
   "outputs": [],
   "source": [
    "# read dataset\n",
    "df = pd.read_csv(\"Dataset/bank_marketing/bank-additional/bank-additional/bank-additional-full.csv\", delimiter=\";\")"
   ]
  },
  {
   "cell_type": "code",
   "execution_count": 4,
   "id": "ca0c5cbc",
   "metadata": {},
   "outputs": [
    {
     "name": "stderr",
     "output_type": "stream",
     "text": [
      "C:\\Users\\PC\\AppData\\Local\\Temp\\ipykernel_9088\\1479273297.py:3: FutureWarning: Downcasting behavior in `replace` is deprecated and will be removed in a future version. To retain the old behavior, explicitly call `result.infer_objects(copy=False)`. To opt-in to the future behavior, set `pd.set_option('future.no_silent_downcasting', True)`\n",
      "  df['y'] = df['y'].replace({'yes': 1, 'no': 0})\n"
     ]
    }
   ],
   "source": [
    "# preprocessing steps for numerical and categorical data (replace y, replace missing value, encode, scale)\n",
    "# replace 'yes' with 1 and 'no' with 0\n",
    "df['y'] = df['y'].replace({'yes': 1, 'no': 0})\n",
    "\n",
    "target = df['y']\n",
    "df = df.drop(columns=['y'])\n",
    "\n",
    "numeric_features = df.select_dtypes(include=['int64', 'float64']).columns\n",
    "categorical_features = df.select_dtypes(include=['object']).columns\n",
    "\n",
    "numeric_transformer = Pipeline(steps=[\n",
    "    ('imputer', SimpleImputer(strategy='constant', fill_value=0)),\n",
    "    ('scaler', StandardScaler())\n",
    "])\n",
    "\n",
    "categorical_transformer = Pipeline(steps=[\n",
    "    ('imputer', SimpleImputer(strategy='constant', fill_value='Unknown')),\n",
    "    ('onehot', OneHotEncoder(handle_unknown='ignore'))\n",
    "])\n",
    "\n",
    "preprocessor = ColumnTransformer(\n",
    "    transformers=[\n",
    "        ('num', numeric_transformer, numeric_features),\n",
    "        ('cat', categorical_transformer, categorical_features)\n",
    "    ])\n",
    "\n",
    "features = preprocessor.fit_transform(df)"
   ]
  },
  {
   "cell_type": "code",
   "execution_count": 5,
   "id": "7ff677d7",
   "metadata": {},
   "outputs": [],
   "source": [
    "# split dataset\n",
    "X_train, X_temp, y_train, y_temp = train_test_split(features, target, test_size=0.4, random_state=30)\n",
    "X_test, X_val, y_test, y_val = train_test_split(X_temp, y_temp, test_size=0.5, random_state=30)"
   ]
  },
  {
   "cell_type": "code",
   "execution_count": 6,
   "id": "87e9ab77",
   "metadata": {},
   "outputs": [],
   "source": [
    "# undersampling\n",
    "rus = RandomUnderSampler(random_state=30)\n",
    "X_train, y_train = rus.fit_resample(X_train, y_train)"
   ]
  },
  {
   "cell_type": "code",
   "execution_count": 7,
   "id": "7593e81b",
   "metadata": {},
   "outputs": [],
   "source": [
    "train_input = torch.tensor(X_train, dtype=torch.float32).to(device)\n",
    "test_input = torch.tensor(X_test, dtype=torch.float32).to(device)\n",
    "val_input = torch.tensor(X_val, dtype=torch.float32).to(device)\n",
    "\n",
    "train_label = torch.tensor(np.array(y_train).reshape(-1, 1), dtype=torch.float32).to(device)\n",
    "test_label = torch.tensor(np.array(y_test).reshape(-1, 1), dtype=torch.float32).to(device)\n",
    "val_label = torch.tensor(np.array(y_val).reshape(-1, 1), dtype=torch.float32).to(device)\n",
    "\n",
    "dataset = {\n",
    "    'train_input' : train_input,\n",
    "    'test_input'  : test_input,\n",
    "    'train_label' : train_label,\n",
    "    'test_label'  : test_label,\n",
    "    'val_input'   : val_input,\n",
    "    'val_label'   : val_label\n",
    "}"
   ]
  },
  {
   "cell_type": "code",
   "execution_count": 8,
   "id": "b452b290",
   "metadata": {},
   "outputs": [],
   "source": [
    "def train_acc():\n",
    "    return torch.mean((torch.round(model(dataset['train_input'])[:,0]) == dataset['train_label'][:,0]).float())\n",
    "\n",
    "def test_acc():\n",
    "    return torch.mean((torch.round(model(dataset['test_input'])[:,0]) == dataset['test_label'][:,0]).float())"
   ]
  },
  {
   "cell_type": "code",
   "execution_count": 9,
   "id": "07eaf0c3",
   "metadata": {},
   "outputs": [],
   "source": [
    "torch.cuda.empty_cache()"
   ]
  },
  {
   "cell_type": "code",
   "execution_count": 10,
   "id": "1038750f",
   "metadata": {},
   "outputs": [
    {
     "name": "stderr",
     "output_type": "stream",
     "text": [
      "train loss: 2.79e-01 | test loss: 3.41e-01 | reg: 4.65e+01 : 100%|█| 100/100 [09:31<00:00,  5.72s/it"
     ]
    },
    {
     "name": "stdout",
     "output_type": "stream",
     "text": [
      "Accuracy 0.9016570448875427 0.8447438478469849\n",
      "Duration 572.609215259552\n"
     ]
    },
    {
     "name": "stderr",
     "output_type": "stream",
     "text": [
      "\n"
     ]
    }
   ],
   "source": [
    "st = time.time()\n",
    "\n",
    "model = KAN(width=[dataset['train_input'].shape[1], 3, 1], device=device).to(device)\n",
    "final_result = model.train(dataset, metrics=(train_acc, test_acc), device=device)\n",
    "\n",
    "et = time.time()\n",
    "duration_b4 = et-st\n",
    "\n",
    "print(\"Accuracy\", final_result['train_acc'][-1], final_result['test_acc'][-1])\n",
    "print(\"Duration\", duration_b4)"
   ]
  },
  {
   "cell_type": "code",
   "execution_count": 11,
   "id": "8cdf4c22",
   "metadata": {},
   "outputs": [
    {
     "data": {
      "image/png": "[encoded data removed]",
      "text/plain": [
       "<Figure size 640x480 with 2 Axes>"
      ]
     },
     "metadata": {},
     "output_type": "display_data"
    },
    {
     "name": "stdout",
     "output_type": "stream",
     "text": [
      "Accuracy: 0.8451080359310512\n",
      "Precision: 0.4168260038240918\n",
      "Recall: 0.9396551724137931\n",
      "F1 Score: 0.5774834437086093\n"
     ]
    }
   ],
   "source": [
    "# get predicted values\n",
    "with torch.no_grad():\n",
    "    test_inputs = dataset['test_input'].clone().detach().to(device)\n",
    "    actual_labels = dataset['test_label'].clone().detach().to(device)\n",
    "    predicted_probs = model(test_inputs)\n",
    "    predicted_labels = (predicted_probs > 0.5).float()\n",
    "    \n",
    "y_pred = predicted_labels.cpu().numpy()\n",
    "y_true = actual_labels.cpu().numpy()\n",
    "\n",
    "conf_matrix = confusion_matrix(y_true, y_pred)\n",
    "tn, fp, fn, tp = confusion_matrix(y_true, y_pred).ravel()\n",
    "\n",
    "accuracy_b4 = (tn+tp)/(tn+fp+fn+tp)\n",
    "precision_b4 = tp / (tp + fp) if (tp + fp) != 0 else 0\n",
    "recall_b4 = tp / (tp + fn) if (tp + fn) != 0 else 0\n",
    "f1_score_b4 = 2 * (precision_b4 * recall_b4) / (precision_b4 + recall_b4) if (precision_b4 + recall_b4) != 0 else 0\n",
    "\n",
    "# confusion matrix heatmap\n",
    "plt.figure()\n",
    "sns.heatmap(conf_matrix, annot=True, fmt='d', cmap='Blues', xticklabels=['Not Converted', 'Converted'], yticklabels=['Not Converted', 'Converted'])\n",
    "plt.xlabel('Predicted')\n",
    "plt.ylabel('Actual')\n",
    "plt.show()\n",
    "\n",
    "# performance metrics\n",
    "print(f'Accuracy: {accuracy_b4}')\n",
    "print(f'Precision: {precision_b4}')\n",
    "print(f'Recall: {recall_b4}')\n",
    "print(f'F1 Score: {f1_score_b4}')"
   ]
  },
  {
   "cell_type": "code",
   "execution_count": 12,
   "id": "6773e8de",
   "metadata": {},
   "outputs": [
    {
     "name": "stdout",
     "output_type": "stream",
     "text": [
      "\n",
      "Training with grid = 1\n"
     ]
    },
    {
     "name": "stderr",
     "output_type": "stream",
     "text": [
      "train loss: 2.83e-01 | test loss: 3.37e-01 | reg: 8.11e+01 : 100%|█| 100/100 [09:19<00:00,  5.59s/it\n"
     ]
    },
    {
     "name": "stdout",
     "output_type": "stream",
     "text": [
      "Train Accuracy: 0.89715415, Test Accuracy: 0.83964556, Duration: 559.28 sec\n",
      "\n",
      "Training with grid = 3\n"
     ]
    },
    {
     "name": "stderr",
     "output_type": "stream",
     "text": [
      "train loss: 2.79e-01 | test loss: 3.42e-01 | reg: 5.26e+01 : 100%|█| 100/100 [09:53<00:00,  5.93s/it\n"
     ]
    },
    {
     "name": "stdout",
     "output_type": "stream",
     "text": [
      "Train Accuracy: 0.90255761, Test Accuracy: 0.84474385, Duration: 593.28 sec\n",
      "\n",
      "Training with grid = 5\n"
     ]
    },
    {
     "name": "stderr",
     "output_type": "stream",
     "text": [
      "train loss: 2.73e-01 | test loss: 3.92e-01 | reg: 4.13e+01 : 100%|█| 100/100 [09:54<00:00,  5.94s/it\n"
     ]
    },
    {
     "name": "stdout",
     "output_type": "stream",
     "text": [
      "Train Accuracy: 0.90471900, Test Accuracy: 0.83369750, Duration: 594.48 sec\n",
      "\n",
      "Training with grid = 7\n"
     ]
    },
    {
     "name": "stderr",
     "output_type": "stream",
     "text": [
      "train loss: 2.73e-01 | test loss: 5.02e-01 | reg: 4.33e+01 : 100%|█| 100/100 [09:16<00:00,  5.56s/it"
     ]
    },
    {
     "name": "stdout",
     "output_type": "stream",
     "text": [
      "Train Accuracy: 0.90399855, Test Accuracy: 0.84146637, Duration: 556.42 sec\n"
     ]
    },
    {
     "name": "stderr",
     "output_type": "stream",
     "text": [
      "\n"
     ]
    }
   ],
   "source": [
    "# fine-tune grid\n",
    "st = time.time()\n",
    "\n",
    "grid_values = [1, 3, 5, 7]\n",
    "results = []\n",
    "\n",
    "for grid_val in grid_values:\n",
    "    print(f\"\\nTraining with grid = {grid_val}\")\n",
    "    \n",
    "    st = time.time()\n",
    "    \n",
    "    model = KAN(width=[dataset['train_input'].shape[1], 3, 1], grid=grid_val, device=device).to(device)\n",
    "    final_result = model.train(dataset, opt=\"LBFGS\", metrics=(train_acc, test_acc), device=device)\n",
    "    \n",
    "    et = time.time()\n",
    "    duration = et - st\n",
    "    \n",
    "    train_accuracy = final_result['train_acc'][-1]\n",
    "    test_accuracy = final_result['test_acc'][-1]\n",
    "\n",
    "    print(f\"Train Accuracy: {train_accuracy:.8f}, Test Accuracy: {test_accuracy:.8f}, Duration: {duration:.2f} sec\")"
   ]
  },
  {
   "cell_type": "code",
   "execution_count": 14,
   "id": "10da37b9",
   "metadata": {},
   "outputs": [
    {
     "name": "stdout",
     "output_type": "stream",
     "text": [
      "\n",
      "Training with k = 1\n"
     ]
    },
    {
     "name": "stderr",
     "output_type": "stream",
     "text": [
      "train loss: 2.81e-01 | test loss: 3.39e-01 | reg: 8.15e+01 : 100%|█| 100/100 [08:49<00:00,  5.30s/it\n"
     ]
    },
    {
     "name": "stdout",
     "output_type": "stream",
     "text": [
      "Train Accuracy: 0.89841497, Test Accuracy: 0.84304440, Duration: 529.93 sec\n",
      "\n",
      "Training with k = 3\n"
     ]
    },
    {
     "name": "stderr",
     "output_type": "stream",
     "text": [
      "train loss: 2.79e-01 | test loss: 3.41e-01 | reg: 5.25e+01 : 100%|█| 100/100 [10:13<00:00,  6.14s/it\n"
     ]
    },
    {
     "name": "stdout",
     "output_type": "stream",
     "text": [
      "Train Accuracy: 0.90075648, Test Accuracy: 0.84340858, Duration: 613.59 sec\n",
      "\n",
      "Training with k = 5\n"
     ]
    },
    {
     "name": "stderr",
     "output_type": "stream",
     "text": [
      "train loss: 2.77e-01 | test loss: 3.38e-01 | reg: 7.25e+01 : 100%|█| 100/100 [10:01<00:00,  6.02s/it\n"
     ]
    },
    {
     "name": "stdout",
     "output_type": "stream",
     "text": [
      "Train Accuracy: 0.90363830, Test Accuracy: 0.84000969, Duration: 601.55 sec\n",
      "\n",
      "Training with k = 7\n"
     ]
    },
    {
     "name": "stderr",
     "output_type": "stream",
     "text": [
      "train loss: 3.12e-01 | test loss: 3.53e-01 | reg: 3.10e+03 : 100%|█| 100/100 [07:40<00:00,  4.60s/it"
     ]
    },
    {
     "name": "stdout",
     "output_type": "stream",
     "text": [
      "Train Accuracy: 0.87427950, Test Accuracy: 0.83017725, Duration: 460.22 sec\n"
     ]
    },
    {
     "name": "stderr",
     "output_type": "stream",
     "text": [
      "\n"
     ]
    }
   ],
   "source": [
    "# fine-tune k\n",
    "st = time.time()\n",
    "\n",
    "k_values = [1, 3, 5, 7]\n",
    "results = []\n",
    " \n",
    "for k_val in k_values:\n",
    "    print(f\"\\nTraining with k = {k_val}\")\n",
    "    \n",
    "    st = time.time()\n",
    "    \n",
    "    model = KAN(width=[dataset['train_input'].shape[1], 3, 1], grid=3, k=k_val, device=device).to(device)\n",
    "    final_result = model.train(dataset, opt=\"LBFGS\", metrics=(train_acc, test_acc), device=device)\n",
    "    \n",
    "    et = time.time()\n",
    "    duration = et - st\n",
    "    \n",
    "    train_accuracy = final_result['train_acc'][-1]\n",
    "    test_accuracy = final_result['test_acc'][-1]\n",
    "\n",
    "    print(f\"Train Accuracy: {train_accuracy:.8f}, Test Accuracy: {test_accuracy:.8f}, Duration: {duration:.2f} sec\")"
   ]
  },
  {
   "cell_type": "code",
   "execution_count": 15,
   "id": "783c6a8f",
   "metadata": {},
   "outputs": [
    {
     "name": "stdout",
     "output_type": "stream",
     "text": [
      "\n",
      "Training with step = 25\n"
     ]
    },
    {
     "name": "stderr",
     "output_type": "stream",
     "text": [
      "train loss: 2.83e-01 | test loss: 3.40e-01 | reg: 3.74e+01 : 100%|██| 25/25 [02:28<00:00,  5.93s/it]\n"
     ]
    },
    {
     "name": "stdout",
     "output_type": "stream",
     "text": [
      "Train Accuracy: 0.89823484, Test Accuracy: 0.84243751, Duration: 148.25 sec\n",
      "\n",
      "Training with step = 50\n"
     ]
    },
    {
     "name": "stderr",
     "output_type": "stream",
     "text": [
      "train loss: 2.81e-01 | test loss: 3.41e-01 | reg: 4.35e+01 : 100%|██| 50/50 [04:58<00:00,  5.97s/it]\n"
     ]
    },
    {
     "name": "stdout",
     "output_type": "stream",
     "text": [
      "Train Accuracy: 0.89751440, Test Accuracy: 0.84353000, Duration: 298.46 sec\n",
      "\n",
      "Training with step = 75\n"
     ]
    },
    {
     "name": "stderr",
     "output_type": "stream",
     "text": [
      "train loss: 2.81e-01 | test loss: 3.39e-01 | reg: 5.25e+01 : 100%|██| 75/75 [07:37<00:00,  6.10s/it]\n"
     ]
    },
    {
     "name": "stdout",
     "output_type": "stream",
     "text": [
      "Train Accuracy: 0.89877516, Test Accuracy: 0.84340858, Duration: 457.57 sec\n",
      "\n",
      "Training with step = 100\n"
     ]
    },
    {
     "name": "stderr",
     "output_type": "stream",
     "text": [
      "train loss: 2.79e-01 | test loss: 3.42e-01 | reg: 4.90e+01 : 100%|█| 100/100 [10:08<00:00,  6.09s/it"
     ]
    },
    {
     "name": "stdout",
     "output_type": "stream",
     "text": [
      "Train Accuracy: 0.90039623, Test Accuracy: 0.84389412, Duration: 608.68 sec\n"
     ]
    },
    {
     "name": "stderr",
     "output_type": "stream",
     "text": [
      "\n"
     ]
    }
   ],
   "source": [
    "# fine-tune step\n",
    "st = time.time()\n",
    "\n",
    "step_values = [25, 50, 75, 100]\n",
    "results = []\n",
    "\n",
    "for step_val in step_values:\n",
    "    print(f\"\\nTraining with step = {step_val}\")\n",
    "    \n",
    "    st = time.time()\n",
    "\n",
    "    model = KAN(width=[dataset['train_input'].shape[1], 3, 1], grid=3, k=3, device=device).to(device)\n",
    "    final_result = model.train(dataset, opt=\"LBFGS\", steps=step_val, metrics=(train_acc, test_acc), device=device)\n",
    "    \n",
    "    et = time.time()\n",
    "    duration = et - st\n",
    "    \n",
    "    train_accuracy = final_result['train_acc'][-1]\n",
    "    test_accuracy = final_result['test_acc'][-1]\n",
    "\n",
    "    print(f\"Train Accuracy: {train_accuracy:.8f}, Test Accuracy: {test_accuracy:.8f}, Duration: {duration:.2f} sec\")"
   ]
  },
  {
   "cell_type": "code",
   "execution_count": 16,
   "id": "847e61b9",
   "metadata": {},
   "outputs": [
    {
     "name": "stdout",
     "output_type": "stream",
     "text": [
      "\n",
      "Training with lamb = 0\n"
     ]
    },
    {
     "name": "stderr",
     "output_type": "stream",
     "text": [
      "train loss: 2.79e-01 | test loss: 3.41e-01 | reg: 4.42e+01 : 100%|█| 100/100 [10:00<00:00,  6.00s/it\n"
     ]
    },
    {
     "name": "stdout",
     "output_type": "stream",
     "text": [
      "Train Accuracy: 0.90183717, Test Accuracy: 0.84292305, Duration: 600.30 sec\n",
      "\n",
      "Training with lamb = 0.1\n"
     ]
    },
    {
     "name": "stderr",
     "output_type": "stream",
     "text": [
      "train loss: 5.57e-01 | test loss: 4.92e-01 | reg: 2.06e+01 : 100%|█| 100/100 [03:16<00:00,  1.97s/it\n"
     ]
    },
    {
     "name": "stdout",
     "output_type": "stream",
     "text": [
      "Train Accuracy: 0.51711094, Test Accuracy: 0.66496724, Duration: 196.56 sec\n",
      "\n",
      "Training with lamb = 0.01\n"
     ]
    },
    {
     "name": "stderr",
     "output_type": "stream",
     "text": [
      "train loss: 3.67e-01 | test loss: 3.69e-01 | reg: 1.62e+01 : 100%|█| 100/100 [06:10<00:00,  3.70s/it\n"
     ]
    },
    {
     "name": "stdout",
     "output_type": "stream",
     "text": [
      "Train Accuracy: 0.83105183, Test Accuracy: 0.82058752, Duration: 370.29 sec\n",
      "\n",
      "Training with lamb = 0.001\n"
     ]
    },
    {
     "name": "stderr",
     "output_type": "stream",
     "text": [
      "train loss: 3.11e-01 | test loss: 3.49e-01 | reg: 1.83e+01 : 100%|█| 100/100 [06:36<00:00,  3.96s/it"
     ]
    },
    {
     "name": "stdout",
     "output_type": "stream",
     "text": [
      "Train Accuracy: 0.87752157, Test Accuracy: 0.83515418, Duration: 396.17 sec\n"
     ]
    },
    {
     "name": "stderr",
     "output_type": "stream",
     "text": [
      "\n"
     ]
    }
   ],
   "source": [
    "# fine-tune lamb\n",
    "st = time.time()\n",
    "\n",
    "lamb_values = [0, 0.1, 0.01, 0.001]\n",
    "results = []\n",
    "\n",
    "for lamb_val in lamb_values:\n",
    "    print(f\"\\nTraining with lamb = {lamb_val}\")\n",
    "    \n",
    "    st = time.time()\n",
    "    \n",
    "    model = KAN(width=[dataset['train_input'].shape[1], 3, 1], grid=3, k=3, device=device).to(device)\n",
    "    final_result = model.train(dataset, opt=\"LBFGS\", steps=100, lamb=lamb_val, metrics=(train_acc, test_acc), device=device)\n",
    "    \n",
    "    et = time.time()\n",
    "    duration = et - st\n",
    "    \n",
    "    train_accuracy = final_result['train_acc'][-1]\n",
    "    test_accuracy = final_result['test_acc'][-1]\n",
    "\n",
    "    print(f\"Train Accuracy: {train_accuracy:.8f}, Test Accuracy: {test_accuracy:.8f}, Duration: {duration:.2f} sec\")\n",
    "    # rerun"
   ]
  },
  {
   "cell_type": "code",
   "execution_count": 17,
   "id": "b0601ae4",
   "metadata": {},
   "outputs": [
    {
     "name": "stdout",
     "output_type": "stream",
     "text": [
      "\n",
      "Training with lamb entropy = 0\n"
     ]
    },
    {
     "name": "stderr",
     "output_type": "stream",
     "text": [
      "train loss: 2.79e-01 | test loss: 3.41e-01 | reg: 3.24e+01 : 100%|█| 100/100 [10:00<00:00,  6.00s/it\n"
     ]
    },
    {
     "name": "stdout",
     "output_type": "stream",
     "text": [
      "Train Accuracy: 0.89913541, Test Accuracy: 0.84389412, Duration: 600.25 sec\n",
      "\n",
      "Training with lamb entropy = 0.1\n"
     ]
    },
    {
     "name": "stderr",
     "output_type": "stream",
     "text": [
      "train loss: 2.79e-01 | test loss: 3.42e-01 | reg: 3.39e+01 : 100%|█| 100/100 [10:14<00:00,  6.14s/it\n"
     ]
    },
    {
     "name": "stdout",
     "output_type": "stream",
     "text": [
      "Train Accuracy: 0.89985585, Test Accuracy: 0.84389412, Duration: 614.48 sec\n",
      "\n",
      "Training with lamb entropy = 0.01\n"
     ]
    },
    {
     "name": "stderr",
     "output_type": "stream",
     "text": [
      "train loss: 2.80e-01 | test loss: 3.41e-01 | reg: 4.14e+01 : 100%|█| 100/100 [10:15<00:00,  6.15s/it\n"
     ]
    },
    {
     "name": "stdout",
     "output_type": "stream",
     "text": [
      "Train Accuracy: 0.90057635, Test Accuracy: 0.84522945, Duration: 615.32 sec\n",
      "\n",
      "Training with lamb entropy = 0.001\n"
     ]
    },
    {
     "name": "stderr",
     "output_type": "stream",
     "text": [
      "train loss: 2.79e-01 | test loss: 3.41e-01 | reg: 2.88e+01 : 100%|█| 100/100 [10:00<00:00,  6.01s/it"
     ]
    },
    {
     "name": "stdout",
     "output_type": "stream",
     "text": [
      "Train Accuracy: 0.90021610, Test Accuracy: 0.84377277, Duration: 600.67 sec\n"
     ]
    },
    {
     "name": "stderr",
     "output_type": "stream",
     "text": [
      "\n"
     ]
    }
   ],
   "source": [
    "# fine-tune lamb entropy\n",
    "st = time.time()\n",
    "\n",
    "lamb_ent_values = [0, 0.1, 0.01, 0.001]\n",
    "results = []\n",
    "\n",
    "for lamb_ent_val in lamb_ent_values:\n",
    "    print(f\"\\nTraining with lamb entropy = {lamb_ent_val}\")\n",
    "    \n",
    "    st = time.time()\n",
    "    \n",
    "    model = KAN(width=[dataset['train_input'].shape[1], 3, 1], grid=3, k=3, device=device).to(device)\n",
    "    final_result = model.train(dataset, opt=\"LBFGS\", steps=100, lamb=0, lamb_entropy=lamb_ent_val, metrics=(train_acc, test_acc), device=device)\n",
    "    \n",
    "    et = time.time()\n",
    "    duration = et - st\n",
    "    \n",
    "    train_accuracy = final_result['train_acc'][-1]\n",
    "    test_accuracy = final_result['test_acc'][-1]\n",
    "\n",
    "    print(f\"Train Accuracy: {train_accuracy:.8f}, Test Accuracy: {test_accuracy:.8f}, Duration: {duration:.2f} sec\")"
   ]
  },
  {
   "cell_type": "code",
   "execution_count": 18,
   "id": "3f78f036",
   "metadata": {},
   "outputs": [
    {
     "name": "stderr",
     "output_type": "stream",
     "text": [
      "train loss: 2.80e-01 | test loss: 3.42e-01 | reg: 3.69e+01 : 100%|█| 100/100 [10:04<00:00,  6.04s/it\n"
     ]
    },
    {
     "name": "stdout",
     "output_type": "stream",
     "text": [
      "Accuracy 0.8998558521270752 0.8441369533538818\n",
      "Duration 604.2685194015503\n"
     ]
    },
    {
     "data": {
      "image/png": "[encoded data removed]",
      "text/plain": [
       "<Figure size 640x480 with 2 Axes>"
      ]
     },
     "metadata": {},
     "output_type": "display_data"
    },
    {
     "name": "stdout",
     "output_type": "stream",
     "text": [
      "Accuracy: 0.8445010924981792\n",
      "Precision: 0.41567128523650265\n",
      "Recall: 0.9375\n",
      "F1 Score: 0.5759682224428998\n"
     ]
    }
   ],
   "source": [
    "# after fine-tune\n",
    "st = time.time()\n",
    "\n",
    "best_model = {'grid': 3, 'k': 3, 'step': 100, 'lamb': 0, 'lamb_entropy': 0.01}\n",
    "\n",
    "model = KAN(width=[dataset['train_input'].shape[1], 3, 1], grid=best_model['grid'], k=best_model['k'], device=device).to(device)\n",
    "final_result = model.train(dataset, opt=\"LBFGS\", steps=best_model['step'], lamb=best_model['lamb'], lamb_entropy=best_model['lamb_entropy'], metrics=(train_acc, test_acc), device=device)\n",
    "\n",
    "et = time.time()\n",
    "duration = et-st\n",
    "\n",
    "print(\"Accuracy\", final_result['train_acc'][-1], final_result['test_acc'][-1])\n",
    "print(\"Duration\", duration)\n",
    "\n",
    "# get predicted values\n",
    "with torch.no_grad():\n",
    "    test_inputs = dataset['test_input'].clone().detach().to(device)\n",
    "    actual_labels = dataset['test_label'].clone().detach().to(device)\n",
    "    predicted_probs = model(test_inputs)\n",
    "    predicted_labels = (predicted_probs > 0.5).float()\n",
    "    \n",
    "y_pred = predicted_labels.cpu().numpy()\n",
    "y_true = actual_labels.cpu().numpy()\n",
    "\n",
    "conf_matrix = confusion_matrix(y_true, y_pred)\n",
    "tn, fp, fn, tp = confusion_matrix(y_true, y_pred).ravel()\n",
    "\n",
    "accuracy = (tn+tp)/(tn+fp+fn+tp)\n",
    "precision = tp / (tp + fp) if (tp + fp) != 0 else 0\n",
    "recall = tp / (tp + fn) if (tp + fn) != 0 else 0\n",
    "f1_score = 2 * (precision * recall) / (precision + recall) if (precision + recall) != 0 else 0\n",
    "\n",
    "# confusion matrix heatmap\n",
    "plt.figure()\n",
    "sns.heatmap(conf_matrix, annot=True, fmt='d', cmap='Blues', xticklabels=['Not Converted', 'Converted'], yticklabels=['Not Converted', 'Converted'])\n",
    "plt.xlabel('Predicted')\n",
    "plt.ylabel('Actual')\n",
    "plt.show()\n",
    "\n",
    "# performance metrics\n",
    "print(f'Accuracy: {accuracy}')\n",
    "print(f'Precision: {precision}')\n",
    "print(f'Recall: {recall}')\n",
    "print(f'F1 Score: {f1_score}')"
   ]
  },
  {
   "cell_type": "code",
   "execution_count": 19,
   "id": "764d3448",
   "metadata": {},
   "outputs": [],
   "source": [
    "# save to csv\n",
    "filename = \"30.csv\"\n",
    "with open(filename, mode='w', newline='') as file:\n",
    "    writer = csv.writer(file)\n",
    "    writer.writerow([\"Metric\", \"Before\", \"After\"])\n",
    "    writer.writerow([\"Accuracy\", accuracy_b4, accuracy])\n",
    "    writer.writerow([\"Precision\", precision_b4, precision])\n",
    "    writer.writerow([\"Recall\", recall_b4, recall])\n",
    "    writer.writerow([\"F1 Score\", f1_score_b4, f1_score])\n",
    "    writer.writerow([\"Duration\", duration_b4, duration])"
   ]
  },
  {
   "cell_type": "code",
   "execution_count": null,
   "id": "7d14d38b",
   "metadata": {},
   "outputs": [],
   "source": []
  }
 ],
 "metadata": {
  "kernelspec": {
   "display_name": "Python (test_gpu)",
   "language": "python",
   "name": "test_gpu"
  },
  "language_info": {
   "codemirror_mode": {
    "name": "ipython",
    "version": 3
   },
   "file_extension": ".py",
   "mimetype": "text/x-python",
   "name": "python",
   "nbconvert_exporter": "python",
   "pygments_lexer": "ipython3",
   "version": "3.9.19"
  }
 },
 "nbformat": 4,
 "nbformat_minor": 5
}
