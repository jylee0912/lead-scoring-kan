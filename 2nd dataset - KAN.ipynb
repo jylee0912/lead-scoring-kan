{
 "cells": [
  {
   "cell_type": "code",
   "execution_count": 1,
   "id": "41048275",
   "metadata": {},
   "outputs": [],
   "source": [
    "import tensorflow as tf\n",
    "import torch\n",
    "\n",
    "import pandas as pd\n",
    "\n",
    "from sklearn.preprocessing import OneHotEncoder, StandardScaler\n",
    "from sklearn.compose import ColumnTransformer\n",
    "from sklearn.pipeline import Pipeline\n",
    "from sklearn.impute import SimpleImputer\n",
    "from sklearn.model_selection import train_test_split\n",
    "import numpy as np\n",
    "\n",
    "from kan import *\n",
    "import time\n",
    "\n",
    "from sklearn.metrics import confusion_matrix, accuracy_score\n",
    "import seaborn as sns\n",
    "import csv\n",
    "\n",
    "from sklearn.model_selection import KFold\n",
    "\n",
    "from sklearn.feature_selection import SelectKBest\n",
    "from sklearn.feature_selection import mutual_info_regression, f_regression, chi2, f_classif, mutual_info_classif\n",
    "from sklearn.preprocessing import OrdinalEncoder"
   ]
  },
  {
   "cell_type": "code",
   "execution_count": 2,
   "id": "ee57ecd0",
   "metadata": {},
   "outputs": [
    {
     "name": "stdout",
     "output_type": "stream",
     "text": [
      "True\n",
      "[PhysicalDevice(name='/physical_device:GPU:0', device_type='GPU')]\n",
      "cuda\n"
     ]
    }
   ],
   "source": [
    "print(tf.test.is_built_with_cuda())\n",
    "print(tf.config.list_physical_devices('GPU'))\n",
    "device = torch.device(\"cuda\" if torch.cuda.is_available() else \"cpu\")\n",
    "print(device)"
   ]
  },
  {
   "cell_type": "code",
   "execution_count": 3,
   "id": "21c681a6",
   "metadata": {},
   "outputs": [],
   "source": [
    "# read dataset\n",
    "df = pd.read_csv(\"Dataset/bank_marketing/bank-additional/bank-additional/bank-additional-full.csv\", delimiter=\";\")"
   ]
  },
  {
   "cell_type": "code",
   "execution_count": 4,
   "id": "0c3f5f43",
   "metadata": {},
   "outputs": [
    {
     "name": "stderr",
     "output_type": "stream",
     "text": [
      "C:\\Users\\PC\\AppData\\Local\\Temp\\ipykernel_18000\\1479273297.py:3: FutureWarning: Downcasting behavior in `replace` is deprecated and will be removed in a future version. To retain the old behavior, explicitly call `result.infer_objects(copy=False)`. To opt-in to the future behavior, set `pd.set_option('future.no_silent_downcasting', True)`\n",
      "  df['y'] = df['y'].replace({'yes': 1, 'no': 0})\n"
     ]
    }
   ],
   "source": [
    "# preprocessing steps for numerical and categorical data (replace y, replace missing value, encode, scale)\n",
    "# replace 'yes' with 1 and 'no' with 0\n",
    "df['y'] = df['y'].replace({'yes': 1, 'no': 0})\n",
    "\n",
    "target = df['y']\n",
    "df = df.drop(columns=['y'])\n",
    "\n",
    "numeric_features = df.select_dtypes(include=['int64', 'float64']).columns\n",
    "categorical_features = df.select_dtypes(include=['object']).columns\n",
    "\n",
    "numeric_transformer = Pipeline(steps=[\n",
    "    ('imputer', SimpleImputer(strategy='constant', fill_value=0)),\n",
    "    ('scaler', StandardScaler())\n",
    "])\n",
    "\n",
    "categorical_transformer = Pipeline(steps=[\n",
    "    ('imputer', SimpleImputer(strategy='constant', fill_value='Unknown')),\n",
    "    ('onehot', OneHotEncoder(handle_unknown='ignore'))\n",
    "])\n",
    "\n",
    "preprocessor = ColumnTransformer(\n",
    "    transformers=[\n",
    "        ('num', numeric_transformer, numeric_features),\n",
    "        ('cat', categorical_transformer, categorical_features)\n",
    "    ])\n",
    "\n",
    "features = preprocessor.fit_transform(df)"
   ]
  },
  {
   "cell_type": "code",
   "execution_count": 5,
   "id": "12207666",
   "metadata": {},
   "outputs": [],
   "source": [
    "X_train, X_temp, y_train, y_temp = train_test_split(features, target, test_size=0.4, random_state=30)\n",
    "X_test, X_val, y_test, y_val = train_test_split(X_temp, y_temp, test_size=0.5, random_state=30)\n",
    "\n",
    "train_input = torch.tensor(X_train, dtype=torch.float32).to(device)\n",
    "test_input = torch.tensor(X_test, dtype=torch.float32).to(device)\n",
    "val_input = torch.tensor(X_val, dtype=torch.float32).to(device)\n",
    "\n",
    "train_label = torch.tensor(np.array(y_train).reshape(-1, 1), dtype=torch.float32).to(device)\n",
    "test_label = torch.tensor(np.array(y_test).reshape(-1, 1), dtype=torch.float32).to(device)\n",
    "val_label = torch.tensor(np.array(y_val).reshape(-1, 1), dtype=torch.float32).to(device)\n",
    "\n",
    "dataset = {\n",
    "    'train_input' : train_input,\n",
    "    'test_input'  : test_input,\n",
    "    'train_label' : train_label,\n",
    "    'test_label'  : test_label,\n",
    "    'val_input'   : val_input,\n",
    "    'val_label'   : val_label\n",
    "}"
   ]
  },
  {
   "cell_type": "code",
   "execution_count": 6,
   "id": "4ca5324b",
   "metadata": {},
   "outputs": [],
   "source": [
    "def train_acc():\n",
    "    return torch.mean((torch.round(model(dataset['train_input'])[:,0]) == dataset['train_label'][:,0]).float())\n",
    "\n",
    "def test_acc():\n",
    "    return torch.mean((torch.round(model(dataset['test_input'])[:,0]) == dataset['test_label'][:,0]).float())"
   ]
  },
  {
   "cell_type": "code",
   "execution_count": 7,
   "id": "9175bdf3",
   "metadata": {},
   "outputs": [],
   "source": [
    "torch.cuda.empty_cache()"
   ]
  },
  {
   "cell_type": "code",
   "execution_count": 8,
   "id": "15054f0c",
   "metadata": {},
   "outputs": [
    {
     "name": "stderr",
     "output_type": "stream",
     "text": [
      "train loss: 2.33e-01 | test loss: 2.40e-01 | reg: 6.52e+01 : 100%|█| 100/100 [11:11<00:00,  6.71s/it"
     ]
    },
    {
     "name": "stdout",
     "output_type": "stream",
     "text": [
      "Accuracy 0.9224263429641724 0.915027916431427\n",
      "Duration 671.1083166599274\n"
     ]
    },
    {
     "name": "stderr",
     "output_type": "stream",
     "text": [
      "\n"
     ]
    }
   ],
   "source": [
    "st = time.time()\n",
    "\n",
    "model = KAN(width=[dataset['train_input'].shape[1], 3, 1], device=device).to(device)\n",
    "final_result = model.train(dataset, metrics=(train_acc, test_acc), device=device)\n",
    "\n",
    "et = time.time()\n",
    "duration_b4 = et-st\n",
    "\n",
    "print(\"Accuracy\", final_result['train_acc'][-1], final_result['test_acc'][-1])\n",
    "print(\"Duration\", duration_b4)"
   ]
  },
  {
   "cell_type": "code",
   "execution_count": 9,
   "id": "1305083f",
   "metadata": {},
   "outputs": [
    {
     "data": {
      "image/png": "[encoded data removed]",
      "text/plain": [
       "<Figure size 640x480 with 2 Axes>"
      ]
     },
     "metadata": {},
     "output_type": "display_data"
    },
    {
     "name": "stdout",
     "output_type": "stream",
     "text": [
      "Accuracy: 0.9150279193979121\n",
      "Precision: 0.6488250652741514\n",
      "Recall: 0.5355603448275862\n",
      "F1 Score: 0.586776859504132\n"
     ]
    }
   ],
   "source": [
    "# get predicted values\n",
    "with torch.no_grad():\n",
    "    test_inputs = dataset['test_input'].clone().detach().to(device)\n",
    "    actual_labels = dataset['test_label'].clone().detach().to(device)\n",
    "    predicted_probs = model(test_inputs)\n",
    "    predicted_labels = (predicted_probs > 0.5).float()\n",
    "    \n",
    "y_pred = predicted_labels.cpu().numpy()\n",
    "y_true = actual_labels.cpu().numpy()\n",
    "\n",
    "conf_matrix = confusion_matrix(y_true, y_pred)\n",
    "tn, fp, fn, tp = confusion_matrix(y_true, y_pred).ravel()\n",
    "\n",
    "accuracy_b4 = (tn+tp)/(tn+fp+fn+tp)\n",
    "precision_b4 = tp / (tp + fp) if (tp + fp) != 0 else 0\n",
    "recall_b4 = tp / (tp + fn) if (tp + fn) != 0 else 0\n",
    "f1_score_b4 = 2 * (precision_b4 * recall_b4) / (precision_b4 + recall_b4) if (precision_b4 + recall_b4) != 0 else 0\n",
    "\n",
    "# confusion matrix heatmap\n",
    "plt.figure()\n",
    "sns.heatmap(conf_matrix, annot=True, fmt='d', cmap='Blues', xticklabels=['Not Converted', 'Converted'], yticklabels=['Not Converted', 'Converted'])\n",
    "plt.xlabel('Predicted')\n",
    "plt.ylabel('Actual')\n",
    "plt.show()\n",
    "\n",
    "# performance metrics\n",
    "print(f'Accuracy: {accuracy_b4}')\n",
    "print(f'Precision: {precision_b4}')\n",
    "print(f'Recall: {recall_b4}')\n",
    "print(f'F1 Score: {f1_score_b4}')"
   ]
  },
  {
   "cell_type": "code",
   "execution_count": 10,
   "id": "43bb23c2",
   "metadata": {},
   "outputs": [
    {
     "name": "stdout",
     "output_type": "stream",
     "text": [
      "\n",
      "Training with grid = 1\n"
     ]
    },
    {
     "name": "stderr",
     "output_type": "stream",
     "text": [
      "train loss: 2.43e-01 | test loss: 2.48e-01 | reg: 1.05e+02 : 100%|█| 100/100 [10:27<00:00,  6.27s/it\n"
     ]
    },
    {
     "name": "stdout",
     "output_type": "stream",
     "text": [
      "Train Accuracy: 0.91324049, Test Accuracy: 0.90774459, Duration: 627.02 sec\n",
      "\n",
      "Training with grid = 3\n"
     ]
    },
    {
     "name": "stderr",
     "output_type": "stream",
     "text": [
      "train loss: 2.34e-01 | test loss: 2.41e-01 | reg: 4.44e+01 : 100%|█| 100/100 [11:03<00:00,  6.64s/it\n"
     ]
    },
    {
     "name": "stdout",
     "output_type": "stream",
     "text": [
      "Train Accuracy: 0.92092907, Test Accuracy: 0.91369265, Duration: 663.73 sec\n",
      "\n",
      "Training with grid = 5\n"
     ]
    },
    {
     "name": "stderr",
     "output_type": "stream",
     "text": [
      "train loss: 2.31e-01 | test loss: 2.42e-01 | reg: 4.42e+01 : 100%|█| 100/100 [11:12<00:00,  6.73s/it\n"
     ]
    },
    {
     "name": "stdout",
     "output_type": "stream",
     "text": [
      "Train Accuracy: 0.92311424, Test Accuracy: 0.91332847, Duration: 672.91 sec\n",
      "\n",
      "Training with grid = 7\n"
     ]
    },
    {
     "name": "stderr",
     "output_type": "stream",
     "text": [
      "train loss: 2.30e-01 | test loss: 2.43e-01 | reg: 4.79e+01 : 100%|█| 100/100 [11:46<00:00,  7.07s/it"
     ]
    },
    {
     "name": "stdout",
     "output_type": "stream",
     "text": [
      "Train Accuracy: 0.92501616, Test Accuracy: 0.91138625, Duration: 706.60 sec\n"
     ]
    },
    {
     "name": "stderr",
     "output_type": "stream",
     "text": [
      "\n"
     ]
    }
   ],
   "source": [
    "# fine-tune grid\n",
    "st = time.time()\n",
    "\n",
    "grid_values = [1, 3, 5, 7]\n",
    "results = []\n",
    "\n",
    "for grid_val in grid_values:\n",
    "    print(f\"\\nTraining with grid = {grid_val}\")\n",
    "    \n",
    "    st = time.time()\n",
    "    \n",
    "    model = KAN(width=[dataset['train_input'].shape[1], 3, 1], grid=grid_val, device=device).to(device)\n",
    "    final_result = model.train(dataset, opt=\"LBFGS\", metrics=(train_acc, test_acc), device=device)\n",
    "    \n",
    "    et = time.time()\n",
    "    duration = et - st\n",
    "    \n",
    "    train_accuracy = final_result['train_acc'][-1]\n",
    "    test_accuracy = final_result['test_acc'][-1]\n",
    "\n",
    "    print(f\"Train Accuracy: {train_accuracy:.8f}, Test Accuracy: {test_accuracy:.8f}, Duration: {duration:.2f} sec\")"
   ]
  },
  {
   "cell_type": "code",
   "execution_count": 11,
   "id": "57aff006",
   "metadata": {
    "scrolled": false
   },
   "outputs": [
    {
     "name": "stdout",
     "output_type": "stream",
     "text": [
      "\n",
      "Training with k = 1\n"
     ]
    },
    {
     "name": "stderr",
     "output_type": "stream",
     "text": [
      "train loss: 2.33e-01 | test loss: 2.41e-01 | reg: 9.43e+01 : 100%|█| 100/100 [11:03<00:00,  6.64s/it\n"
     ]
    },
    {
     "name": "stdout",
     "output_type": "stream",
     "text": [
      "Train Accuracy: 0.92194074, Test Accuracy: 0.91442096, Duration: 663.92 sec\n",
      "\n",
      "Training with k = 3\n"
     ]
    },
    {
     "name": "stderr",
     "output_type": "stream",
     "text": [
      "train loss: 2.32e-01 | test loss: 2.42e-01 | reg: 6.82e+01 : 100%|█| 100/100 [11:06<00:00,  6.66s/it\n"
     ]
    },
    {
     "name": "stdout",
     "output_type": "stream",
     "text": [
      "Train Accuracy: 0.92210263, Test Accuracy: 0.91223598, Duration: 666.23 sec\n",
      "\n",
      "Training with k = 5\n"
     ]
    },
    {
     "name": "stderr",
     "output_type": "stream",
     "text": [
      "train loss: 2.38e-01 | test loss: 2.44e-01 | reg: 7.48e+01 : 100%|█| 100/100 [12:13<00:00,  7.33s/it\n"
     ]
    },
    {
     "name": "stdout",
     "output_type": "stream",
     "text": [
      "Train Accuracy: 0.91825831, Test Accuracy: 0.91138625, Duration: 733.50 sec\n",
      "\n",
      "Training with k = 7\n"
     ]
    },
    {
     "name": "stderr",
     "output_type": "stream",
     "text": [
      "train loss: 2.35e-01 | test loss: 2.43e-01 | reg: 6.43e+01 : 100%|█| 100/100 [12:48<00:00,  7.69s/it"
     ]
    },
    {
     "name": "stdout",
     "output_type": "stream",
     "text": [
      "Train Accuracy: 0.92076725, Test Accuracy: 0.91393542, Duration: 768.83 sec\n"
     ]
    },
    {
     "name": "stderr",
     "output_type": "stream",
     "text": [
      "\n"
     ]
    }
   ],
   "source": [
    "# fine-tune k\n",
    "st = time.time()\n",
    "\n",
    "k_values = [1, 3, 5, 7]\n",
    "results = []\n",
    "\n",
    "for k_val in k_values:\n",
    "    print(f\"\\nTraining with k = {k_val}\")\n",
    "    \n",
    "    st = time.time()\n",
    "    \n",
    "    model = KAN(width=[dataset['train_input'].shape[1], 3, 1], grid=3, k=k_val, device=device).to(device)\n",
    "    final_result = model.train(dataset, opt=\"LBFGS\", metrics=(train_acc, test_acc), device=device)\n",
    "    \n",
    "    et = time.time()\n",
    "    duration = et - st\n",
    "    \n",
    "    train_accuracy = final_result['train_acc'][-1]\n",
    "    test_accuracy = final_result['test_acc'][-1]\n",
    "\n",
    "    print(f\"Train Accuracy: {train_accuracy:.8f}, Test Accuracy: {test_accuracy:.8f}, Duration: {duration:.2f} sec\")"
   ]
  },
  {
   "cell_type": "code",
   "execution_count": 12,
   "id": "5b59c64d",
   "metadata": {},
   "outputs": [
    {
     "name": "stdout",
     "output_type": "stream",
     "text": [
      "\n",
      "Training with step = 25\n"
     ]
    },
    {
     "name": "stderr",
     "output_type": "stream",
     "text": [
      "train loss: 2.37e-01 | test loss: 2.43e-01 | reg: 5.98e+01 : 100%|██| 25/25 [02:43<00:00,  6.55s/it]\n"
     ]
    },
    {
     "name": "stdout",
     "output_type": "stream",
     "text": [
      "Train Accuracy: 0.91817737, Test Accuracy: 0.91199321, Duration: 163.87 sec\n",
      "\n",
      "Training with step = 50\n"
     ]
    },
    {
     "name": "stderr",
     "output_type": "stream",
     "text": [
      "train loss: 2.33e-01 | test loss: 2.41e-01 | reg: 5.85e+01 : 100%|██| 50/50 [05:19<00:00,  6.39s/it]\n"
     ]
    },
    {
     "name": "stdout",
     "output_type": "stream",
     "text": [
      "Train Accuracy: 0.92234540, Test Accuracy: 0.91454238, Duration: 319.66 sec\n",
      "\n",
      "Training with step = 75\n"
     ]
    },
    {
     "name": "stderr",
     "output_type": "stream",
     "text": [
      "train loss: 2.34e-01 | test loss: 2.42e-01 | reg: 7.74e+01 : 100%|██| 75/75 [08:06<00:00,  6.49s/it]\n"
     ]
    },
    {
     "name": "stdout",
     "output_type": "stream",
     "text": [
      "Train Accuracy: 0.91935092, Test Accuracy: 0.91284293, Duration: 486.90 sec\n",
      "\n",
      "Training with step = 100\n"
     ]
    },
    {
     "name": "stderr",
     "output_type": "stream",
     "text": [
      "train loss: 2.33e-01 | test loss: 2.42e-01 | reg: 8.25e+01 : 100%|█| 100/100 [10:32<00:00,  6.32s/it"
     ]
    },
    {
     "name": "stdout",
     "output_type": "stream",
     "text": [
      "Train Accuracy: 0.92169797, Test Accuracy: 0.91102207, Duration: 632.10 sec\n"
     ]
    },
    {
     "name": "stderr",
     "output_type": "stream",
     "text": [
      "\n"
     ]
    }
   ],
   "source": [
    "# fine-tune step\n",
    "st = time.time()\n",
    "\n",
    "step_values = [25, 50, 75, 100]\n",
    "results = []\n",
    "\n",
    "for step_val in step_values:\n",
    "    print(f\"\\nTraining with step = {step_val}\")\n",
    "    \n",
    "    st = time.time()\n",
    "    \n",
    "    model = KAN(width=[dataset['train_input'].shape[1], 3, 1], grid=3, k=1, device=device).to(device)\n",
    "    final_result = model.train(dataset, opt=\"LBFGS\", steps=step_val, metrics=(train_acc, test_acc), device=device)\n",
    "    \n",
    "    et = time.time()\n",
    "    duration = et - st\n",
    "    \n",
    "    train_accuracy = final_result['train_acc'][-1]\n",
    "    test_accuracy = final_result['test_acc'][-1]\n",
    "\n",
    "    print(f\"Train Accuracy: {train_accuracy:.8f}, Test Accuracy: {test_accuracy:.8f}, Duration: {duration:.2f} sec\")"
   ]
  },
  {
   "cell_type": "code",
   "execution_count": 13,
   "id": "c85ff4bc",
   "metadata": {},
   "outputs": [
    {
     "name": "stdout",
     "output_type": "stream",
     "text": [
      "\n",
      "Training with lamb = 0\n"
     ]
    },
    {
     "name": "stderr",
     "output_type": "stream",
     "text": [
      "train loss: 2.34e-01 | test loss: 2.41e-01 | reg: 5.17e+01 : 100%|██| 50/50 [05:24<00:00,  6.48s/it]\n"
     ]
    },
    {
     "name": "stdout",
     "output_type": "stream",
     "text": [
      "Train Accuracy: 0.92157656, Test Accuracy: 0.91369265, Duration: 324.07 sec\n",
      "\n",
      "Training with lamb = 0.1\n"
     ]
    },
    {
     "name": "stderr",
     "output_type": "stream",
     "text": [
      "train loss: 3.17e-01 | test loss: 3.20e-01 | reg: 1.25e+01 : 100%|██| 50/50 [05:20<00:00,  6.41s/it]\n"
     ]
    },
    {
     "name": "stdout",
     "output_type": "stream",
     "text": [
      "Train Accuracy: 0.88920361, Test Accuracy: 0.88783687, Duration: 320.63 sec\n",
      "\n",
      "Training with lamb = 0.01\n"
     ]
    },
    {
     "name": "stderr",
     "output_type": "stream",
     "text": [
      "train loss: 2.63e-01 | test loss: 2.63e-01 | reg: 1.20e+01 : 100%|██| 50/50 [05:28<00:00,  6.57s/it]\n"
     ]
    },
    {
     "name": "stdout",
     "output_type": "stream",
     "text": [
      "Train Accuracy: 0.90118158, Test Accuracy: 0.89742655, Duration: 328.42 sec\n",
      "\n",
      "Training with lamb = 0.001\n"
     ]
    },
    {
     "name": "stderr",
     "output_type": "stream",
     "text": [
      "train loss: 2.51e-01 | test loss: 2.52e-01 | reg: 1.31e+01 : 100%|██| 50/50 [05:34<00:00,  6.69s/it]"
     ]
    },
    {
     "name": "stdout",
     "output_type": "stream",
     "text": [
      "Train Accuracy: 0.90935576, Test Accuracy: 0.90592378, Duration: 334.64 sec\n"
     ]
    },
    {
     "name": "stderr",
     "output_type": "stream",
     "text": [
      "\n"
     ]
    }
   ],
   "source": [
    "# fine-tune lamb\n",
    "st = time.time()\n",
    "\n",
    "lamb_values = [0, 0.1, 0.01, 0.001]\n",
    "results = []\n",
    "\n",
    "for lamb_val in lamb_values:\n",
    "    print(f\"\\nTraining with lamb = {lamb_val}\")\n",
    "    \n",
    "    st = time.time()\n",
    "    \n",
    "    model = KAN(width=[dataset['train_input'].shape[1], 3, 1], grid=3, k=1, device=device).to(device)\n",
    "    final_result = model.train(dataset, opt=\"LBFGS\", steps=50, lamb=lamb_val, metrics=(train_acc, test_acc), device=device)\n",
    "    \n",
    "    et = time.time()\n",
    "    duration = et - st\n",
    "    \n",
    "    train_accuracy = final_result['train_acc'][-1]\n",
    "    test_accuracy = final_result['test_acc'][-1]\n",
    "\n",
    "    print(f\"Train Accuracy: {train_accuracy:.8f}, Test Accuracy: {test_accuracy:.8f}, Duration: {duration:.2f} sec\")"
   ]
  },
  {
   "cell_type": "code",
   "execution_count": 14,
   "id": "f1e156d8",
   "metadata": {},
   "outputs": [
    {
     "name": "stdout",
     "output_type": "stream",
     "text": [
      "\n",
      "Training with lamb entropy = 0\n"
     ]
    },
    {
     "name": "stderr",
     "output_type": "stream",
     "text": [
      "train loss: 2.35e-01 | test loss: 2.43e-01 | reg: 4.35e+01 : 100%|██| 50/50 [05:26<00:00,  6.53s/it]\n"
     ]
    },
    {
     "name": "stdout",
     "output_type": "stream",
     "text": [
      "Train Accuracy: 0.91935092, Test Accuracy: 0.91090071, Duration: 326.31 sec\n",
      "\n",
      "Training with lamb entropy = 0.1\n"
     ]
    },
    {
     "name": "stderr",
     "output_type": "stream",
     "text": [
      "train loss: 2.36e-01 | test loss: 2.42e-01 | reg: 1.09e+02 : 100%|██| 50/50 [05:33<00:00,  6.68s/it]\n"
     ]
    },
    {
     "name": "stdout",
     "output_type": "stream",
     "text": [
      "Train Accuracy: 0.91854161, Test Accuracy: 0.91344988, Duration: 333.89 sec\n",
      "\n",
      "Training with lamb entropy = 0.01\n"
     ]
    },
    {
     "name": "stderr",
     "output_type": "stream",
     "text": [
      "train loss: 2.34e-01 | test loss: 2.42e-01 | reg: 4.05e+01 : 100%|██| 50/50 [05:25<00:00,  6.51s/it]\n"
     ]
    },
    {
     "name": "stdout",
     "output_type": "stream",
     "text": [
      "Train Accuracy: 0.92096955, Test Accuracy: 0.91175044, Duration: 325.29 sec\n",
      "\n",
      "Training with lamb entropy = 0.001\n"
     ]
    },
    {
     "name": "stderr",
     "output_type": "stream",
     "text": [
      "train loss: 2.34e-01 | test loss: 2.43e-01 | reg: 4.00e+01 : 100%|██| 50/50 [05:23<00:00,  6.47s/it]"
     ]
    },
    {
     "name": "stdout",
     "output_type": "stream",
     "text": [
      "Train Accuracy: 0.91975558, Test Accuracy: 0.91369265, Duration: 323.62 sec\n"
     ]
    },
    {
     "name": "stderr",
     "output_type": "stream",
     "text": [
      "\n"
     ]
    }
   ],
   "source": [
    "# fine-tune lamb entropy\n",
    "st = time.time()\n",
    "\n",
    "lamb_ent_values = [0, 0.1, 0.01, 0.001]\n",
    "results = []\n",
    "\n",
    "for lamb_ent_val in lamb_ent_values:\n",
    "    print(f\"\\nTraining with lamb entropy = {lamb_ent_val}\")\n",
    "    \n",
    "    st = time.time()\n",
    "    \n",
    "    model = KAN(width=[dataset['train_input'].shape[1], 3, 1], grid=3, k=1, device=device).to(device)\n",
    "    final_result = model.train(dataset, opt=\"LBFGS\", steps=50, lamb=0, lamb_entropy=lamb_ent_val, metrics=(train_acc, test_acc), device=device)\n",
    "    \n",
    "    et = time.time()\n",
    "    duration = et - st\n",
    "    \n",
    "    train_accuracy = final_result['train_acc'][-1]\n",
    "    test_accuracy = final_result['test_acc'][-1]\n",
    "\n",
    "    print(f\"Train Accuracy: {train_accuracy:.8f}, Test Accuracy: {test_accuracy:.8f}, Duration: {duration:.2f} sec\")"
   ]
  },
  {
   "cell_type": "code",
   "execution_count": 15,
   "id": "3018008d",
   "metadata": {},
   "outputs": [
    {
     "name": "stderr",
     "output_type": "stream",
     "text": [
      "train loss: 2.34e-01 | test loss: 2.41e-01 | reg: 4.15e+01 : 100%|██| 50/50 [05:26<00:00,  6.53s/it]"
     ]
    },
    {
     "name": "stdout",
     "output_type": "stream",
     "text": [
      "Accuracy 0.9217788577079773 0.9135712385177612\n",
      "Duration 326.672890663147\n"
     ]
    },
    {
     "name": "stderr",
     "output_type": "stream",
     "text": [
      "\n"
     ]
    },
    {
     "data": {
      "image/png": "[encoded data removed]",
      "text/plain": [
       "<Figure size 640x480 with 2 Axes>"
      ]
     },
     "metadata": {},
     "output_type": "display_data"
    },
    {
     "name": "stdout",
     "output_type": "stream",
     "text": [
      "Accuracy: 0.9135712551590192\n",
      "Precision: 0.644\n",
      "Recall: 0.5204741379310345\n",
      "F1 Score: 0.5756853396901074\n"
     ]
    }
   ],
   "source": [
    "# after fine-tune\n",
    "st = time.time()\n",
    "\n",
    "best_model = {'grid': 3, 'k': 1, 'step': 50, 'lamb': 0, 'lamb_entropy': 0.001}\n",
    "\n",
    "model = KAN(width=[dataset['train_input'].shape[1], 3, 1], grid=best_model['grid'], k=best_model['k'], device=device).to(device)\n",
    "final_result = model.train(dataset, opt=\"LBFGS\", steps=best_model['step'], lamb=best_model['lamb'], lamb_entropy=best_model['lamb_entropy'], metrics=(train_acc, test_acc), device=device)\n",
    "\n",
    "et = time.time()\n",
    "duration = et-st\n",
    "\n",
    "print(\"Accuracy\", final_result['train_acc'][-1], final_result['test_acc'][-1])\n",
    "print(\"Duration\", duration)\n",
    "\n",
    "# get predicted values\n",
    "with torch.no_grad():\n",
    "    test_inputs = dataset['test_input'].clone().detach().to(device)\n",
    "    actual_labels = dataset['test_label'].clone().detach().to(device)\n",
    "    predicted_probs = model(test_inputs)\n",
    "    predicted_labels = (predicted_probs > 0.5).float()\n",
    "    \n",
    "y_pred = predicted_labels.cpu().numpy()\n",
    "y_true = actual_labels.cpu().numpy()\n",
    "\n",
    "conf_matrix = confusion_matrix(y_true, y_pred)\n",
    "tn, fp, fn, tp = confusion_matrix(y_true, y_pred).ravel()\n",
    "\n",
    "accuracy = (tn+tp)/(tn+fp+fn+tp)\n",
    "precision = tp / (tp + fp) if (tp + fp) != 0 else 0\n",
    "recall = tp / (tp + fn) if (tp + fn) != 0 else 0\n",
    "f1_score = 2 * (precision * recall) / (precision + recall) if (precision + recall) != 0 else 0\n",
    "\n",
    "# confusion matrix heatmap\n",
    "plt.figure()\n",
    "sns.heatmap(conf_matrix, annot=True, fmt='d', cmap='Blues', xticklabels=['Not Converted', 'Converted'], yticklabels=['Not Converted', 'Converted'])\n",
    "plt.xlabel('Predicted')\n",
    "plt.ylabel('Actual')\n",
    "plt.show()\n",
    "\n",
    "# performance metrics\n",
    "print(f'Accuracy: {accuracy}')\n",
    "print(f'Precision: {precision}')\n",
    "print(f'Recall: {recall}')\n",
    "print(f'F1 Score: {f1_score}')"
   ]
  },
  {
   "cell_type": "code",
   "execution_count": 16,
   "id": "c60c52bc",
   "metadata": {},
   "outputs": [],
   "source": [
    "# save to csv\n",
    "filename = \"30.csv\"\n",
    "with open(filename, mode='w', newline='') as file:\n",
    "    writer = csv.writer(file)\n",
    "    writer.writerow([\"Metric\", \"Before\", \"After\"])\n",
    "    writer.writerow([\"Accuracy\", accuracy_b4, accuracy])\n",
    "    writer.writerow([\"Precision\", precision_b4, precision])\n",
    "    writer.writerow([\"Recall\", recall_b4, recall])\n",
    "    writer.writerow([\"F1 Score\", f1_score_b4, f1_score])\n",
    "    writer.writerow([\"Duration\", duration_b4, duration])"
   ]
  },
  {
   "cell_type": "code",
   "execution_count": null,
   "id": "bf7e4693",
   "metadata": {},
   "outputs": [],
   "source": []
  }
 ],
 "metadata": {
  "kernelspec": {
   "display_name": "Python (test_gpu)",
   "language": "python",
   "name": "test_gpu"
  },
  "language_info": {
   "codemirror_mode": {
    "name": "ipython",
    "version": 3
   },
   "file_extension": ".py",
   "mimetype": "text/x-python",
   "name": "python",
   "nbconvert_exporter": "python",
   "pygments_lexer": "ipython3",
   "version": "3.9.19"
  }
 },
 "nbformat": 4,
 "nbformat_minor": 5
}
